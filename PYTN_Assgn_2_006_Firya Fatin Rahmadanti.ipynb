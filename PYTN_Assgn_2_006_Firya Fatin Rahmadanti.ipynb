{
 "cells": [
  {
   "cell_type": "markdown",
   "id": "ace97d79",
   "metadata": {},
   "source": [
    "# Assignment 2\n",
    "## Statistical Treatment for Retail Datasets"
   ]
  },
  {
   "cell_type": "raw",
   "id": "ece8c6d7",
   "metadata": {},
   "source": [
    "Import beberapa library yang akan digunakan, dan input data menggunakan read_csv menggunakan library pandas."
   ]
  },
  {
   "cell_type": "markdown",
   "id": "c3293a4b",
   "metadata": {},
   "source": [
    "**Import library dan data yang akan digunakan**"
   ]
  },
  {
   "cell_type": "code",
   "execution_count": 310,
   "id": "b3c62456",
   "metadata": {},
   "outputs": [],
   "source": [
    "import math\n",
    "import statistics\n",
    "import numpy as np\n",
    "import scipy.stats\n",
    "import pandas as pd\n",
    "import matplotlib.pyplot as plt"
   ]
  },
  {
   "cell_type": "code",
   "execution_count": 337,
   "id": "4f1ad27a",
   "metadata": {},
   "outputs": [],
   "source": [
    "data = pd.read_csv(\"nyc-rolling-sales.csv\")"
   ]
  },
  {
   "cell_type": "markdown",
   "id": "912ba2e0",
   "metadata": {},
   "source": [
    "## *1. Preprocessing Data : Data Cleansing*\n",
    "Sebelum melakukan analisis data, dilakukan terlebih dahulu langkah pre processing data agar data yang akan dianalisis sudah cukup baik sehingga tidak terjadi garbage in dan garbage out.\n",
    "### Melihat Missing Value\n",
    " dilakukan pencarian apakah terdapat data hilang (*Standard missing value*) menggunakan library pandas."
   ]
  },
  {
   "cell_type": "code",
   "execution_count": 338,
   "id": "8b3a4562",
   "metadata": {},
   "outputs": [
    {
     "data": {
      "text/html": [
       "<div>\n",
       "<style scoped>\n",
       "    .dataframe tbody tr th:only-of-type {\n",
       "        vertical-align: middle;\n",
       "    }\n",
       "\n",
       "    .dataframe tbody tr th {\n",
       "        vertical-align: top;\n",
       "    }\n",
       "\n",
       "    .dataframe thead th {\n",
       "        text-align: right;\n",
       "    }\n",
       "</style>\n",
       "<table border=\"1\" class=\"dataframe\">\n",
       "  <thead>\n",
       "    <tr style=\"text-align: right;\">\n",
       "      <th></th>\n",
       "      <th>Unnamed: 0</th>\n",
       "      <th>BOROUGH</th>\n",
       "      <th>NEIGHBORHOOD</th>\n",
       "      <th>BUILDING CLASS CATEGORY</th>\n",
       "      <th>TAX CLASS AT PRESENT</th>\n",
       "      <th>BLOCK</th>\n",
       "      <th>LOT</th>\n",
       "      <th>EASE-MENT</th>\n",
       "      <th>BUILDING CLASS AT PRESENT</th>\n",
       "      <th>ADDRESS</th>\n",
       "      <th>...</th>\n",
       "      <th>RESIDENTIAL UNITS</th>\n",
       "      <th>COMMERCIAL UNITS</th>\n",
       "      <th>TOTAL UNITS</th>\n",
       "      <th>LAND SQUARE FEET</th>\n",
       "      <th>GROSS SQUARE FEET</th>\n",
       "      <th>YEAR BUILT</th>\n",
       "      <th>TAX CLASS AT TIME OF SALE</th>\n",
       "      <th>BUILDING CLASS AT TIME OF SALE</th>\n",
       "      <th>SALE PRICE</th>\n",
       "      <th>SALE DATE</th>\n",
       "    </tr>\n",
       "  </thead>\n",
       "  <tbody>\n",
       "    <tr>\n",
       "      <th>0</th>\n",
       "      <td>4</td>\n",
       "      <td>1</td>\n",
       "      <td>ALPHABET CITY</td>\n",
       "      <td>07 RENTALS - WALKUP APARTMENTS</td>\n",
       "      <td>2A</td>\n",
       "      <td>392</td>\n",
       "      <td>6</td>\n",
       "      <td></td>\n",
       "      <td>C2</td>\n",
       "      <td>153 AVENUE B</td>\n",
       "      <td>...</td>\n",
       "      <td>5</td>\n",
       "      <td>0</td>\n",
       "      <td>5</td>\n",
       "      <td>1633</td>\n",
       "      <td>6440</td>\n",
       "      <td>1900</td>\n",
       "      <td>2</td>\n",
       "      <td>C2</td>\n",
       "      <td>6625000</td>\n",
       "      <td>2017-07-19 00:00:00</td>\n",
       "    </tr>\n",
       "    <tr>\n",
       "      <th>1</th>\n",
       "      <td>5</td>\n",
       "      <td>1</td>\n",
       "      <td>ALPHABET CITY</td>\n",
       "      <td>07 RENTALS - WALKUP APARTMENTS</td>\n",
       "      <td>2</td>\n",
       "      <td>399</td>\n",
       "      <td>26</td>\n",
       "      <td></td>\n",
       "      <td>C7</td>\n",
       "      <td>234 EAST 4TH   STREET</td>\n",
       "      <td>...</td>\n",
       "      <td>28</td>\n",
       "      <td>3</td>\n",
       "      <td>31</td>\n",
       "      <td>4616</td>\n",
       "      <td>18690</td>\n",
       "      <td>1900</td>\n",
       "      <td>2</td>\n",
       "      <td>C7</td>\n",
       "      <td>-</td>\n",
       "      <td>2016-12-14 00:00:00</td>\n",
       "    </tr>\n",
       "    <tr>\n",
       "      <th>2</th>\n",
       "      <td>6</td>\n",
       "      <td>1</td>\n",
       "      <td>ALPHABET CITY</td>\n",
       "      <td>07 RENTALS - WALKUP APARTMENTS</td>\n",
       "      <td>2</td>\n",
       "      <td>399</td>\n",
       "      <td>39</td>\n",
       "      <td></td>\n",
       "      <td>C7</td>\n",
       "      <td>197 EAST 3RD   STREET</td>\n",
       "      <td>...</td>\n",
       "      <td>16</td>\n",
       "      <td>1</td>\n",
       "      <td>17</td>\n",
       "      <td>2212</td>\n",
       "      <td>7803</td>\n",
       "      <td>1900</td>\n",
       "      <td>2</td>\n",
       "      <td>C7</td>\n",
       "      <td>-</td>\n",
       "      <td>2016-12-09 00:00:00</td>\n",
       "    </tr>\n",
       "    <tr>\n",
       "      <th>3</th>\n",
       "      <td>7</td>\n",
       "      <td>1</td>\n",
       "      <td>ALPHABET CITY</td>\n",
       "      <td>07 RENTALS - WALKUP APARTMENTS</td>\n",
       "      <td>2B</td>\n",
       "      <td>402</td>\n",
       "      <td>21</td>\n",
       "      <td></td>\n",
       "      <td>C4</td>\n",
       "      <td>154 EAST 7TH STREET</td>\n",
       "      <td>...</td>\n",
       "      <td>10</td>\n",
       "      <td>0</td>\n",
       "      <td>10</td>\n",
       "      <td>2272</td>\n",
       "      <td>6794</td>\n",
       "      <td>1913</td>\n",
       "      <td>2</td>\n",
       "      <td>C4</td>\n",
       "      <td>3936272</td>\n",
       "      <td>2016-09-23 00:00:00</td>\n",
       "    </tr>\n",
       "    <tr>\n",
       "      <th>4</th>\n",
       "      <td>8</td>\n",
       "      <td>1</td>\n",
       "      <td>ALPHABET CITY</td>\n",
       "      <td>07 RENTALS - WALKUP APARTMENTS</td>\n",
       "      <td>2A</td>\n",
       "      <td>404</td>\n",
       "      <td>55</td>\n",
       "      <td></td>\n",
       "      <td>C2</td>\n",
       "      <td>301 EAST 10TH   STREET</td>\n",
       "      <td>...</td>\n",
       "      <td>6</td>\n",
       "      <td>0</td>\n",
       "      <td>6</td>\n",
       "      <td>2369</td>\n",
       "      <td>4615</td>\n",
       "      <td>1900</td>\n",
       "      <td>2</td>\n",
       "      <td>C2</td>\n",
       "      <td>8000000</td>\n",
       "      <td>2016-11-17 00:00:00</td>\n",
       "    </tr>\n",
       "  </tbody>\n",
       "</table>\n",
       "<p>5 rows × 22 columns</p>\n",
       "</div>"
      ],
      "text/plain": [
       "   Unnamed: 0  BOROUGH   NEIGHBORHOOD  \\\n",
       "0           4        1  ALPHABET CITY   \n",
       "1           5        1  ALPHABET CITY   \n",
       "2           6        1  ALPHABET CITY   \n",
       "3           7        1  ALPHABET CITY   \n",
       "4           8        1  ALPHABET CITY   \n",
       "\n",
       "                       BUILDING CLASS CATEGORY TAX CLASS AT PRESENT  BLOCK  \\\n",
       "0  07 RENTALS - WALKUP APARTMENTS                                2A    392   \n",
       "1  07 RENTALS - WALKUP APARTMENTS                                 2    399   \n",
       "2  07 RENTALS - WALKUP APARTMENTS                                 2    399   \n",
       "3  07 RENTALS - WALKUP APARTMENTS                                2B    402   \n",
       "4  07 RENTALS - WALKUP APARTMENTS                                2A    404   \n",
       "\n",
       "   LOT EASE-MENT BUILDING CLASS AT PRESENT                 ADDRESS  ...  \\\n",
       "0    6                                  C2            153 AVENUE B  ...   \n",
       "1   26                                  C7   234 EAST 4TH   STREET  ...   \n",
       "2   39                                  C7   197 EAST 3RD   STREET  ...   \n",
       "3   21                                  C4     154 EAST 7TH STREET  ...   \n",
       "4   55                                  C2  301 EAST 10TH   STREET  ...   \n",
       "\n",
       "  RESIDENTIAL UNITS  COMMERCIAL UNITS  TOTAL UNITS  LAND SQUARE FEET  \\\n",
       "0                 5                 0            5              1633   \n",
       "1                28                 3           31              4616   \n",
       "2                16                 1           17              2212   \n",
       "3                10                 0           10              2272   \n",
       "4                 6                 0            6              2369   \n",
       "\n",
       "   GROSS SQUARE FEET YEAR BUILT TAX CLASS AT TIME OF SALE  \\\n",
       "0               6440       1900                         2   \n",
       "1              18690       1900                         2   \n",
       "2               7803       1900                         2   \n",
       "3               6794       1913                         2   \n",
       "4               4615       1900                         2   \n",
       "\n",
       "   BUILDING CLASS AT TIME OF SALE  SALE PRICE            SALE DATE  \n",
       "0                              C2     6625000  2017-07-19 00:00:00  \n",
       "1                              C7         -    2016-12-14 00:00:00  \n",
       "2                              C7         -    2016-12-09 00:00:00  \n",
       "3                              C4     3936272  2016-09-23 00:00:00  \n",
       "4                              C2     8000000  2016-11-17 00:00:00  \n",
       "\n",
       "[5 rows x 22 columns]"
      ]
     },
     "execution_count": 338,
     "metadata": {},
     "output_type": "execute_result"
    }
   ],
   "source": [
    "data.head()"
   ]
  },
  {
   "cell_type": "code",
   "execution_count": 339,
   "id": "1985f883",
   "metadata": {},
   "outputs": [
    {
     "name": "stdout",
     "output_type": "stream",
     "text": [
      "<class 'pandas.core.frame.DataFrame'>\n",
      "RangeIndex: 84548 entries, 0 to 84547\n",
      "Data columns (total 22 columns):\n",
      " #   Column                          Non-Null Count  Dtype \n",
      "---  ------                          --------------  ----- \n",
      " 0   Unnamed: 0                      84548 non-null  int64 \n",
      " 1   BOROUGH                         84548 non-null  int64 \n",
      " 2   NEIGHBORHOOD                    84548 non-null  object\n",
      " 3   BUILDING CLASS CATEGORY         84548 non-null  object\n",
      " 4   TAX CLASS AT PRESENT            84548 non-null  object\n",
      " 5   BLOCK                           84548 non-null  int64 \n",
      " 6   LOT                             84548 non-null  int64 \n",
      " 7   EASE-MENT                       84548 non-null  object\n",
      " 8   BUILDING CLASS AT PRESENT       84548 non-null  object\n",
      " 9   ADDRESS                         84548 non-null  object\n",
      " 10  APARTMENT NUMBER                84548 non-null  object\n",
      " 11  ZIP CODE                        84548 non-null  int64 \n",
      " 12  RESIDENTIAL UNITS               84548 non-null  int64 \n",
      " 13  COMMERCIAL UNITS                84548 non-null  int64 \n",
      " 14  TOTAL UNITS                     84548 non-null  int64 \n",
      " 15  LAND SQUARE FEET                84548 non-null  object\n",
      " 16  GROSS SQUARE FEET               84548 non-null  object\n",
      " 17  YEAR BUILT                      84548 non-null  int64 \n",
      " 18  TAX CLASS AT TIME OF SALE       84548 non-null  int64 \n",
      " 19  BUILDING CLASS AT TIME OF SALE  84548 non-null  object\n",
      " 20  SALE PRICE                      84548 non-null  object\n",
      " 21  SALE DATE                       84548 non-null  object\n",
      "dtypes: int64(10), object(12)\n",
      "memory usage: 14.2+ MB\n"
     ]
    }
   ],
   "source": [
    "data.info()"
   ]
  },
  {
   "cell_type": "code",
   "execution_count": 340,
   "id": "a703e726",
   "metadata": {},
   "outputs": [
    {
     "data": {
      "text/plain": [
       "(84548, 22)"
      ]
     },
     "execution_count": 340,
     "metadata": {},
     "output_type": "execute_result"
    }
   ],
   "source": [
    "data.shape"
   ]
  },
  {
   "cell_type": "markdown",
   "id": "7a3789c8",
   "metadata": {},
   "source": [
    "> Setelah dilihat menggunakan .info menunjukkan tidak terdapat missing value, namun pada kolom sales terlihat beberapa tanda \"-\" yang menunjukkan bahwa tidak terdapat data pada kolom tersebut atau yang disebut data kosong sehingga dilakukan replace \"-\" dengan nan.  "
   ]
  },
  {
   "cell_type": "code",
   "execution_count": 341,
   "id": "2cbe0101",
   "metadata": {},
   "outputs": [],
   "source": [
    "data = data.replace(' -  ', np.nan)\n",
    "data = data.replace('', np.nan)"
   ]
  },
  {
   "cell_type": "code",
   "execution_count": 321,
   "id": "4b860deb",
   "metadata": {},
   "outputs": [
    {
     "data": {
      "text/html": [
       "<div>\n",
       "<style scoped>\n",
       "    .dataframe tbody tr th:only-of-type {\n",
       "        vertical-align: middle;\n",
       "    }\n",
       "\n",
       "    .dataframe tbody tr th {\n",
       "        vertical-align: top;\n",
       "    }\n",
       "\n",
       "    .dataframe thead th {\n",
       "        text-align: right;\n",
       "    }\n",
       "</style>\n",
       "<table border=\"1\" class=\"dataframe\">\n",
       "  <thead>\n",
       "    <tr style=\"text-align: right;\">\n",
       "      <th></th>\n",
       "      <th>Unnamed: 0</th>\n",
       "      <th>BOROUGH</th>\n",
       "      <th>NEIGHBORHOOD</th>\n",
       "      <th>BUILDING CLASS CATEGORY</th>\n",
       "      <th>TAX CLASS AT PRESENT</th>\n",
       "      <th>BLOCK</th>\n",
       "      <th>LOT</th>\n",
       "      <th>EASE-MENT</th>\n",
       "      <th>BUILDING CLASS AT PRESENT</th>\n",
       "      <th>ADDRESS</th>\n",
       "      <th>...</th>\n",
       "      <th>RESIDENTIAL UNITS</th>\n",
       "      <th>COMMERCIAL UNITS</th>\n",
       "      <th>TOTAL UNITS</th>\n",
       "      <th>LAND SQUARE FEET</th>\n",
       "      <th>GROSS SQUARE FEET</th>\n",
       "      <th>YEAR BUILT</th>\n",
       "      <th>TAX CLASS AT TIME OF SALE</th>\n",
       "      <th>BUILDING CLASS AT TIME OF SALE</th>\n",
       "      <th>SALE PRICE</th>\n",
       "      <th>SALE DATE</th>\n",
       "    </tr>\n",
       "  </thead>\n",
       "  <tbody>\n",
       "    <tr>\n",
       "      <th>0</th>\n",
       "      <td>4</td>\n",
       "      <td>1</td>\n",
       "      <td>ALPHABET CITY</td>\n",
       "      <td>07 RENTALS - WALKUP APARTMENTS</td>\n",
       "      <td>2A</td>\n",
       "      <td>392</td>\n",
       "      <td>6</td>\n",
       "      <td></td>\n",
       "      <td>C2</td>\n",
       "      <td>153 AVENUE B</td>\n",
       "      <td>...</td>\n",
       "      <td>5</td>\n",
       "      <td>0</td>\n",
       "      <td>5</td>\n",
       "      <td>1633</td>\n",
       "      <td>6440</td>\n",
       "      <td>1900</td>\n",
       "      <td>2</td>\n",
       "      <td>C2</td>\n",
       "      <td>6625000</td>\n",
       "      <td>2017-07-19 00:00:00</td>\n",
       "    </tr>\n",
       "    <tr>\n",
       "      <th>1</th>\n",
       "      <td>5</td>\n",
       "      <td>1</td>\n",
       "      <td>ALPHABET CITY</td>\n",
       "      <td>07 RENTALS - WALKUP APARTMENTS</td>\n",
       "      <td>2</td>\n",
       "      <td>399</td>\n",
       "      <td>26</td>\n",
       "      <td></td>\n",
       "      <td>C7</td>\n",
       "      <td>234 EAST 4TH   STREET</td>\n",
       "      <td>...</td>\n",
       "      <td>28</td>\n",
       "      <td>3</td>\n",
       "      <td>31</td>\n",
       "      <td>4616</td>\n",
       "      <td>18690</td>\n",
       "      <td>1900</td>\n",
       "      <td>2</td>\n",
       "      <td>C7</td>\n",
       "      <td>NaN</td>\n",
       "      <td>2016-12-14 00:00:00</td>\n",
       "    </tr>\n",
       "    <tr>\n",
       "      <th>2</th>\n",
       "      <td>6</td>\n",
       "      <td>1</td>\n",
       "      <td>ALPHABET CITY</td>\n",
       "      <td>07 RENTALS - WALKUP APARTMENTS</td>\n",
       "      <td>2</td>\n",
       "      <td>399</td>\n",
       "      <td>39</td>\n",
       "      <td></td>\n",
       "      <td>C7</td>\n",
       "      <td>197 EAST 3RD   STREET</td>\n",
       "      <td>...</td>\n",
       "      <td>16</td>\n",
       "      <td>1</td>\n",
       "      <td>17</td>\n",
       "      <td>2212</td>\n",
       "      <td>7803</td>\n",
       "      <td>1900</td>\n",
       "      <td>2</td>\n",
       "      <td>C7</td>\n",
       "      <td>NaN</td>\n",
       "      <td>2016-12-09 00:00:00</td>\n",
       "    </tr>\n",
       "    <tr>\n",
       "      <th>3</th>\n",
       "      <td>7</td>\n",
       "      <td>1</td>\n",
       "      <td>ALPHABET CITY</td>\n",
       "      <td>07 RENTALS - WALKUP APARTMENTS</td>\n",
       "      <td>2B</td>\n",
       "      <td>402</td>\n",
       "      <td>21</td>\n",
       "      <td></td>\n",
       "      <td>C4</td>\n",
       "      <td>154 EAST 7TH STREET</td>\n",
       "      <td>...</td>\n",
       "      <td>10</td>\n",
       "      <td>0</td>\n",
       "      <td>10</td>\n",
       "      <td>2272</td>\n",
       "      <td>6794</td>\n",
       "      <td>1913</td>\n",
       "      <td>2</td>\n",
       "      <td>C4</td>\n",
       "      <td>3936272</td>\n",
       "      <td>2016-09-23 00:00:00</td>\n",
       "    </tr>\n",
       "    <tr>\n",
       "      <th>4</th>\n",
       "      <td>8</td>\n",
       "      <td>1</td>\n",
       "      <td>ALPHABET CITY</td>\n",
       "      <td>07 RENTALS - WALKUP APARTMENTS</td>\n",
       "      <td>2A</td>\n",
       "      <td>404</td>\n",
       "      <td>55</td>\n",
       "      <td></td>\n",
       "      <td>C2</td>\n",
       "      <td>301 EAST 10TH   STREET</td>\n",
       "      <td>...</td>\n",
       "      <td>6</td>\n",
       "      <td>0</td>\n",
       "      <td>6</td>\n",
       "      <td>2369</td>\n",
       "      <td>4615</td>\n",
       "      <td>1900</td>\n",
       "      <td>2</td>\n",
       "      <td>C2</td>\n",
       "      <td>8000000</td>\n",
       "      <td>2016-11-17 00:00:00</td>\n",
       "    </tr>\n",
       "  </tbody>\n",
       "</table>\n",
       "<p>5 rows × 22 columns</p>\n",
       "</div>"
      ],
      "text/plain": [
       "   Unnamed: 0  BOROUGH   NEIGHBORHOOD  \\\n",
       "0           4        1  ALPHABET CITY   \n",
       "1           5        1  ALPHABET CITY   \n",
       "2           6        1  ALPHABET CITY   \n",
       "3           7        1  ALPHABET CITY   \n",
       "4           8        1  ALPHABET CITY   \n",
       "\n",
       "                       BUILDING CLASS CATEGORY TAX CLASS AT PRESENT  BLOCK  \\\n",
       "0  07 RENTALS - WALKUP APARTMENTS                                2A    392   \n",
       "1  07 RENTALS - WALKUP APARTMENTS                                 2    399   \n",
       "2  07 RENTALS - WALKUP APARTMENTS                                 2    399   \n",
       "3  07 RENTALS - WALKUP APARTMENTS                                2B    402   \n",
       "4  07 RENTALS - WALKUP APARTMENTS                                2A    404   \n",
       "\n",
       "   LOT EASE-MENT BUILDING CLASS AT PRESENT                 ADDRESS  ...  \\\n",
       "0    6                                  C2            153 AVENUE B  ...   \n",
       "1   26                                  C7   234 EAST 4TH   STREET  ...   \n",
       "2   39                                  C7   197 EAST 3RD   STREET  ...   \n",
       "3   21                                  C4     154 EAST 7TH STREET  ...   \n",
       "4   55                                  C2  301 EAST 10TH   STREET  ...   \n",
       "\n",
       "  RESIDENTIAL UNITS  COMMERCIAL UNITS  TOTAL UNITS  LAND SQUARE FEET  \\\n",
       "0                 5                 0            5              1633   \n",
       "1                28                 3           31              4616   \n",
       "2                16                 1           17              2212   \n",
       "3                10                 0           10              2272   \n",
       "4                 6                 0            6              2369   \n",
       "\n",
       "   GROSS SQUARE FEET YEAR BUILT TAX CLASS AT TIME OF SALE  \\\n",
       "0               6440       1900                         2   \n",
       "1              18690       1900                         2   \n",
       "2               7803       1900                         2   \n",
       "3               6794       1913                         2   \n",
       "4               4615       1900                         2   \n",
       "\n",
       "   BUILDING CLASS AT TIME OF SALE  SALE PRICE            SALE DATE  \n",
       "0                              C2     6625000  2017-07-19 00:00:00  \n",
       "1                              C7         NaN  2016-12-14 00:00:00  \n",
       "2                              C7         NaN  2016-12-09 00:00:00  \n",
       "3                              C4     3936272  2016-09-23 00:00:00  \n",
       "4                              C2     8000000  2016-11-17 00:00:00  \n",
       "\n",
       "[5 rows x 22 columns]"
      ]
     },
     "execution_count": 321,
     "metadata": {},
     "output_type": "execute_result"
    }
   ],
   "source": [
    "data.head()"
   ]
  },
  {
   "cell_type": "code",
   "execution_count": 342,
   "id": "2f436a4e",
   "metadata": {},
   "outputs": [
    {
     "data": {
      "text/html": [
       "<div>\n",
       "<style scoped>\n",
       "    .dataframe tbody tr th:only-of-type {\n",
       "        vertical-align: middle;\n",
       "    }\n",
       "\n",
       "    .dataframe tbody tr th {\n",
       "        vertical-align: top;\n",
       "    }\n",
       "\n",
       "    .dataframe thead th {\n",
       "        text-align: right;\n",
       "    }\n",
       "</style>\n",
       "<table border=\"1\" class=\"dataframe\">\n",
       "  <thead>\n",
       "    <tr style=\"text-align: right;\">\n",
       "      <th></th>\n",
       "      <th>Unnamed: 0</th>\n",
       "      <th>BOROUGH</th>\n",
       "      <th>NEIGHBORHOOD</th>\n",
       "      <th>BUILDING CLASS CATEGORY</th>\n",
       "      <th>TAX CLASS AT PRESENT</th>\n",
       "      <th>BLOCK</th>\n",
       "      <th>LOT</th>\n",
       "      <th>EASE-MENT</th>\n",
       "      <th>BUILDING CLASS AT PRESENT</th>\n",
       "      <th>ADDRESS</th>\n",
       "      <th>...</th>\n",
       "      <th>RESIDENTIAL UNITS</th>\n",
       "      <th>COMMERCIAL UNITS</th>\n",
       "      <th>TOTAL UNITS</th>\n",
       "      <th>LAND SQUARE FEET</th>\n",
       "      <th>GROSS SQUARE FEET</th>\n",
       "      <th>YEAR BUILT</th>\n",
       "      <th>TAX CLASS AT TIME OF SALE</th>\n",
       "      <th>BUILDING CLASS AT TIME OF SALE</th>\n",
       "      <th>SALE PRICE</th>\n",
       "      <th>SALE DATE</th>\n",
       "    </tr>\n",
       "  </thead>\n",
       "  <tbody>\n",
       "    <tr>\n",
       "      <th>0</th>\n",
       "      <td>False</td>\n",
       "      <td>False</td>\n",
       "      <td>False</td>\n",
       "      <td>False</td>\n",
       "      <td>False</td>\n",
       "      <td>False</td>\n",
       "      <td>False</td>\n",
       "      <td>False</td>\n",
       "      <td>False</td>\n",
       "      <td>False</td>\n",
       "      <td>...</td>\n",
       "      <td>False</td>\n",
       "      <td>False</td>\n",
       "      <td>False</td>\n",
       "      <td>False</td>\n",
       "      <td>False</td>\n",
       "      <td>False</td>\n",
       "      <td>False</td>\n",
       "      <td>False</td>\n",
       "      <td>False</td>\n",
       "      <td>False</td>\n",
       "    </tr>\n",
       "    <tr>\n",
       "      <th>1</th>\n",
       "      <td>False</td>\n",
       "      <td>False</td>\n",
       "      <td>False</td>\n",
       "      <td>False</td>\n",
       "      <td>False</td>\n",
       "      <td>False</td>\n",
       "      <td>False</td>\n",
       "      <td>False</td>\n",
       "      <td>False</td>\n",
       "      <td>False</td>\n",
       "      <td>...</td>\n",
       "      <td>False</td>\n",
       "      <td>False</td>\n",
       "      <td>False</td>\n",
       "      <td>False</td>\n",
       "      <td>False</td>\n",
       "      <td>False</td>\n",
       "      <td>False</td>\n",
       "      <td>False</td>\n",
       "      <td>True</td>\n",
       "      <td>False</td>\n",
       "    </tr>\n",
       "    <tr>\n",
       "      <th>2</th>\n",
       "      <td>False</td>\n",
       "      <td>False</td>\n",
       "      <td>False</td>\n",
       "      <td>False</td>\n",
       "      <td>False</td>\n",
       "      <td>False</td>\n",
       "      <td>False</td>\n",
       "      <td>False</td>\n",
       "      <td>False</td>\n",
       "      <td>False</td>\n",
       "      <td>...</td>\n",
       "      <td>False</td>\n",
       "      <td>False</td>\n",
       "      <td>False</td>\n",
       "      <td>False</td>\n",
       "      <td>False</td>\n",
       "      <td>False</td>\n",
       "      <td>False</td>\n",
       "      <td>False</td>\n",
       "      <td>True</td>\n",
       "      <td>False</td>\n",
       "    </tr>\n",
       "    <tr>\n",
       "      <th>3</th>\n",
       "      <td>False</td>\n",
       "      <td>False</td>\n",
       "      <td>False</td>\n",
       "      <td>False</td>\n",
       "      <td>False</td>\n",
       "      <td>False</td>\n",
       "      <td>False</td>\n",
       "      <td>False</td>\n",
       "      <td>False</td>\n",
       "      <td>False</td>\n",
       "      <td>...</td>\n",
       "      <td>False</td>\n",
       "      <td>False</td>\n",
       "      <td>False</td>\n",
       "      <td>False</td>\n",
       "      <td>False</td>\n",
       "      <td>False</td>\n",
       "      <td>False</td>\n",
       "      <td>False</td>\n",
       "      <td>False</td>\n",
       "      <td>False</td>\n",
       "    </tr>\n",
       "    <tr>\n",
       "      <th>4</th>\n",
       "      <td>False</td>\n",
       "      <td>False</td>\n",
       "      <td>False</td>\n",
       "      <td>False</td>\n",
       "      <td>False</td>\n",
       "      <td>False</td>\n",
       "      <td>False</td>\n",
       "      <td>False</td>\n",
       "      <td>False</td>\n",
       "      <td>False</td>\n",
       "      <td>...</td>\n",
       "      <td>False</td>\n",
       "      <td>False</td>\n",
       "      <td>False</td>\n",
       "      <td>False</td>\n",
       "      <td>False</td>\n",
       "      <td>False</td>\n",
       "      <td>False</td>\n",
       "      <td>False</td>\n",
       "      <td>False</td>\n",
       "      <td>False</td>\n",
       "    </tr>\n",
       "    <tr>\n",
       "      <th>...</th>\n",
       "      <td>...</td>\n",
       "      <td>...</td>\n",
       "      <td>...</td>\n",
       "      <td>...</td>\n",
       "      <td>...</td>\n",
       "      <td>...</td>\n",
       "      <td>...</td>\n",
       "      <td>...</td>\n",
       "      <td>...</td>\n",
       "      <td>...</td>\n",
       "      <td>...</td>\n",
       "      <td>...</td>\n",
       "      <td>...</td>\n",
       "      <td>...</td>\n",
       "      <td>...</td>\n",
       "      <td>...</td>\n",
       "      <td>...</td>\n",
       "      <td>...</td>\n",
       "      <td>...</td>\n",
       "      <td>...</td>\n",
       "      <td>...</td>\n",
       "    </tr>\n",
       "    <tr>\n",
       "      <th>84543</th>\n",
       "      <td>False</td>\n",
       "      <td>False</td>\n",
       "      <td>False</td>\n",
       "      <td>False</td>\n",
       "      <td>False</td>\n",
       "      <td>False</td>\n",
       "      <td>False</td>\n",
       "      <td>False</td>\n",
       "      <td>False</td>\n",
       "      <td>False</td>\n",
       "      <td>...</td>\n",
       "      <td>False</td>\n",
       "      <td>False</td>\n",
       "      <td>False</td>\n",
       "      <td>False</td>\n",
       "      <td>False</td>\n",
       "      <td>False</td>\n",
       "      <td>False</td>\n",
       "      <td>False</td>\n",
       "      <td>False</td>\n",
       "      <td>False</td>\n",
       "    </tr>\n",
       "    <tr>\n",
       "      <th>84544</th>\n",
       "      <td>False</td>\n",
       "      <td>False</td>\n",
       "      <td>False</td>\n",
       "      <td>False</td>\n",
       "      <td>False</td>\n",
       "      <td>False</td>\n",
       "      <td>False</td>\n",
       "      <td>False</td>\n",
       "      <td>False</td>\n",
       "      <td>False</td>\n",
       "      <td>...</td>\n",
       "      <td>False</td>\n",
       "      <td>False</td>\n",
       "      <td>False</td>\n",
       "      <td>False</td>\n",
       "      <td>False</td>\n",
       "      <td>False</td>\n",
       "      <td>False</td>\n",
       "      <td>False</td>\n",
       "      <td>False</td>\n",
       "      <td>False</td>\n",
       "    </tr>\n",
       "    <tr>\n",
       "      <th>84545</th>\n",
       "      <td>False</td>\n",
       "      <td>False</td>\n",
       "      <td>False</td>\n",
       "      <td>False</td>\n",
       "      <td>False</td>\n",
       "      <td>False</td>\n",
       "      <td>False</td>\n",
       "      <td>False</td>\n",
       "      <td>False</td>\n",
       "      <td>False</td>\n",
       "      <td>...</td>\n",
       "      <td>False</td>\n",
       "      <td>False</td>\n",
       "      <td>False</td>\n",
       "      <td>False</td>\n",
       "      <td>False</td>\n",
       "      <td>False</td>\n",
       "      <td>False</td>\n",
       "      <td>False</td>\n",
       "      <td>False</td>\n",
       "      <td>False</td>\n",
       "    </tr>\n",
       "    <tr>\n",
       "      <th>84546</th>\n",
       "      <td>False</td>\n",
       "      <td>False</td>\n",
       "      <td>False</td>\n",
       "      <td>False</td>\n",
       "      <td>False</td>\n",
       "      <td>False</td>\n",
       "      <td>False</td>\n",
       "      <td>False</td>\n",
       "      <td>False</td>\n",
       "      <td>False</td>\n",
       "      <td>...</td>\n",
       "      <td>False</td>\n",
       "      <td>False</td>\n",
       "      <td>False</td>\n",
       "      <td>False</td>\n",
       "      <td>False</td>\n",
       "      <td>False</td>\n",
       "      <td>False</td>\n",
       "      <td>False</td>\n",
       "      <td>False</td>\n",
       "      <td>False</td>\n",
       "    </tr>\n",
       "    <tr>\n",
       "      <th>84547</th>\n",
       "      <td>False</td>\n",
       "      <td>False</td>\n",
       "      <td>False</td>\n",
       "      <td>False</td>\n",
       "      <td>False</td>\n",
       "      <td>False</td>\n",
       "      <td>False</td>\n",
       "      <td>False</td>\n",
       "      <td>False</td>\n",
       "      <td>False</td>\n",
       "      <td>...</td>\n",
       "      <td>False</td>\n",
       "      <td>False</td>\n",
       "      <td>False</td>\n",
       "      <td>False</td>\n",
       "      <td>False</td>\n",
       "      <td>False</td>\n",
       "      <td>False</td>\n",
       "      <td>False</td>\n",
       "      <td>False</td>\n",
       "      <td>False</td>\n",
       "    </tr>\n",
       "  </tbody>\n",
       "</table>\n",
       "<p>84548 rows × 22 columns</p>\n",
       "</div>"
      ],
      "text/plain": [
       "       Unnamed: 0  BOROUGH  NEIGHBORHOOD  BUILDING CLASS CATEGORY  \\\n",
       "0           False    False         False                    False   \n",
       "1           False    False         False                    False   \n",
       "2           False    False         False                    False   \n",
       "3           False    False         False                    False   \n",
       "4           False    False         False                    False   \n",
       "...           ...      ...           ...                      ...   \n",
       "84543       False    False         False                    False   \n",
       "84544       False    False         False                    False   \n",
       "84545       False    False         False                    False   \n",
       "84546       False    False         False                    False   \n",
       "84547       False    False         False                    False   \n",
       "\n",
       "       TAX CLASS AT PRESENT  BLOCK    LOT  EASE-MENT  \\\n",
       "0                     False  False  False      False   \n",
       "1                     False  False  False      False   \n",
       "2                     False  False  False      False   \n",
       "3                     False  False  False      False   \n",
       "4                     False  False  False      False   \n",
       "...                     ...    ...    ...        ...   \n",
       "84543                 False  False  False      False   \n",
       "84544                 False  False  False      False   \n",
       "84545                 False  False  False      False   \n",
       "84546                 False  False  False      False   \n",
       "84547                 False  False  False      False   \n",
       "\n",
       "       BUILDING CLASS AT PRESENT  ADDRESS  ...  RESIDENTIAL UNITS  \\\n",
       "0                          False    False  ...              False   \n",
       "1                          False    False  ...              False   \n",
       "2                          False    False  ...              False   \n",
       "3                          False    False  ...              False   \n",
       "4                          False    False  ...              False   \n",
       "...                          ...      ...  ...                ...   \n",
       "84543                      False    False  ...              False   \n",
       "84544                      False    False  ...              False   \n",
       "84545                      False    False  ...              False   \n",
       "84546                      False    False  ...              False   \n",
       "84547                      False    False  ...              False   \n",
       "\n",
       "       COMMERCIAL UNITS  TOTAL UNITS  LAND SQUARE FEET  GROSS SQUARE FEET  \\\n",
       "0                 False        False             False              False   \n",
       "1                 False        False             False              False   \n",
       "2                 False        False             False              False   \n",
       "3                 False        False             False              False   \n",
       "4                 False        False             False              False   \n",
       "...                 ...          ...               ...                ...   \n",
       "84543             False        False             False              False   \n",
       "84544             False        False             False              False   \n",
       "84545             False        False             False              False   \n",
       "84546             False        False             False              False   \n",
       "84547             False        False             False              False   \n",
       "\n",
       "       YEAR BUILT  TAX CLASS AT TIME OF SALE  BUILDING CLASS AT TIME OF SALE  \\\n",
       "0           False                      False                           False   \n",
       "1           False                      False                           False   \n",
       "2           False                      False                           False   \n",
       "3           False                      False                           False   \n",
       "4           False                      False                           False   \n",
       "...           ...                        ...                             ...   \n",
       "84543       False                      False                           False   \n",
       "84544       False                      False                           False   \n",
       "84545       False                      False                           False   \n",
       "84546       False                      False                           False   \n",
       "84547       False                      False                           False   \n",
       "\n",
       "       SALE PRICE  SALE DATE  \n",
       "0           False      False  \n",
       "1            True      False  \n",
       "2            True      False  \n",
       "3           False      False  \n",
       "4           False      False  \n",
       "...           ...        ...  \n",
       "84543       False      False  \n",
       "84544       False      False  \n",
       "84545       False      False  \n",
       "84546       False      False  \n",
       "84547       False      False  \n",
       "\n",
       "[84548 rows x 22 columns]"
      ]
     },
     "execution_count": 342,
     "metadata": {},
     "output_type": "execute_result"
    }
   ],
   "source": [
    "data.isnull()"
   ]
  },
  {
   "cell_type": "code",
   "execution_count": 343,
   "id": "44bf58a2",
   "metadata": {},
   "outputs": [
    {
     "data": {
      "text/plain": [
       "Unnamed: 0                            0\n",
       "BOROUGH                               0\n",
       "NEIGHBORHOOD                          0\n",
       "BUILDING CLASS CATEGORY               0\n",
       "TAX CLASS AT PRESENT                  0\n",
       "BLOCK                                 0\n",
       "LOT                                   0\n",
       "EASE-MENT                             0\n",
       "BUILDING CLASS AT PRESENT             0\n",
       "ADDRESS                               0\n",
       "APARTMENT NUMBER                      0\n",
       "ZIP CODE                              0\n",
       "RESIDENTIAL UNITS                     0\n",
       "COMMERCIAL UNITS                      0\n",
       "TOTAL UNITS                           0\n",
       "LAND SQUARE FEET                  26252\n",
       "GROSS SQUARE FEET                 27612\n",
       "YEAR BUILT                            0\n",
       "TAX CLASS AT TIME OF SALE             0\n",
       "BUILDING CLASS AT TIME OF SALE        0\n",
       "SALE PRICE                        14561\n",
       "SALE DATE                             0\n",
       "dtype: int64"
      ]
     },
     "execution_count": 343,
     "metadata": {},
     "output_type": "execute_result"
    }
   ],
   "source": [
    "data.isnull().sum()"
   ]
  },
  {
   "cell_type": "markdown",
   "id": "fd60a1e4",
   "metadata": {},
   "source": [
    "Setelah dilakukan replace data \"-\" menggunakan NaN ternyata terdapat missing value pada variabel LAND SQUARE FEET sebanyak 26252, GROSS SQUARE FEET sebanyak 27612 dan SALE PRICE sebanyak 14561. Dilakukan penanganan missing value, dengan dalah satu metode yang dapat digunakan yaitu menggantinya menggunakan nilai median masing-masing variabelnya."
   ]
  },
  {
   "cell_type": "markdown",
   "id": "7bc532a3",
   "metadata": {},
   "source": [
    "### Handling Missing Value"
   ]
  },
  {
   "cell_type": "code",
   "execution_count": 344,
   "id": "193ec273",
   "metadata": {},
   "outputs": [],
   "source": [
    "data['LAND SQUARE FEET'].fillna(data['LAND SQUARE FEET'].median(),inplace=True)\n",
    "data['GROSS SQUARE FEET'].fillna(data['GROSS SQUARE FEET'].median(),inplace=True)\n",
    "data['SALE PRICE'].fillna(data['SALE PRICE'].median(),inplace=True)"
   ]
  },
  {
   "cell_type": "code",
   "execution_count": 345,
   "id": "ba48d105",
   "metadata": {},
   "outputs": [
    {
     "data": {
      "text/plain": [
       "Unnamed: 0                        0\n",
       "BOROUGH                           0\n",
       "NEIGHBORHOOD                      0\n",
       "BUILDING CLASS CATEGORY           0\n",
       "TAX CLASS AT PRESENT              0\n",
       "BLOCK                             0\n",
       "LOT                               0\n",
       "EASE-MENT                         0\n",
       "BUILDING CLASS AT PRESENT         0\n",
       "ADDRESS                           0\n",
       "APARTMENT NUMBER                  0\n",
       "ZIP CODE                          0\n",
       "RESIDENTIAL UNITS                 0\n",
       "COMMERCIAL UNITS                  0\n",
       "TOTAL UNITS                       0\n",
       "LAND SQUARE FEET                  0\n",
       "GROSS SQUARE FEET                 0\n",
       "YEAR BUILT                        0\n",
       "TAX CLASS AT TIME OF SALE         0\n",
       "BUILDING CLASS AT TIME OF SALE    0\n",
       "SALE PRICE                        0\n",
       "SALE DATE                         0\n",
       "dtype: int64"
      ]
     },
     "execution_count": 345,
     "metadata": {},
     "output_type": "execute_result"
    }
   ],
   "source": [
    "data.isnull().sum()"
   ]
  },
  {
   "cell_type": "raw",
   "id": "95a2904b",
   "metadata": {},
   "source": [
    "Sudah tidak terdapat data hilang (Missing value) pada data nyc rolling sales, \n",
    "\n",
    "Selanjutnya dilakukan pengecekan apakah data memiliki nilai duplikat atau tidak."
   ]
  },
  {
   "cell_type": "markdown",
   "id": "8d439786",
   "metadata": {},
   "source": [
    "### *Identify Rows yang memiliki Duplicate Data*"
   ]
  },
  {
   "cell_type": "code",
   "execution_count": 346,
   "id": "8d14241f",
   "metadata": {},
   "outputs": [
    {
     "data": {
      "text/plain": [
       "0        False\n",
       "1        False\n",
       "2        False\n",
       "3        False\n",
       "4        False\n",
       "         ...  \n",
       "84543    False\n",
       "84544    False\n",
       "84545    False\n",
       "84546    False\n",
       "84547    False\n",
       "Length: 84548, dtype: bool"
      ]
     },
     "execution_count": 346,
     "metadata": {},
     "output_type": "execute_result"
    }
   ],
   "source": [
    "dup = data.duplicated()\n",
    "dup"
   ]
  },
  {
   "cell_type": "code",
   "execution_count": 347,
   "id": "1d5bdf7c",
   "metadata": {},
   "outputs": [
    {
     "name": "stdout",
     "output_type": "stream",
     "text": [
      "False\n"
     ]
    }
   ],
   "source": [
    "print(dup.any())"
   ]
  },
  {
   "cell_type": "markdown",
   "id": "215d28d1",
   "metadata": {},
   "source": [
    "Tidak Terdapat duplikasi Data. Setelah dilakukan tahapan preprocessing, akan dilakukan analisis statistik deskriptif dan inferensial menggunakan library yang dapat digunakan pada python (pandas, numpy, scipy)"
   ]
  },
  {
   "cell_type": "markdown",
   "id": "7565e633",
   "metadata": {},
   "source": [
    "##### Converting following object type variables to Category"
   ]
  },
  {
   "cell_type": "code",
   "execution_count": 348,
   "id": "525d59b5",
   "metadata": {},
   "outputs": [
    {
     "name": "stdout",
     "output_type": "stream",
     "text": [
      "<class 'pandas.core.frame.DataFrame'>\n",
      "RangeIndex: 84548 entries, 0 to 84547\n",
      "Data columns (total 22 columns):\n",
      " #   Column                          Non-Null Count  Dtype \n",
      "---  ------                          --------------  ----- \n",
      " 0   Unnamed: 0                      84548 non-null  int64 \n",
      " 1   BOROUGH                         84548 non-null  int64 \n",
      " 2   NEIGHBORHOOD                    84548 non-null  object\n",
      " 3   BUILDING CLASS CATEGORY         84548 non-null  object\n",
      " 4   TAX CLASS AT PRESENT            84548 non-null  object\n",
      " 5   BLOCK                           84548 non-null  int64 \n",
      " 6   LOT                             84548 non-null  int64 \n",
      " 7   EASE-MENT                       84548 non-null  object\n",
      " 8   BUILDING CLASS AT PRESENT       84548 non-null  object\n",
      " 9   ADDRESS                         84548 non-null  object\n",
      " 10  APARTMENT NUMBER                84548 non-null  object\n",
      " 11  ZIP CODE                        84548 non-null  int64 \n",
      " 12  RESIDENTIAL UNITS               84548 non-null  int64 \n",
      " 13  COMMERCIAL UNITS                84548 non-null  int64 \n",
      " 14  TOTAL UNITS                     84548 non-null  int64 \n",
      " 15  LAND SQUARE FEET                84548 non-null  object\n",
      " 16  GROSS SQUARE FEET               84548 non-null  object\n",
      " 17  YEAR BUILT                      84548 non-null  int64 \n",
      " 18  TAX CLASS AT TIME OF SALE       84548 non-null  int64 \n",
      " 19  BUILDING CLASS AT TIME OF SALE  84548 non-null  object\n",
      " 20  SALE PRICE                      84548 non-null  object\n",
      " 21  SALE DATE                       84548 non-null  object\n",
      "dtypes: int64(10), object(12)\n",
      "memory usage: 14.2+ MB\n"
     ]
    }
   ],
   "source": [
    "data.info()"
   ]
  },
  {
   "cell_type": "markdown",
   "id": "42462310",
   "metadata": {},
   "source": [
    "Sebelum dilakukan analisis, akan diubah terlebih dahulu variabel yang bertipe object menjadi variabel bertipe category agar dapat dipoerasikan. "
   ]
  },
  {
   "cell_type": "code",
   "execution_count": 349,
   "id": "50e99455",
   "metadata": {},
   "outputs": [],
   "source": [
    "data['BUILDING CLASS AT PRESENT'] = data['BUILDING CLASS AT PRESENT'].astype('category')\n",
    "data['NEIGHBORHOOD'] = data['NEIGHBORHOOD'].astype('category')\n",
    "data['BUILDING CLASS CATEGORY'] = data['BUILDING CLASS CATEGORY'].astype('category')\n",
    "data['TAX CLASS AT PRESENT'] = data['TAX CLASS AT PRESENT'].astype('category')\n",
    "data['ADDRESS'] = data['ADDRESS'].astype('category')\n",
    "data['BUILDING CLASS AT TIME OF SALE'] = data['BUILDING CLASS AT TIME OF SALE'].astype('category')"
   ]
  },
  {
   "cell_type": "code",
   "execution_count": 350,
   "id": "16415d57",
   "metadata": {},
   "outputs": [],
   "source": [
    "data['BUILDING CLASS AT PRESENT_new'] = pd.core.arrays.categorical.Categorical(data['BUILDING CLASS AT PRESENT']).codes\n",
    "data['NEIGHBORHOOD_new'] = pd.core.arrays.categorical.Categorical(data['NEIGHBORHOOD']).codes\n",
    "data['BUILDING CLASS CATEGORY_new'] = pd.core.arrays.categorical.Categorical(data['BUILDING CLASS CATEGORY']).codes\n",
    "data['TAX CLASS AT PRESENT_new'] =pd.core.arrays.categorical.Categorical(data['TAX CLASS AT PRESENT']).codes\n",
    "data['ADDRESS_new'] = pd.core.arrays.categorical.Categorical(data['ADDRESS']).codes\n",
    "data['BUILDING CLASS AT TIME OF SALE_new'] = pd.core.arrays.categorical.Categorical(data['BUILDING CLASS AT TIME OF SALE']).codes"
   ]
  },
  {
   "cell_type": "code",
   "execution_count": 351,
   "id": "1fc0b15f",
   "metadata": {
    "scrolled": true
   },
   "outputs": [
    {
     "data": {
      "text/plain": [
       "(84548, 28)"
      ]
     },
     "execution_count": 351,
     "metadata": {},
     "output_type": "execute_result"
    }
   ],
   "source": [
    "data.shape"
   ]
  },
  {
   "cell_type": "markdown",
   "id": "a04ba0f2",
   "metadata": {},
   "source": [
    "Terdapat beberapa data yang tidak akan digunakan yaitu EASE-MENT, APARTMENT NUMBER, Unnamed: 0, dan ZIP CODE maka dilakukan penghapusan data menggunakan drop. "
   ]
  },
  {
   "cell_type": "code",
   "execution_count": 352,
   "id": "74c0f8f2",
   "metadata": {},
   "outputs": [],
   "source": [
    "data.drop(['EASE-MENT','APARTMENT NUMBER','Unnamed: 0','ZIP CODE'],axis=1, inplace=True)"
   ]
  },
  {
   "cell_type": "code",
   "execution_count": 353,
   "id": "3e4469d0",
   "metadata": {},
   "outputs": [
    {
     "data": {
      "text/html": [
       "<div>\n",
       "<style scoped>\n",
       "    .dataframe tbody tr th:only-of-type {\n",
       "        vertical-align: middle;\n",
       "    }\n",
       "\n",
       "    .dataframe tbody tr th {\n",
       "        vertical-align: top;\n",
       "    }\n",
       "\n",
       "    .dataframe thead th {\n",
       "        text-align: right;\n",
       "    }\n",
       "</style>\n",
       "<table border=\"1\" class=\"dataframe\">\n",
       "  <thead>\n",
       "    <tr style=\"text-align: right;\">\n",
       "      <th></th>\n",
       "      <th>BOROUGH</th>\n",
       "      <th>NEIGHBORHOOD</th>\n",
       "      <th>BUILDING CLASS CATEGORY</th>\n",
       "      <th>TAX CLASS AT PRESENT</th>\n",
       "      <th>BLOCK</th>\n",
       "      <th>LOT</th>\n",
       "      <th>BUILDING CLASS AT PRESENT</th>\n",
       "      <th>ADDRESS</th>\n",
       "      <th>RESIDENTIAL UNITS</th>\n",
       "      <th>COMMERCIAL UNITS</th>\n",
       "      <th>...</th>\n",
       "      <th>TAX CLASS AT TIME OF SALE</th>\n",
       "      <th>BUILDING CLASS AT TIME OF SALE</th>\n",
       "      <th>SALE PRICE</th>\n",
       "      <th>SALE DATE</th>\n",
       "      <th>BUILDING CLASS AT PRESENT_new</th>\n",
       "      <th>NEIGHBORHOOD_new</th>\n",
       "      <th>BUILDING CLASS CATEGORY_new</th>\n",
       "      <th>TAX CLASS AT PRESENT_new</th>\n",
       "      <th>ADDRESS_new</th>\n",
       "      <th>BUILDING CLASS AT TIME OF SALE_new</th>\n",
       "    </tr>\n",
       "  </thead>\n",
       "  <tbody>\n",
       "    <tr>\n",
       "      <th>0</th>\n",
       "      <td>1</td>\n",
       "      <td>ALPHABET CITY</td>\n",
       "      <td>07 RENTALS - WALKUP APARTMENTS</td>\n",
       "      <td>2A</td>\n",
       "      <td>392</td>\n",
       "      <td>6</td>\n",
       "      <td>C2</td>\n",
       "      <td>153 AVENUE B</td>\n",
       "      <td>5</td>\n",
       "      <td>0</td>\n",
       "      <td>...</td>\n",
       "      <td>2</td>\n",
       "      <td>C2</td>\n",
       "      <td>6625000</td>\n",
       "      <td>2017-07-19 00:00:00</td>\n",
       "      <td>16</td>\n",
       "      <td>1</td>\n",
       "      <td>6</td>\n",
       "      <td>6</td>\n",
       "      <td>14889</td>\n",
       "      <td>15</td>\n",
       "    </tr>\n",
       "    <tr>\n",
       "      <th>1</th>\n",
       "      <td>1</td>\n",
       "      <td>ALPHABET CITY</td>\n",
       "      <td>07 RENTALS - WALKUP APARTMENTS</td>\n",
       "      <td>2</td>\n",
       "      <td>399</td>\n",
       "      <td>26</td>\n",
       "      <td>C7</td>\n",
       "      <td>234 EAST 4TH   STREET</td>\n",
       "      <td>28</td>\n",
       "      <td>3</td>\n",
       "      <td>...</td>\n",
       "      <td>2</td>\n",
       "      <td>C7</td>\n",
       "      <td>530000.0</td>\n",
       "      <td>2016-12-14 00:00:00</td>\n",
       "      <td>21</td>\n",
       "      <td>1</td>\n",
       "      <td>6</td>\n",
       "      <td>5</td>\n",
       "      <td>28592</td>\n",
       "      <td>20</td>\n",
       "    </tr>\n",
       "    <tr>\n",
       "      <th>2</th>\n",
       "      <td>1</td>\n",
       "      <td>ALPHABET CITY</td>\n",
       "      <td>07 RENTALS - WALKUP APARTMENTS</td>\n",
       "      <td>2</td>\n",
       "      <td>399</td>\n",
       "      <td>39</td>\n",
       "      <td>C7</td>\n",
       "      <td>197 EAST 3RD   STREET</td>\n",
       "      <td>16</td>\n",
       "      <td>1</td>\n",
       "      <td>...</td>\n",
       "      <td>2</td>\n",
       "      <td>C7</td>\n",
       "      <td>530000.0</td>\n",
       "      <td>2016-12-09 00:00:00</td>\n",
       "      <td>21</td>\n",
       "      <td>1</td>\n",
       "      <td>6</td>\n",
       "      <td>5</td>\n",
       "      <td>22192</td>\n",
       "      <td>20</td>\n",
       "    </tr>\n",
       "    <tr>\n",
       "      <th>3</th>\n",
       "      <td>1</td>\n",
       "      <td>ALPHABET CITY</td>\n",
       "      <td>07 RENTALS - WALKUP APARTMENTS</td>\n",
       "      <td>2B</td>\n",
       "      <td>402</td>\n",
       "      <td>21</td>\n",
       "      <td>C4</td>\n",
       "      <td>154 EAST 7TH STREET</td>\n",
       "      <td>10</td>\n",
       "      <td>0</td>\n",
       "      <td>...</td>\n",
       "      <td>2</td>\n",
       "      <td>C4</td>\n",
       "      <td>3936272</td>\n",
       "      <td>2016-09-23 00:00:00</td>\n",
       "      <td>18</td>\n",
       "      <td>1</td>\n",
       "      <td>6</td>\n",
       "      <td>7</td>\n",
       "      <td>15090</td>\n",
       "      <td>17</td>\n",
       "    </tr>\n",
       "    <tr>\n",
       "      <th>4</th>\n",
       "      <td>1</td>\n",
       "      <td>ALPHABET CITY</td>\n",
       "      <td>07 RENTALS - WALKUP APARTMENTS</td>\n",
       "      <td>2A</td>\n",
       "      <td>404</td>\n",
       "      <td>55</td>\n",
       "      <td>C2</td>\n",
       "      <td>301 EAST 10TH   STREET</td>\n",
       "      <td>6</td>\n",
       "      <td>0</td>\n",
       "      <td>...</td>\n",
       "      <td>2</td>\n",
       "      <td>C2</td>\n",
       "      <td>8000000</td>\n",
       "      <td>2016-11-17 00:00:00</td>\n",
       "      <td>16</td>\n",
       "      <td>1</td>\n",
       "      <td>6</td>\n",
       "      <td>6</td>\n",
       "      <td>35431</td>\n",
       "      <td>15</td>\n",
       "    </tr>\n",
       "  </tbody>\n",
       "</table>\n",
       "<p>5 rows × 24 columns</p>\n",
       "</div>"
      ],
      "text/plain": [
       "   BOROUGH   NEIGHBORHOOD                      BUILDING CLASS CATEGORY  \\\n",
       "0        1  ALPHABET CITY  07 RENTALS - WALKUP APARTMENTS                \n",
       "1        1  ALPHABET CITY  07 RENTALS - WALKUP APARTMENTS                \n",
       "2        1  ALPHABET CITY  07 RENTALS - WALKUP APARTMENTS                \n",
       "3        1  ALPHABET CITY  07 RENTALS - WALKUP APARTMENTS                \n",
       "4        1  ALPHABET CITY  07 RENTALS - WALKUP APARTMENTS                \n",
       "\n",
       "  TAX CLASS AT PRESENT  BLOCK  LOT BUILDING CLASS AT PRESENT  \\\n",
       "0                   2A    392    6                        C2   \n",
       "1                    2    399   26                        C7   \n",
       "2                    2    399   39                        C7   \n",
       "3                   2B    402   21                        C4   \n",
       "4                   2A    404   55                        C2   \n",
       "\n",
       "                  ADDRESS  RESIDENTIAL UNITS  COMMERCIAL UNITS  ...  \\\n",
       "0            153 AVENUE B                  5                 0  ...   \n",
       "1   234 EAST 4TH   STREET                 28                 3  ...   \n",
       "2   197 EAST 3RD   STREET                 16                 1  ...   \n",
       "3     154 EAST 7TH STREET                 10                 0  ...   \n",
       "4  301 EAST 10TH   STREET                  6                 0  ...   \n",
       "\n",
       "   TAX CLASS AT TIME OF SALE BUILDING CLASS AT TIME OF SALE SALE PRICE  \\\n",
       "0                          2                             C2    6625000   \n",
       "1                          2                             C7   530000.0   \n",
       "2                          2                             C7   530000.0   \n",
       "3                          2                             C4    3936272   \n",
       "4                          2                             C2    8000000   \n",
       "\n",
       "             SALE DATE  BUILDING CLASS AT PRESENT_new NEIGHBORHOOD_new  \\\n",
       "0  2017-07-19 00:00:00                             16                1   \n",
       "1  2016-12-14 00:00:00                             21                1   \n",
       "2  2016-12-09 00:00:00                             21                1   \n",
       "3  2016-09-23 00:00:00                             18                1   \n",
       "4  2016-11-17 00:00:00                             16                1   \n",
       "\n",
       "  BUILDING CLASS CATEGORY_new TAX CLASS AT PRESENT_new  ADDRESS_new  \\\n",
       "0                           6                        6        14889   \n",
       "1                           6                        5        28592   \n",
       "2                           6                        5        22192   \n",
       "3                           6                        7        15090   \n",
       "4                           6                        6        35431   \n",
       "\n",
       "   BUILDING CLASS AT TIME OF SALE_new  \n",
       "0                                  15  \n",
       "1                                  20  \n",
       "2                                  20  \n",
       "3                                  17  \n",
       "4                                  15  \n",
       "\n",
       "[5 rows x 24 columns]"
      ]
     },
     "execution_count": 353,
     "metadata": {},
     "output_type": "execute_result"
    }
   ],
   "source": [
    "data.head()"
   ]
  },
  {
   "cell_type": "markdown",
   "id": "f467704e",
   "metadata": {},
   "source": [
    "## 2. Descriptive Statistics"
   ]
  },
  {
   "cell_type": "markdown",
   "id": "1c2f7682",
   "metadata": {},
   "source": [
    "> Statistika Deskriptif merupakan analisis statistika sederhana yang meibatkan summarizing dan mengatur segala data sehingga dapat dengan mudah dipahami. Analisis Deskriptif yang akan dilakukan terdiri dari :\n",
    "- Ukuran Gejala Pusat yaitu nilai mean (rata-rata), median, modus.\n",
    "- Ukuran Varians yang terdiri dari varians, standar deviasi, range, dan IQR (Inter Quartille Range). \n",
    "- Ukuran Penyebaran data yaitu nilai kuartil,desil, dan persentil.\n",
    "\n",
    "> Dilakukan juga perhitungan nilai maksimum dan minimum."
   ]
  },
  {
   "cell_type": "markdown",
   "id": "dd02572c",
   "metadata": {},
   "source": [
    "### A. Mean"
   ]
  },
  {
   "cell_type": "markdown",
   "id": "9f1d9f93",
   "metadata": {},
   "source": [
    "Mean atau rata-rata merupakan jumlah seluruh skor distribusi\n",
    "frekuensi dibagi dengan banyaknya data. Nilai rata-rata untuk data NYC Rolling Sales dihitung menggunakan library statistics dihasilkan output berikut."
   ]
  },
  {
   "cell_type": "code",
   "execution_count": 355,
   "id": "b912b39d",
   "metadata": {},
   "outputs": [
    {
     "name": "stderr",
     "output_type": "stream",
     "text": [
      "C:\\Users\\LENOVO\\AppData\\Local\\Temp/ipykernel_8884/2487109901.py:1: FutureWarning: Dropping of nuisance columns in DataFrame reductions (with 'numeric_only=None') is deprecated; in a future version this will raise TypeError.  Select only valid columns before calling the reduction.\n",
      "  mean = data.mean()\n"
     ]
    },
    {
     "data": {
      "text/plain": [
       "BOROUGH                                   2.998758\n",
       "BLOCK                                  4237.218976\n",
       "LOT                                     376.224015\n",
       "RESIDENTIAL UNITS                         2.025264\n",
       "COMMERCIAL UNITS                          0.193559\n",
       "TOTAL UNITS                               2.249184\n",
       "YEAR BUILT                             1789.322976\n",
       "TAX CLASS AT TIME OF SALE                 1.657485\n",
       "BUILDING CLASS AT PRESENT_new            47.573284\n",
       "NEIGHBORHOOD_new                        127.367708\n",
       "BUILDING CLASS CATEGORY_new               7.455043\n",
       "TAX CLASS AT PRESENT_new                  3.526305\n",
       "ADDRESS_new                           33608.317062\n",
       "BUILDING CLASS AT TIME OF SALE_new       47.657106\n",
       "dtype: float64"
      ]
     },
     "execution_count": 355,
     "metadata": {},
     "output_type": "execute_result"
    }
   ],
   "source": [
    "mean = data.mean()\n",
    "mean"
   ]
  },
  {
   "cell_type": "markdown",
   "id": "74835b7b",
   "metadata": {},
   "source": [
    "### B. Median"
   ]
  },
  {
   "cell_type": "markdown",
   "id": "733d8dbf",
   "metadata": {},
   "source": [
    "Median merupakanskor yang terletak tepat di tengah suatu distribusi\n",
    "frekuensi Nilai median untuk data NYC Rolling Sales dihitung menggunakan library statistics dihasilkan output berikut."
   ]
  },
  {
   "cell_type": "code",
   "execution_count": 356,
   "id": "8d757993",
   "metadata": {},
   "outputs": [
    {
     "name": "stderr",
     "output_type": "stream",
     "text": [
      "C:\\Users\\LENOVO\\AppData\\Local\\Temp/ipykernel_8884/1481416156.py:1: FutureWarning: Dropping of nuisance columns in DataFrame reductions (with 'numeric_only=None') is deprecated; in a future version this will raise TypeError.  Select only valid columns before calling the reduction.\n",
      "  median = data.median()\n"
     ]
    },
    {
     "data": {
      "text/plain": [
       "BOROUGH                                    3.0\n",
       "BLOCK                                   3311.0\n",
       "LOT                                       50.0\n",
       "RESIDENTIAL UNITS                          1.0\n",
       "COMMERCIAL UNITS                           0.0\n",
       "TOTAL UNITS                                1.0\n",
       "LAND SQUARE FEET                        2325.0\n",
       "GROSS SQUARE FEET                       1680.0\n",
       "YEAR BUILT                              1940.0\n",
       "TAX CLASS AT TIME OF SALE                  2.0\n",
       "SALE PRICE                            530000.0\n",
       "BUILDING CLASS AT PRESENT_new             20.0\n",
       "NEIGHBORHOOD_new                         122.0\n",
       "BUILDING CLASS CATEGORY_new                6.0\n",
       "TAX CLASS AT PRESENT_new                   5.0\n",
       "ADDRESS_new                            33806.5\n",
       "BUILDING CLASS AT TIME OF SALE_new        19.0\n",
       "dtype: float64"
      ]
     },
     "execution_count": 356,
     "metadata": {},
     "output_type": "execute_result"
    }
   ],
   "source": [
    "median = data.median()\n",
    "median"
   ]
  },
  {
   "cell_type": "markdown",
   "id": "d515e211",
   "metadata": {},
   "source": [
    "### C. Modus"
   ]
  },
  {
   "cell_type": "markdown",
   "id": "b06935ab",
   "metadata": {},
   "source": [
    "Modus merupakan skor dalam suatu distribusi\n",
    "frekuensi yang memiliki frekuensi (f) paling banyak, atau seringkali muncul. Nilai modus untuk data NYC Rolling Sales dihitung menggunakan library statistics dihasilkan output berikut."
   ]
  },
  {
   "cell_type": "code",
   "execution_count": 357,
   "id": "02b1fb2a",
   "metadata": {},
   "outputs": [
    {
     "data": {
      "text/html": [
       "<div>\n",
       "<style scoped>\n",
       "    .dataframe tbody tr th:only-of-type {\n",
       "        vertical-align: middle;\n",
       "    }\n",
       "\n",
       "    .dataframe tbody tr th {\n",
       "        vertical-align: top;\n",
       "    }\n",
       "\n",
       "    .dataframe thead th {\n",
       "        text-align: right;\n",
       "    }\n",
       "</style>\n",
       "<table border=\"1\" class=\"dataframe\">\n",
       "  <thead>\n",
       "    <tr style=\"text-align: right;\">\n",
       "      <th></th>\n",
       "      <th>BOROUGH</th>\n",
       "      <th>NEIGHBORHOOD</th>\n",
       "      <th>BUILDING CLASS CATEGORY</th>\n",
       "      <th>TAX CLASS AT PRESENT</th>\n",
       "      <th>BLOCK</th>\n",
       "      <th>LOT</th>\n",
       "      <th>BUILDING CLASS AT PRESENT</th>\n",
       "      <th>ADDRESS</th>\n",
       "      <th>RESIDENTIAL UNITS</th>\n",
       "      <th>COMMERCIAL UNITS</th>\n",
       "      <th>...</th>\n",
       "      <th>TAX CLASS AT TIME OF SALE</th>\n",
       "      <th>BUILDING CLASS AT TIME OF SALE</th>\n",
       "      <th>SALE PRICE</th>\n",
       "      <th>SALE DATE</th>\n",
       "      <th>BUILDING CLASS AT PRESENT_new</th>\n",
       "      <th>NEIGHBORHOOD_new</th>\n",
       "      <th>BUILDING CLASS CATEGORY_new</th>\n",
       "      <th>TAX CLASS AT PRESENT_new</th>\n",
       "      <th>ADDRESS_new</th>\n",
       "      <th>BUILDING CLASS AT TIME OF SALE_new</th>\n",
       "    </tr>\n",
       "  </thead>\n",
       "  <tbody>\n",
       "    <tr>\n",
       "      <th>0</th>\n",
       "      <td>4</td>\n",
       "      <td>FLUSHING-NORTH</td>\n",
       "      <td>01 ONE FAMILY DWELLINGS</td>\n",
       "      <td>1</td>\n",
       "      <td>5066</td>\n",
       "      <td>1</td>\n",
       "      <td>D4</td>\n",
       "      <td>131-05 40TH   ROAD</td>\n",
       "      <td>1</td>\n",
       "      <td>0</td>\n",
       "      <td>...</td>\n",
       "      <td>1</td>\n",
       "      <td>R4</td>\n",
       "      <td>530000.0</td>\n",
       "      <td>2017-06-29 00:00:00</td>\n",
       "      <td>29</td>\n",
       "      <td>87</td>\n",
       "      <td>0</td>\n",
       "      <td>1</td>\n",
       "      <td>8984</td>\n",
       "      <td>120</td>\n",
       "    </tr>\n",
       "  </tbody>\n",
       "</table>\n",
       "<p>1 rows × 24 columns</p>\n",
       "</div>"
      ],
      "text/plain": [
       "   BOROUGH    NEIGHBORHOOD                      BUILDING CLASS CATEGORY  \\\n",
       "0        4  FLUSHING-NORTH  01 ONE FAMILY DWELLINGS                       \n",
       "\n",
       "  TAX CLASS AT PRESENT  BLOCK  LOT BUILDING CLASS AT PRESENT  \\\n",
       "0                    1   5066    1                        D4   \n",
       "\n",
       "              ADDRESS  RESIDENTIAL UNITS  COMMERCIAL UNITS  ...  \\\n",
       "0  131-05 40TH   ROAD                  1                 0  ...   \n",
       "\n",
       "   TAX CLASS AT TIME OF SALE BUILDING CLASS AT TIME OF SALE SALE PRICE  \\\n",
       "0                          1                             R4   530000.0   \n",
       "\n",
       "             SALE DATE  BUILDING CLASS AT PRESENT_new NEIGHBORHOOD_new  \\\n",
       "0  2017-06-29 00:00:00                             29               87   \n",
       "\n",
       "  BUILDING CLASS CATEGORY_new TAX CLASS AT PRESENT_new  ADDRESS_new  \\\n",
       "0                           0                        1         8984   \n",
       "\n",
       "   BUILDING CLASS AT TIME OF SALE_new  \n",
       "0                                 120  \n",
       "\n",
       "[1 rows x 24 columns]"
      ]
     },
     "execution_count": 357,
     "metadata": {},
     "output_type": "execute_result"
    }
   ],
   "source": [
    "modus = data.mode()\n",
    "modus"
   ]
  },
  {
   "cell_type": "markdown",
   "id": "8ef39fa3",
   "metadata": {},
   "source": [
    "### D. Varians"
   ]
  },
  {
   "cell_type": "markdown",
   "id": "705c48fe",
   "metadata": {},
   "source": [
    "Varians adalah jumlah jumlah kuadrat dari nilai standar deviasi yang merupakan nilai statistik yang sering kali dipakai dalam menentukan kedekatan sebaran data yang ada di dalam sampel dan seberapa dekat titik data individu dengan mean atau rata-rata nilai dari sampel itu sendiri. Nilai varians untuk data NYC Rolling Sales dihitung menggunakan library statistics dihasilkan output berikut."
   ]
  },
  {
   "cell_type": "code",
   "execution_count": 94,
   "id": "a8c86e7a",
   "metadata": {},
   "outputs": [
    {
     "name": "stderr",
     "output_type": "stream",
     "text": [
      "C:\\Users\\LENOVO\\AppData\\Local\\Temp/ipykernel_8884/401616790.py:1: FutureWarning: Dropping of nuisance columns in DataFrame reductions (with 'numeric_only=None') is deprecated; in a future version this will raise TypeError.  Select only valid columns before calling the reduction.\n",
      "  variance = data.var()\n"
     ]
    },
    {
     "data": {
      "text/plain": [
       "BOROUGH                               1.663558e+00\n",
       "BLOCK                                 1.273250e+07\n",
       "LOT                                   4.331441e+05\n",
       "RESIDENTIAL UNITS                     2.795931e+02\n",
       "COMMERCIAL UNITS                      7.591956e+01\n",
       "TOTAL UNITS                           3.599590e+02\n",
       "YEAR BUILT                            2.887396e+05\n",
       "TAX CLASS AT TIME OF SALE             6.713200e-01\n",
       "BUILDING CLASS AT PRESENT_new         2.626808e+03\n",
       "NEIGHBORHOOD_new                      5.622463e+03\n",
       "BUILDING CLASS CATEGORY_new           8.141408e+01\n",
       "TAX CLASS AT PRESENT_new              7.660266e+00\n",
       "ADDRESS_new                           3.748610e+08\n",
       "BUILDING CLASS AT TIME OF SALE_new    2.656259e+03\n",
       "dtype: float64"
      ]
     },
     "execution_count": 94,
     "metadata": {},
     "output_type": "execute_result"
    }
   ],
   "source": [
    "variance = data.var()\n",
    "variance"
   ]
  },
  {
   "cell_type": "markdown",
   "id": "e25d134a",
   "metadata": {},
   "source": [
    "### D. Standar Deviasi"
   ]
  },
  {
   "cell_type": "markdown",
   "id": "cfc48183",
   "metadata": {},
   "source": [
    "Standar deviasi (simpangan baku) merupakan indeks yang diwujudkan dalam bentuk angka standar penyimpangan skor-skor dari nilai tendensi sentral terutama mean pada suatu distribusi frekuensi.Nilai Standar deviasi untuk data NYC Rolling Sales dihitung menggunakan library statistics dihasilkan output berikut."
   ]
  },
  {
   "cell_type": "code",
   "execution_count": 95,
   "id": "8bd38a0a",
   "metadata": {},
   "outputs": [
    {
     "name": "stderr",
     "output_type": "stream",
     "text": [
      "C:\\Users\\LENOVO\\AppData\\Local\\Temp/ipykernel_8884/755057128.py:1: FutureWarning: Dropping of nuisance columns in DataFrame reductions (with 'numeric_only=None') is deprecated; in a future version this will raise TypeError.  Select only valid columns before calling the reduction.\n",
      "  std = data.std()\n"
     ]
    },
    {
     "data": {
      "text/plain": [
       "BOROUGH                                   1.289790\n",
       "BLOCK                                  3568.263407\n",
       "LOT                                     658.136814\n",
       "RESIDENTIAL UNITS                        16.721037\n",
       "COMMERCIAL UNITS                          8.713183\n",
       "TOTAL UNITS                              18.972584\n",
       "YEAR BUILT                              537.344993\n",
       "TAX CLASS AT TIME OF SALE                 0.819341\n",
       "BUILDING CLASS AT PRESENT_new            51.252398\n",
       "NEIGHBORHOOD_new                         74.983088\n",
       "BUILDING CLASS CATEGORY_new               9.022975\n",
       "TAX CLASS AT PRESENT_new                  2.767719\n",
       "ADDRESS_new                           19361.328170\n",
       "BUILDING CLASS AT TIME OF SALE_new       51.538907\n",
       "dtype: float64"
      ]
     },
     "execution_count": 95,
     "metadata": {},
     "output_type": "execute_result"
    }
   ],
   "source": [
    "std = data.std()\n",
    "std"
   ]
  },
  {
   "cell_type": "markdown",
   "id": "d08d19a1",
   "metadata": {},
   "source": [
    "### E. Quantile"
   ]
  },
  {
   "cell_type": "markdown",
   "id": "5006c411",
   "metadata": {},
   "source": [
    "Nilai Quantile (Kuartil) merupakan salah satu jenis kuartil yang membagi data menjadi empat bagian dengan jumlah yang kurang lebih sama. Nilai kuartil untuk data NYC Rolling Sales dihitung menggunakan library statistics dihasilkan output berikut."
   ]
  },
  {
   "cell_type": "code",
   "execution_count": 96,
   "id": "788642c3",
   "metadata": {},
   "outputs": [
    {
     "data": {
      "text/plain": [
       "BOROUGH                                   3.0\n",
       "BLOCK                                  3311.0\n",
       "LOT                                      50.0\n",
       "RESIDENTIAL UNITS                         1.0\n",
       "COMMERCIAL UNITS                          0.0\n",
       "TOTAL UNITS                               1.0\n",
       "YEAR BUILT                             1940.0\n",
       "TAX CLASS AT TIME OF SALE                 2.0\n",
       "BUILDING CLASS AT PRESENT_new            20.0\n",
       "NEIGHBORHOOD_new                        122.0\n",
       "BUILDING CLASS CATEGORY_new               6.0\n",
       "TAX CLASS AT PRESENT_new                  5.0\n",
       "ADDRESS_new                           33806.5\n",
       "BUILDING CLASS AT TIME OF SALE_new       19.0\n",
       "Name: 0.5, dtype: float64"
      ]
     },
     "execution_count": 96,
     "metadata": {},
     "output_type": "execute_result"
    }
   ],
   "source": [
    "data.quantile(q=0.5)"
   ]
  },
  {
   "cell_type": "code",
   "execution_count": 97,
   "id": "bdb344ef",
   "metadata": {},
   "outputs": [
    {
     "data": {
      "text/plain": [
       "BOROUGH                                   2.00\n",
       "BLOCK                                  1322.75\n",
       "LOT                                      22.00\n",
       "RESIDENTIAL UNITS                         0.00\n",
       "COMMERCIAL UNITS                          0.00\n",
       "TOTAL UNITS                               1.00\n",
       "YEAR BUILT                             1920.00\n",
       "TAX CLASS AT TIME OF SALE                 1.00\n",
       "BUILDING CLASS AT PRESENT_new            10.00\n",
       "NEIGHBORHOOD_new                         68.00\n",
       "BUILDING CLASS CATEGORY_new               1.00\n",
       "TAX CLASS AT PRESENT_new                  1.00\n",
       "ADDRESS_new                           16840.75\n",
       "BUILDING CLASS AT TIME OF SALE_new        9.00\n",
       "Name: 0.25, dtype: float64"
      ]
     },
     "execution_count": 97,
     "metadata": {},
     "output_type": "execute_result"
    }
   ],
   "source": [
    "data.quantile(q=0.25)"
   ]
  },
  {
   "cell_type": "code",
   "execution_count": 98,
   "id": "ce7dfeb0",
   "metadata": {},
   "outputs": [
    {
     "data": {
      "text/plain": [
       "BOROUGH                                   4.00\n",
       "BLOCK                                  6281.00\n",
       "LOT                                    1001.00\n",
       "RESIDENTIAL UNITS                         2.00\n",
       "COMMERCIAL UNITS                          0.00\n",
       "TOTAL UNITS                               2.00\n",
       "YEAR BUILT                             1965.00\n",
       "TAX CLASS AT TIME OF SALE                 2.00\n",
       "BUILDING CLASS AT PRESENT_new           120.00\n",
       "NEIGHBORHOOD_new                        195.00\n",
       "BUILDING CLASS CATEGORY_new              13.00\n",
       "TAX CLASS AT PRESENT_new                  5.00\n",
       "ADDRESS_new                           49950.25\n",
       "BUILDING CLASS AT TIME OF SALE_new      119.00\n",
       "Name: 0.75, dtype: float64"
      ]
     },
     "execution_count": 98,
     "metadata": {},
     "output_type": "execute_result"
    }
   ],
   "source": [
    "data.quantile(q=0.75)"
   ]
  },
  {
   "cell_type": "markdown",
   "id": "41378274",
   "metadata": {},
   "source": [
    "### F. Nilai Maksimum"
   ]
  },
  {
   "cell_type": "markdown",
   "id": "aabcdae1",
   "metadata": {},
   "source": [
    "Nilai maksimum merupakan nilai tertinggi dari masing-masing variabel yang terdapat pada dataset. Nilai maksimum untuk data NYC Rolling Sales dihitung menggunakan python dihasilkan output berikut."
   ]
  },
  {
   "cell_type": "code",
   "execution_count": 99,
   "id": "c4dadaaf",
   "metadata": {},
   "outputs": [
    {
     "name": "stderr",
     "output_type": "stream",
     "text": [
      "C:\\Users\\LENOVO\\AppData\\Local\\Temp/ipykernel_8884/2904433368.py:1: FutureWarning: Dropping of nuisance columns in DataFrame reductions (with 'numeric_only=None') is deprecated; in a future version this will raise TypeError.  Select only valid columns before calling the reduction.\n",
      "  data.max()\n"
     ]
    },
    {
     "data": {
      "text/plain": [
       "BOROUGH                                                 5\n",
       "BLOCK                                               16322\n",
       "LOT                                                  9106\n",
       "RESIDENTIAL UNITS                                    1844\n",
       "COMMERCIAL UNITS                                     2261\n",
       "TOTAL UNITS                                          2261\n",
       "YEAR BUILT                                           2017\n",
       "TAX CLASS AT TIME OF SALE                               4\n",
       "SALE DATE                             2017-08-31 00:00:00\n",
       "BUILDING CLASS AT PRESENT_new                         166\n",
       "NEIGHBORHOOD_new                                      253\n",
       "BUILDING CLASS CATEGORY_new                            46\n",
       "TAX CLASS AT PRESENT_new                               10\n",
       "ADDRESS_new                                         67562\n",
       "BUILDING CLASS AT TIME OF SALE_new                    165\n",
       "dtype: object"
      ]
     },
     "execution_count": 99,
     "metadata": {},
     "output_type": "execute_result"
    }
   ],
   "source": [
    "data.max()"
   ]
  },
  {
   "cell_type": "markdown",
   "id": "33072dd4",
   "metadata": {},
   "source": [
    "### G. Nilai Minimum"
   ]
  },
  {
   "cell_type": "markdown",
   "id": "68647ccb",
   "metadata": {},
   "source": [
    "Nilai minimum merupakan nilai terendah dari masing-masing variabel yang terdapat pada dataset. Nilai manimum untuk data NYC Rolling Sales dihitung menggunakan python dihasilkan output berikut."
   ]
  },
  {
   "cell_type": "code",
   "execution_count": 100,
   "id": "67bd2166",
   "metadata": {},
   "outputs": [
    {
     "name": "stderr",
     "output_type": "stream",
     "text": [
      "C:\\Users\\LENOVO\\AppData\\Local\\Temp/ipykernel_8884/927168777.py:1: FutureWarning: Dropping of nuisance columns in DataFrame reductions (with 'numeric_only=None') is deprecated; in a future version this will raise TypeError.  Select only valid columns before calling the reduction.\n",
      "  data.min()\n"
     ]
    },
    {
     "data": {
      "text/plain": [
       "BOROUGH                                                 1\n",
       "BLOCK                                                   1\n",
       "LOT                                                     1\n",
       "RESIDENTIAL UNITS                                       0\n",
       "COMMERCIAL UNITS                                        0\n",
       "TOTAL UNITS                                             0\n",
       "YEAR BUILT                                              0\n",
       "TAX CLASS AT TIME OF SALE                               1\n",
       "SALE DATE                             2016-09-01 00:00:00\n",
       "BUILDING CLASS AT PRESENT_new                           0\n",
       "NEIGHBORHOOD_new                                        0\n",
       "BUILDING CLASS CATEGORY_new                             0\n",
       "TAX CLASS AT PRESENT_new                                0\n",
       "ADDRESS_new                                             0\n",
       "BUILDING CLASS AT TIME OF SALE_new                      0\n",
       "dtype: object"
      ]
     },
     "execution_count": 100,
     "metadata": {},
     "output_type": "execute_result"
    }
   ],
   "source": [
    "data.min()"
   ]
  },
  {
   "cell_type": "markdown",
   "id": "276b0b37",
   "metadata": {},
   "source": [
    "### H. Range"
   ]
  },
  {
   "cell_type": "markdown",
   "id": "08de7af4",
   "metadata": {},
   "source": [
    "Range perbedaan antara skor paling tinggi dengan skor paling rendah dari suatu distribusi data. Nilai Range untuk data NYC Rolling Sales dihitung menggunakan library statistics dihasilkan output berikut."
   ]
  },
  {
   "cell_type": "code",
   "execution_count": 258,
   "id": "36edc2b9",
   "metadata": {},
   "outputs": [
    {
     "name": "stderr",
     "output_type": "stream",
     "text": [
      "C:\\Users\\LENOVO\\AppData\\Local\\Temp/ipykernel_8884/1121316238.py:1: FutureWarning: Dropping of nuisance columns in DataFrame reductions (with 'numeric_only=None') is deprecated; in a future version this will raise TypeError.  Select only valid columns before calling the reduction.\n",
      "  Range = data.max()-data.min()\n",
      "C:\\Users\\LENOVO\\AppData\\Local\\Temp/ipykernel_8884/1121316238.py:1: FutureWarning: Dropping of nuisance columns in DataFrame reductions (with 'numeric_only=None') is deprecated; in a future version this will raise TypeError.  Select only valid columns before calling the reduction.\n",
      "  Range = data.max()-data.min()\n"
     ]
    },
    {
     "data": {
      "text/plain": [
       "BOROUGH                                   4\n",
       "BLOCK                                 16321\n",
       "LOT                                    9105\n",
       "RESIDENTIAL UNITS                      1844\n",
       "COMMERCIAL UNITS                       2261\n",
       "TOTAL UNITS                            2261\n",
       "YEAR BUILT                             2017\n",
       "TAX CLASS AT TIME OF SALE                 3\n",
       "BUILDING CLASS AT PRESENT_new           166\n",
       "NEIGHBORHOOD_new                        253\n",
       "BUILDING CLASS CATEGORY_new              46\n",
       "TAX CLASS AT PRESENT_new                 10\n",
       "ADDRESS_new                           67562\n",
       "BUILDING CLASS AT TIME OF SALE_new      165\n",
       "dtype: int64"
      ]
     },
     "execution_count": 258,
     "metadata": {},
     "output_type": "execute_result"
    }
   ],
   "source": [
    "Range = data.max()-data.min()\n",
    "Range"
   ]
  },
  {
   "cell_type": "markdown",
   "id": "36998d88",
   "metadata": {},
   "source": [
    "### I. Inter Quartille Range (IQR)"
   ]
  },
  {
   "cell_type": "markdown",
   "id": "c00e11d1",
   "metadata": {},
   "source": [
    "IQR atau Inter Quartil Range merupakan selisih antara persentil ke-75 (kuartil atas) dan persentil ke-25 (kuartil bawah). Nilai IQR untuk data NYC Rolling Sales dihitung menggunakan library statistics dihasilkan output berikut."
   ]
  },
  {
   "cell_type": "code",
   "execution_count": 257,
   "id": "9ecf2791",
   "metadata": {},
   "outputs": [
    {
     "data": {
      "text/plain": [
       "BOROUGH                                   2.00\n",
       "BLOCK                                  4958.25\n",
       "LOT                                     979.00\n",
       "RESIDENTIAL UNITS                         2.00\n",
       "COMMERCIAL UNITS                          0.00\n",
       "TOTAL UNITS                               1.00\n",
       "YEAR BUILT                               45.00\n",
       "TAX CLASS AT TIME OF SALE                 1.00\n",
       "BUILDING CLASS AT PRESENT_new           110.00\n",
       "NEIGHBORHOOD_new                        127.00\n",
       "BUILDING CLASS CATEGORY_new              12.00\n",
       "TAX CLASS AT PRESENT_new                  4.00\n",
       "ADDRESS_new                           33109.50\n",
       "BUILDING CLASS AT TIME OF SALE_new      110.00\n",
       "dtype: float64"
      ]
     },
     "execution_count": 257,
     "metadata": {},
     "output_type": "execute_result"
    }
   ],
   "source": [
    "IQR = data.quantile(q=0.75)-data.quantile(q=0.25)\n",
    "IQR"
   ]
  },
  {
   "cell_type": "markdown",
   "id": "e31dd902",
   "metadata": {},
   "source": [
    "### *Descriptive Statistics menggunakan .describe *"
   ]
  },
  {
   "cell_type": "markdown",
   "id": "3e52ee00",
   "metadata": {},
   "source": [
    "Untuk mengetahui nilai statistik deskriptif secara keseluruhan dapat dilakukan menggunakan .describe melalui library pandas."
   ]
  },
  {
   "cell_type": "code",
   "execution_count": 146,
   "id": "231e2268",
   "metadata": {},
   "outputs": [
    {
     "data": {
      "text/html": [
       "<div>\n",
       "<style scoped>\n",
       "    .dataframe tbody tr th:only-of-type {\n",
       "        vertical-align: middle;\n",
       "    }\n",
       "\n",
       "    .dataframe tbody tr th {\n",
       "        vertical-align: top;\n",
       "    }\n",
       "\n",
       "    .dataframe thead th {\n",
       "        text-align: right;\n",
       "    }\n",
       "</style>\n",
       "<table border=\"1\" class=\"dataframe\">\n",
       "  <thead>\n",
       "    <tr style=\"text-align: right;\">\n",
       "      <th></th>\n",
       "      <th>count</th>\n",
       "      <th>unique</th>\n",
       "      <th>top</th>\n",
       "      <th>freq</th>\n",
       "      <th>mean</th>\n",
       "      <th>std</th>\n",
       "      <th>min</th>\n",
       "      <th>25%</th>\n",
       "      <th>50%</th>\n",
       "      <th>75%</th>\n",
       "      <th>max</th>\n",
       "    </tr>\n",
       "  </thead>\n",
       "  <tbody>\n",
       "    <tr>\n",
       "      <th>BOROUGH</th>\n",
       "      <td>84548.0</td>\n",
       "      <td>NaN</td>\n",
       "      <td>NaN</td>\n",
       "      <td>NaN</td>\n",
       "      <td>2.998758</td>\n",
       "      <td>1.289790</td>\n",
       "      <td>1.0</td>\n",
       "      <td>2.00</td>\n",
       "      <td>3.0</td>\n",
       "      <td>4.00</td>\n",
       "      <td>5.0</td>\n",
       "    </tr>\n",
       "    <tr>\n",
       "      <th>BLOCK</th>\n",
       "      <td>84548.0</td>\n",
       "      <td>NaN</td>\n",
       "      <td>NaN</td>\n",
       "      <td>NaN</td>\n",
       "      <td>4237.218976</td>\n",
       "      <td>3568.263407</td>\n",
       "      <td>1.0</td>\n",
       "      <td>1322.75</td>\n",
       "      <td>3311.0</td>\n",
       "      <td>6281.00</td>\n",
       "      <td>16322.0</td>\n",
       "    </tr>\n",
       "    <tr>\n",
       "      <th>LOT</th>\n",
       "      <td>84548.0</td>\n",
       "      <td>NaN</td>\n",
       "      <td>NaN</td>\n",
       "      <td>NaN</td>\n",
       "      <td>376.224015</td>\n",
       "      <td>658.136814</td>\n",
       "      <td>1.0</td>\n",
       "      <td>22.00</td>\n",
       "      <td>50.0</td>\n",
       "      <td>1001.00</td>\n",
       "      <td>9106.0</td>\n",
       "    </tr>\n",
       "    <tr>\n",
       "      <th>RESIDENTIAL UNITS</th>\n",
       "      <td>84548.0</td>\n",
       "      <td>NaN</td>\n",
       "      <td>NaN</td>\n",
       "      <td>NaN</td>\n",
       "      <td>2.025264</td>\n",
       "      <td>16.721037</td>\n",
       "      <td>0.0</td>\n",
       "      <td>0.00</td>\n",
       "      <td>1.0</td>\n",
       "      <td>2.00</td>\n",
       "      <td>1844.0</td>\n",
       "    </tr>\n",
       "    <tr>\n",
       "      <th>COMMERCIAL UNITS</th>\n",
       "      <td>84548.0</td>\n",
       "      <td>NaN</td>\n",
       "      <td>NaN</td>\n",
       "      <td>NaN</td>\n",
       "      <td>0.193559</td>\n",
       "      <td>8.713183</td>\n",
       "      <td>0.0</td>\n",
       "      <td>0.00</td>\n",
       "      <td>0.0</td>\n",
       "      <td>0.00</td>\n",
       "      <td>2261.0</td>\n",
       "    </tr>\n",
       "    <tr>\n",
       "      <th>TOTAL UNITS</th>\n",
       "      <td>84548.0</td>\n",
       "      <td>NaN</td>\n",
       "      <td>NaN</td>\n",
       "      <td>NaN</td>\n",
       "      <td>2.249184</td>\n",
       "      <td>18.972584</td>\n",
       "      <td>0.0</td>\n",
       "      <td>1.00</td>\n",
       "      <td>1.0</td>\n",
       "      <td>2.00</td>\n",
       "      <td>2261.0</td>\n",
       "    </tr>\n",
       "    <tr>\n",
       "      <th>LAND SQUARE FEET</th>\n",
       "      <td>84548.0</td>\n",
       "      <td>6062.0</td>\n",
       "      <td>2325.0</td>\n",
       "      <td>26252.0</td>\n",
       "      <td>NaN</td>\n",
       "      <td>NaN</td>\n",
       "      <td>NaN</td>\n",
       "      <td>NaN</td>\n",
       "      <td>NaN</td>\n",
       "      <td>NaN</td>\n",
       "      <td>NaN</td>\n",
       "    </tr>\n",
       "    <tr>\n",
       "      <th>GROSS SQUARE FEET</th>\n",
       "      <td>84548.0</td>\n",
       "      <td>5691.0</td>\n",
       "      <td>1680.0</td>\n",
       "      <td>27612.0</td>\n",
       "      <td>NaN</td>\n",
       "      <td>NaN</td>\n",
       "      <td>NaN</td>\n",
       "      <td>NaN</td>\n",
       "      <td>NaN</td>\n",
       "      <td>NaN</td>\n",
       "      <td>NaN</td>\n",
       "    </tr>\n",
       "    <tr>\n",
       "      <th>YEAR BUILT</th>\n",
       "      <td>84548.0</td>\n",
       "      <td>NaN</td>\n",
       "      <td>NaN</td>\n",
       "      <td>NaN</td>\n",
       "      <td>1789.322976</td>\n",
       "      <td>537.344993</td>\n",
       "      <td>0.0</td>\n",
       "      <td>1920.00</td>\n",
       "      <td>1940.0</td>\n",
       "      <td>1965.00</td>\n",
       "      <td>2017.0</td>\n",
       "    </tr>\n",
       "    <tr>\n",
       "      <th>TAX CLASS AT TIME OF SALE</th>\n",
       "      <td>84548.0</td>\n",
       "      <td>NaN</td>\n",
       "      <td>NaN</td>\n",
       "      <td>NaN</td>\n",
       "      <td>1.657485</td>\n",
       "      <td>0.819341</td>\n",
       "      <td>1.0</td>\n",
       "      <td>1.00</td>\n",
       "      <td>2.0</td>\n",
       "      <td>2.00</td>\n",
       "      <td>4.0</td>\n",
       "    </tr>\n",
       "    <tr>\n",
       "      <th>SALE PRICE</th>\n",
       "      <td>84548.0</td>\n",
       "      <td>10008.0</td>\n",
       "      <td>530000.0</td>\n",
       "      <td>14561.0</td>\n",
       "      <td>NaN</td>\n",
       "      <td>NaN</td>\n",
       "      <td>NaN</td>\n",
       "      <td>NaN</td>\n",
       "      <td>NaN</td>\n",
       "      <td>NaN</td>\n",
       "      <td>NaN</td>\n",
       "    </tr>\n",
       "    <tr>\n",
       "      <th>BUILDING CLASS AT PRESENT_new</th>\n",
       "      <td>84548.0</td>\n",
       "      <td>NaN</td>\n",
       "      <td>NaN</td>\n",
       "      <td>NaN</td>\n",
       "      <td>47.573284</td>\n",
       "      <td>51.252398</td>\n",
       "      <td>0.0</td>\n",
       "      <td>10.00</td>\n",
       "      <td>20.0</td>\n",
       "      <td>120.00</td>\n",
       "      <td>166.0</td>\n",
       "    </tr>\n",
       "    <tr>\n",
       "      <th>NEIGHBORHOOD_new</th>\n",
       "      <td>84548.0</td>\n",
       "      <td>NaN</td>\n",
       "      <td>NaN</td>\n",
       "      <td>NaN</td>\n",
       "      <td>127.367708</td>\n",
       "      <td>74.983088</td>\n",
       "      <td>0.0</td>\n",
       "      <td>68.00</td>\n",
       "      <td>122.0</td>\n",
       "      <td>195.00</td>\n",
       "      <td>253.0</td>\n",
       "    </tr>\n",
       "    <tr>\n",
       "      <th>BUILDING CLASS CATEGORY_new</th>\n",
       "      <td>84548.0</td>\n",
       "      <td>NaN</td>\n",
       "      <td>NaN</td>\n",
       "      <td>NaN</td>\n",
       "      <td>7.455043</td>\n",
       "      <td>9.022975</td>\n",
       "      <td>0.0</td>\n",
       "      <td>1.00</td>\n",
       "      <td>6.0</td>\n",
       "      <td>13.00</td>\n",
       "      <td>46.0</td>\n",
       "    </tr>\n",
       "    <tr>\n",
       "      <th>TAX CLASS AT PRESENT_new</th>\n",
       "      <td>84548.0</td>\n",
       "      <td>NaN</td>\n",
       "      <td>NaN</td>\n",
       "      <td>NaN</td>\n",
       "      <td>3.526305</td>\n",
       "      <td>2.767719</td>\n",
       "      <td>0.0</td>\n",
       "      <td>1.00</td>\n",
       "      <td>5.0</td>\n",
       "      <td>5.00</td>\n",
       "      <td>10.0</td>\n",
       "    </tr>\n",
       "    <tr>\n",
       "      <th>ADDRESS_new</th>\n",
       "      <td>84548.0</td>\n",
       "      <td>NaN</td>\n",
       "      <td>NaN</td>\n",
       "      <td>NaN</td>\n",
       "      <td>33608.317062</td>\n",
       "      <td>19361.328170</td>\n",
       "      <td>0.0</td>\n",
       "      <td>16840.75</td>\n",
       "      <td>33806.5</td>\n",
       "      <td>49950.25</td>\n",
       "      <td>67562.0</td>\n",
       "    </tr>\n",
       "    <tr>\n",
       "      <th>BUILDING CLASS AT TIME OF SALE_new</th>\n",
       "      <td>84548.0</td>\n",
       "      <td>NaN</td>\n",
       "      <td>NaN</td>\n",
       "      <td>NaN</td>\n",
       "      <td>47.657106</td>\n",
       "      <td>51.538907</td>\n",
       "      <td>0.0</td>\n",
       "      <td>9.00</td>\n",
       "      <td>19.0</td>\n",
       "      <td>119.00</td>\n",
       "      <td>165.0</td>\n",
       "    </tr>\n",
       "  </tbody>\n",
       "</table>\n",
       "</div>"
      ],
      "text/plain": [
       "                                      count   unique       top     freq  \\\n",
       "BOROUGH                             84548.0      NaN       NaN      NaN   \n",
       "BLOCK                               84548.0      NaN       NaN      NaN   \n",
       "LOT                                 84548.0      NaN       NaN      NaN   \n",
       "RESIDENTIAL UNITS                   84548.0      NaN       NaN      NaN   \n",
       "COMMERCIAL UNITS                    84548.0      NaN       NaN      NaN   \n",
       "TOTAL UNITS                         84548.0      NaN       NaN      NaN   \n",
       "LAND SQUARE FEET                    84548.0   6062.0    2325.0  26252.0   \n",
       "GROSS SQUARE FEET                   84548.0   5691.0    1680.0  27612.0   \n",
       "YEAR BUILT                          84548.0      NaN       NaN      NaN   \n",
       "TAX CLASS AT TIME OF SALE           84548.0      NaN       NaN      NaN   \n",
       "SALE PRICE                          84548.0  10008.0  530000.0  14561.0   \n",
       "BUILDING CLASS AT PRESENT_new       84548.0      NaN       NaN      NaN   \n",
       "NEIGHBORHOOD_new                    84548.0      NaN       NaN      NaN   \n",
       "BUILDING CLASS CATEGORY_new         84548.0      NaN       NaN      NaN   \n",
       "TAX CLASS AT PRESENT_new            84548.0      NaN       NaN      NaN   \n",
       "ADDRESS_new                         84548.0      NaN       NaN      NaN   \n",
       "BUILDING CLASS AT TIME OF SALE_new  84548.0      NaN       NaN      NaN   \n",
       "\n",
       "                                            mean           std  min       25%  \\\n",
       "BOROUGH                                 2.998758      1.289790  1.0      2.00   \n",
       "BLOCK                                4237.218976   3568.263407  1.0   1322.75   \n",
       "LOT                                   376.224015    658.136814  1.0     22.00   \n",
       "RESIDENTIAL UNITS                       2.025264     16.721037  0.0      0.00   \n",
       "COMMERCIAL UNITS                        0.193559      8.713183  0.0      0.00   \n",
       "TOTAL UNITS                             2.249184     18.972584  0.0      1.00   \n",
       "LAND SQUARE FEET                             NaN           NaN  NaN       NaN   \n",
       "GROSS SQUARE FEET                            NaN           NaN  NaN       NaN   \n",
       "YEAR BUILT                           1789.322976    537.344993  0.0   1920.00   \n",
       "TAX CLASS AT TIME OF SALE               1.657485      0.819341  1.0      1.00   \n",
       "SALE PRICE                                   NaN           NaN  NaN       NaN   \n",
       "BUILDING CLASS AT PRESENT_new          47.573284     51.252398  0.0     10.00   \n",
       "NEIGHBORHOOD_new                      127.367708     74.983088  0.0     68.00   \n",
       "BUILDING CLASS CATEGORY_new             7.455043      9.022975  0.0      1.00   \n",
       "TAX CLASS AT PRESENT_new                3.526305      2.767719  0.0      1.00   \n",
       "ADDRESS_new                         33608.317062  19361.328170  0.0  16840.75   \n",
       "BUILDING CLASS AT TIME OF SALE_new     47.657106     51.538907  0.0      9.00   \n",
       "\n",
       "                                        50%       75%      max  \n",
       "BOROUGH                                 3.0      4.00      5.0  \n",
       "BLOCK                                3311.0   6281.00  16322.0  \n",
       "LOT                                    50.0   1001.00   9106.0  \n",
       "RESIDENTIAL UNITS                       1.0      2.00   1844.0  \n",
       "COMMERCIAL UNITS                        0.0      0.00   2261.0  \n",
       "TOTAL UNITS                             1.0      2.00   2261.0  \n",
       "LAND SQUARE FEET                        NaN       NaN      NaN  \n",
       "GROSS SQUARE FEET                       NaN       NaN      NaN  \n",
       "YEAR BUILT                           1940.0   1965.00   2017.0  \n",
       "TAX CLASS AT TIME OF SALE               2.0      2.00      4.0  \n",
       "SALE PRICE                              NaN       NaN      NaN  \n",
       "BUILDING CLASS AT PRESENT_new          20.0    120.00    166.0  \n",
       "NEIGHBORHOOD_new                      122.0    195.00    253.0  \n",
       "BUILDING CLASS CATEGORY_new             6.0     13.00     46.0  \n",
       "TAX CLASS AT PRESENT_new                5.0      5.00     10.0  \n",
       "ADDRESS_new                         33806.5  49950.25  67562.0  \n",
       "BUILDING CLASS AT TIME OF SALE_new     19.0    119.00    165.0  "
      ]
     },
     "execution_count": 146,
     "metadata": {},
     "output_type": "execute_result"
    }
   ],
   "source": [
    "data.describe(include='all').T"
   ]
  },
  {
   "cell_type": "raw",
   "id": "ec7bb7ba",
   "metadata": {},
   "source": []
  },
  {
   "cell_type": "markdown",
   "id": "2ee71d27",
   "metadata": {},
   "source": [
    "## 3. Inferential Statistics\n",
    "\n",
    "> Inferential statistika merupakan proses analisis data yang mengambil data sebagai sampel dari populasi yang lebih besar untuk populasi yang lebih besar."
   ]
  },
  {
   "cell_type": "markdown",
   "id": "cbbb05aa",
   "metadata": {},
   "source": [
    "### A. PROBABILITY DISTRIBUTIONS\n",
    "\n",
    "> Probability distibution atau distribusi probabilitas merupakan suatu distribusi yang mengambarkan peluang dari sekumnpulan variat sebagai pengganti frekuensinya.\n",
    "\n",
    "Sebelum melakukan analisis statistika seacara inferensial terlebihdahulu melakukan import library yang akan digunakan."
   ]
  },
  {
   "cell_type": "code",
   "execution_count": 104,
   "id": "3a9451da",
   "metadata": {},
   "outputs": [],
   "source": [
    "# import seaborn\n",
    "import seaborn as sns\n",
    "# settings for seaborn plotting style\n",
    "sns.set(color_codes=True)\n",
    "# settings for seaborn plot sizes\n",
    "sns.set(rc={'figure.figsize':(5,5)})"
   ]
  },
  {
   "cell_type": "code",
   "execution_count": 105,
   "id": "75d94ae7",
   "metadata": {},
   "outputs": [],
   "source": [
    "# for inline plots in jupyter\n",
    "%matplotlib inline\n",
    "# import matplotlib\n",
    "import matplotlib.pyplot as plt\n",
    "# for latex equations\n",
    "from IPython.display import Math, Latex\n",
    "# for displaying images\n",
    "from IPython.core.display import Image"
   ]
  },
  {
   "cell_type": "markdown",
   "id": "5e713836",
   "metadata": {},
   "source": [
    "Dilakukan visualisasi kurva untuk melihat bagaimana distribusi dari masing-masing data yang ada."
   ]
  },
  {
   "cell_type": "markdown",
   "id": "ea35c569",
   "metadata": {},
   "source": [
    "**Kurva Data Borough**"
   ]
  },
  {
   "cell_type": "code",
   "execution_count": 198,
   "id": "5b7ce1ad",
   "metadata": {},
   "outputs": [
    {
     "name": "stderr",
     "output_type": "stream",
     "text": [
      "C:\\ProgramData\\Anaconda3\\lib\\site-packages\\seaborn\\distributions.py:2619: FutureWarning: `distplot` is a deprecated function and will be removed in a future version. Please adapt your code to use either `displot` (a figure-level function with similar flexibility) or `histplot` (an axes-level function for histograms).\n",
      "  warnings.warn(msg, FutureWarning)\n"
     ]
    },
    {
     "data": {
      "text/plain": [
       "<AxesSubplot:xlabel='BOROUGH', ylabel='Density'>"
      ]
     },
     "execution_count": 198,
     "metadata": {},
     "output_type": "execute_result"
    },
    {
     "data": {
      "image/png": "[encoded data removed]",
      "text/plain": [
       "<Figure size 432x288 with 1 Axes>"
      ]
     },
     "metadata": {
      "needs_background": "light"
     },
     "output_type": "display_data"
    }
   ],
   "source": [
    "sns.distplot(data['BOROUGH'],\n",
    "            color='#74959A')"
   ]
  },
  {
   "cell_type": "markdown",
   "id": "6d2d9c0b",
   "metadata": {},
   "source": [
    "Dilakukan pengelompokan variabel borough untuk dilakukan plotting distribusi untuk melihat bentuk grafik distribusi yang dihasilkan."
   ]
  },
  {
   "cell_type": "code",
   "execution_count": 157,
   "id": "d2653d1c",
   "metadata": {},
   "outputs": [
    {
     "data": {
      "text/plain": [
       "BOROUGH  BOROUGH\n",
       "1        1          18306\n",
       "2        2           7049\n",
       "3        3          24047\n",
       "4        4          26736\n",
       "5        5           8410\n",
       "Name: BOROUGH, dtype: int64"
      ]
     },
     "execution_count": 157,
     "metadata": {},
     "output_type": "execute_result"
    }
   ],
   "source": [
    "df1 = data['BOROUGH'].groupby(data['BOROUGH']).value_counts()\n",
    "df1"
   ]
  },
  {
   "cell_type": "code",
   "execution_count": 359,
   "id": "8d8279dc",
   "metadata": {},
   "outputs": [
    {
     "name": "stderr",
     "output_type": "stream",
     "text": [
      "C:\\ProgramData\\Anaconda3\\lib\\site-packages\\seaborn\\distributions.py:2619: FutureWarning: `distplot` is a deprecated function and will be removed in a future version. Please adapt your code to use either `displot` (a figure-level function with similar flexibility) or `histplot` (an axes-level function for histograms).\n",
      "  warnings.warn(msg, FutureWarning)\n"
     ]
    },
    {
     "data": {
      "text/plain": [
       "[Text(0.5, 0, 'Distribution '), Text(0, 0.5, 'Frequency')]"
      ]
     },
     "execution_count": 359,
     "metadata": {},
     "output_type": "execute_result"
    },
    {
     "data": {
      "image/png": "[encoded data removed]",
      "text/plain": [
       "<Figure size 432x288 with 1 Axes>"
      ]
     },
     "metadata": {
      "needs_background": "light"
     },
     "output_type": "display_data"
    }
   ],
   "source": [
    "ax = sns.distplot(df1,\n",
    "                  bins=2,\n",
    "                  kde=True,\n",
    "                  color='#74959A',\n",
    "                  hist_kws={\"linewidth\": 15,'alpha':1})\n",
    "ax.set(xlabel='Distribution ', ylabel='Frequency')"
   ]
  },
  {
   "cell_type": "markdown",
   "id": "48176ba8",
   "metadata": {},
   "source": [
    "Dari grafik yang dihasilkan, terlihat bahwa data untuk variabel BOROUGH berdistribusi Uniform. "
   ]
  },
  {
   "cell_type": "markdown",
   "id": "f7502360",
   "metadata": {},
   "source": [
    "**Plot Data Block**"
   ]
  },
  {
   "cell_type": "code",
   "execution_count": 201,
   "id": "bfe89e02",
   "metadata": {},
   "outputs": [
    {
     "name": "stderr",
     "output_type": "stream",
     "text": [
      "C:\\ProgramData\\Anaconda3\\lib\\site-packages\\seaborn\\distributions.py:2619: FutureWarning: `distplot` is a deprecated function and will be removed in a future version. Please adapt your code to use either `displot` (a figure-level function with similar flexibility) or `histplot` (an axes-level function for histograms).\n",
      "  warnings.warn(msg, FutureWarning)\n"
     ]
    },
    {
     "data": {
      "text/plain": [
       "<AxesSubplot:xlabel='BLOCK', ylabel='Density'>"
      ]
     },
     "execution_count": 201,
     "metadata": {},
     "output_type": "execute_result"
    },
    {
     "data": {
      "image/png": "[encoded data removed]",
      "text/plain": [
       "<Figure size 432x288 with 1 Axes>"
      ]
     },
     "metadata": {
      "needs_background": "light"
     },
     "output_type": "display_data"
    }
   ],
   "source": [
    "sns.distplot(data['BLOCK'],\n",
    "            color='#495371')"
   ]
  },
  {
   "cell_type": "markdown",
   "id": "d1b7966d",
   "metadata": {},
   "source": [
    "Dari grafik yang dihasilkan, terlihat bahwa data untuk variabel BLOCK berdistribusi Exponensial. "
   ]
  },
  {
   "cell_type": "markdown",
   "id": "ce9aaa69",
   "metadata": {},
   "source": [
    "**Plot Data LOT**"
   ]
  },
  {
   "cell_type": "code",
   "execution_count": 203,
   "id": "63898897",
   "metadata": {},
   "outputs": [
    {
     "name": "stderr",
     "output_type": "stream",
     "text": [
      "C:\\ProgramData\\Anaconda3\\lib\\site-packages\\seaborn\\distributions.py:2619: FutureWarning: `distplot` is a deprecated function and will be removed in a future version. Please adapt your code to use either `displot` (a figure-level function with similar flexibility) or `histplot` (an axes-level function for histograms).\n",
      "  warnings.warn(msg, FutureWarning)\n"
     ]
    },
    {
     "data": {
      "text/plain": [
       "<AxesSubplot:xlabel='LOT', ylabel='Density'>"
      ]
     },
     "execution_count": 203,
     "metadata": {},
     "output_type": "execute_result"
    },
    {
     "data": {
      "image/png": "[encoded data removed]",
      "text/plain": [
       "<Figure size 432x288 with 1 Axes>"
      ]
     },
     "metadata": {
      "needs_background": "light"
     },
     "output_type": "display_data"
    }
   ],
   "source": [
    "sns.distplot(data['LOT'],\n",
    "            color='#495371')"
   ]
  },
  {
   "cell_type": "markdown",
   "id": "6237d5cc",
   "metadata": {},
   "source": [
    "Dari grafik yang dihasilkan, terlihat bahwa data untuk variabel LOT \n",
    "berdistribusi Exponensial. "
   ]
  },
  {
   "cell_type": "markdown",
   "id": "48307d70",
   "metadata": {},
   "source": [
    "**Plot Data BUILDING CLASS CATEGORY_new**"
   ]
  },
  {
   "cell_type": "code",
   "execution_count": 196,
   "id": "21650cb5",
   "metadata": {},
   "outputs": [
    {
     "name": "stderr",
     "output_type": "stream",
     "text": [
      "C:\\ProgramData\\Anaconda3\\lib\\site-packages\\seaborn\\distributions.py:2619: FutureWarning: `distplot` is a deprecated function and will be removed in a future version. Please adapt your code to use either `displot` (a figure-level function with similar flexibility) or `histplot` (an axes-level function for histograms).\n",
      "  warnings.warn(msg, FutureWarning)\n"
     ]
    },
    {
     "data": {
      "text/plain": [
       "<AxesSubplot:xlabel='BUILDING CLASS CATEGORY_new', ylabel='Density'>"
      ]
     },
     "execution_count": 196,
     "metadata": {},
     "output_type": "execute_result"
    },
    {
     "data": {
      "image/png": "[encoded data removed]",
      "text/plain": [
       "<Figure size 432x288 with 1 Axes>"
      ]
     },
     "metadata": {
      "needs_background": "light"
     },
     "output_type": "display_data"
    }
   ],
   "source": [
    "sns.distplot(data['BUILDING CLASS CATEGORY_new'],\n",
    "            color='#495371')"
   ]
  },
  {
   "cell_type": "markdown",
   "id": "7785ef86",
   "metadata": {},
   "source": [
    "Dari grafik yang dihasilkan, terlihat bahwa data untuk variabel BUILDING CLASS CATEGORY_new berdistribusi Exponensial. "
   ]
  },
  {
   "cell_type": "markdown",
   "id": "4592151b",
   "metadata": {},
   "source": [
    "**Plot Data BUILDING CLASS AT TIME OF SALE_new**"
   ]
  },
  {
   "cell_type": "code",
   "execution_count": 202,
   "id": "335fc7ad",
   "metadata": {},
   "outputs": [
    {
     "name": "stderr",
     "output_type": "stream",
     "text": [
      "C:\\ProgramData\\Anaconda3\\lib\\site-packages\\seaborn\\distributions.py:2619: FutureWarning: `distplot` is a deprecated function and will be removed in a future version. Please adapt your code to use either `displot` (a figure-level function with similar flexibility) or `histplot` (an axes-level function for histograms).\n",
      "  warnings.warn(msg, FutureWarning)\n"
     ]
    },
    {
     "data": {
      "text/plain": [
       "<AxesSubplot:xlabel='BUILDING CLASS AT TIME OF SALE_new', ylabel='Density'>"
      ]
     },
     "execution_count": 202,
     "metadata": {},
     "output_type": "execute_result"
    },
    {
     "data": {
      "image/png": "[encoded data removed]",
      "text/plain": [
       "<Figure size 432x288 with 1 Axes>"
      ]
     },
     "metadata": {
      "needs_background": "light"
     },
     "output_type": "display_data"
    }
   ],
   "source": [
    "sns.distplot(data['BUILDING CLASS AT TIME OF SALE_new'],\n",
    "            color='#495371')"
   ]
  },
  {
   "cell_type": "markdown",
   "id": "f416a318",
   "metadata": {},
   "source": [
    "Dari grafik yang dihasilkan, terlihat bahwa data untuk variabel BUILDING CLASS AT TIME OF SALE_new berdistribusi Exponensial. "
   ]
  },
  {
   "cell_type": "markdown",
   "id": "f1b11e33",
   "metadata": {},
   "source": [
    "Dari beberapa data yang telah dilakukan visualisasi kurva, data yang dihasilan tidak berdistribusi normal."
   ]
  },
  {
   "cell_type": "markdown",
   "id": "8272405b",
   "metadata": {},
   "source": [
    "## B. Confidence Intervals"
   ]
  },
  {
   "cell_type": "code",
   "execution_count": 238,
   "id": "7f702466",
   "metadata": {},
   "outputs": [],
   "source": [
    "import pandas as pd\n",
    "import seaborn as sns\n",
    "import scipy.stats as stats\n",
    "import numpy as np\n",
    "import random\n",
    "import warnings\n",
    "import matplotlib.pyplot as plt\n",
    "%matplotlib inline"
   ]
  },
  {
   "cell_type": "markdown",
   "id": "f1fa49fa",
   "metadata": {},
   "source": [
    "Digunakan variabel **BUILDING CLASS CATEGORY_new** untuk melihat cofidence intervalnya."
   ]
  },
  {
   "cell_type": "code",
   "execution_count": 281,
   "id": "64645471",
   "metadata": {},
   "outputs": [
    {
     "name": "stderr",
     "output_type": "stream",
     "text": [
      "C:\\ProgramData\\Anaconda3\\lib\\site-packages\\seaborn\\distributions.py:2619: FutureWarning: `distplot` is a deprecated function and will be removed in a future version. Please adapt your code to use either `displot` (a figure-level function with similar flexibility) or `histplot` (an axes-level function for histograms).\n",
      "  warnings.warn(msg, FutureWarning)\n"
     ]
    },
    {
     "data": {
      "text/plain": [
       "<AxesSubplot:xlabel='BUILDING CLASS CATEGORY_new', ylabel='Density'>"
      ]
     },
     "execution_count": 281,
     "metadata": {},
     "output_type": "execute_result"
    },
    {
     "data": {
      "image/png": "[encoded data removed]",
      "text/plain": [
       "<Figure size 432x288 with 1 Axes>"
      ]
     },
     "metadata": {
      "needs_background": "light"
     },
     "output_type": "display_data"
    }
   ],
   "source": [
    "sns.distplot(data['BUILDING CLASS CATEGORY_new'],\n",
    "            color='#74959A')"
   ]
  },
  {
   "cell_type": "code",
   "execution_count": 285,
   "id": "ca96b02a",
   "metadata": {},
   "outputs": [],
   "source": [
    "df2 = data['BUILDING CLASS CATEGORY_new'].groupby(data['BUILDING CLASS CATEGORY_new']).value_counts()"
   ]
  },
  {
   "cell_type": "code",
   "execution_count": 360,
   "id": "73d19926",
   "metadata": {},
   "outputs": [
    {
     "name": "stderr",
     "output_type": "stream",
     "text": [
      "C:\\ProgramData\\Anaconda3\\lib\\site-packages\\seaborn\\distributions.py:2619: FutureWarning: `distplot` is a deprecated function and will be removed in a future version. Please adapt your code to use either `displot` (a figure-level function with similar flexibility) or `histplot` (an axes-level function for histograms).\n",
      "  warnings.warn(msg, FutureWarning)\n"
     ]
    },
    {
     "data": {
      "text/plain": [
       "[Text(0.5, 0, 'BUILDING CLASS CATEGORY_new'), Text(0, 0.5, 'Density')]"
      ]
     },
     "execution_count": 360,
     "metadata": {},
     "output_type": "execute_result"
    },
    {
     "data": {
      "image/png": "[encoded data removed]",
      "text/plain": [
       "<Figure size 432x288 with 1 Axes>"
      ]
     },
     "metadata": {
      "needs_background": "light"
     },
     "output_type": "display_data"
    }
   ],
   "source": [
    "ax = sns.distplot(df2,\n",
    "                  bins=5,\n",
    "                  kde=True,\n",
    "                  color='#74959A',\n",
    "                  hist_kws={\"linewidth\": 15,'alpha':1})\n",
    "ax.set(xlabel='BUILDING CLASS CATEGORY_new', ylabel='Density')"
   ]
  },
  {
   "cell_type": "markdown",
   "id": "1eeeb44d",
   "metadata": {},
   "source": [
    "Sulit untuk mengkarakterisasi distribusi yang terbentuk, karena distribusi ini memiliki lebih dari 1 puncak dan tidak terlihat simetris."
   ]
  },
  {
   "cell_type": "code",
   "execution_count": 287,
   "id": "9cda09b5",
   "metadata": {},
   "outputs": [
    {
     "data": {
      "text/plain": [
       "6.708010002835856"
      ]
     },
     "execution_count": 287,
     "metadata": {},
     "output_type": "execute_result"
    }
   ],
   "source": [
    "# Calculation Population Mean\n",
    "pop_mean = data['BUILDING CLASS CATEGORY_new'].mean()\n",
    "pop_mean"
   ]
  },
  {
   "cell_type": "code",
   "execution_count": 288,
   "id": "f960a9a4",
   "metadata": {},
   "outputs": [
    {
     "data": {
      "text/plain": [
       "8.38782716909997"
      ]
     },
     "execution_count": 288,
     "metadata": {},
     "output_type": "execute_result"
    }
   ],
   "source": [
    "# Calculate Population Standard Deviation\n",
    "pop_std_dev= data['BUILDING CLASS CATEGORY_new'].std()\n",
    "pop_std_dev"
   ]
  },
  {
   "cell_type": "markdown",
   "id": "49674aeb",
   "metadata": {},
   "source": [
    "Akan diambil 300 sampel masing-masing dari 25 nilai acak. Untuk setiap sampel akan dihitung rata-rata sampel yang akan disimpan pada list sample_means."
   ]
  },
  {
   "cell_type": "code",
   "execution_count": 361,
   "id": "32199a25",
   "metadata": {},
   "outputs": [],
   "source": [
    "sample_means = []\n",
    "n = 25\n",
    "for sample in range(0, 300):\n",
    "    # random sampling done with replacement\n",
    "    sample_values = np.random.choice(a=data['BOROUGH'], size=n)    \n",
    "    sample_mean = np.mean(sample_values)\n",
    "    sample_means.append(sample_mean)"
   ]
  },
  {
   "cell_type": "code",
   "execution_count": 362,
   "id": "6e689093",
   "metadata": {},
   "outputs": [
    {
     "name": "stderr",
     "output_type": "stream",
     "text": [
      "C:\\ProgramData\\Anaconda3\\lib\\site-packages\\seaborn\\distributions.py:2619: FutureWarning: `distplot` is a deprecated function and will be removed in a future version. Please adapt your code to use either `displot` (a figure-level function with similar flexibility) or `histplot` (an axes-level function for histograms).\n",
      "  warnings.warn(msg, FutureWarning)\n"
     ]
    },
    {
     "data": {
      "image/png": "[encoded data removed]",
      "text/plain": [
       "<Figure size 432x288 with 1 Axes>"
      ]
     },
     "metadata": {
      "needs_background": "light"
     },
     "output_type": "display_data"
    }
   ],
   "source": [
    "# View Distribution of Sample Means (Otherwise Called Sampling Distribution)\n",
    "sns.distplot(sample_means)\n",
    "plt.title(\"Distribution of Sample Means ($n=25$) of BUILDING CLASS CATEGORY\", y=1.015, fontsize=20)\n",
    "plt.xlabel(\"sample mean [pounds]\", labelpad=14)\n",
    "plt.ylabel(\"frequency of occurence\", labelpad=14);"
   ]
  },
  {
   "cell_type": "markdown",
   "id": "a4e45ef7",
   "metadata": {},
   "source": [
    "Apabila dilihat dari bentuk kurva yang terbentuk, terlihat sudah cukup simestris. "
   ]
  },
  {
   "cell_type": "markdown",
   "id": "f2b20083",
   "metadata": {},
   "source": [
    "### Calculate Sampling Distribution (n=25) Summary Statistics\n",
    "\n",
    "> Dilakukan perhitungan mean, median, varians, dan standar deviasi dari sample yang terpilih."
   ]
  },
  {
   "cell_type": "code",
   "execution_count": 293,
   "id": "d288b83a",
   "metadata": {},
   "outputs": [
    {
     "data": {
      "text/plain": [
       "3.0513333333333335"
      ]
     },
     "execution_count": 293,
     "metadata": {},
     "output_type": "execute_result"
    }
   ],
   "source": [
    "# Calculate Median of Sample Means\n",
    "median_of_sample_means = np.mean(sample_means)\n",
    "median_of_sample_means"
   ]
  },
  {
   "cell_type": "code",
   "execution_count": 363,
   "id": "718722db",
   "metadata": {},
   "outputs": [
    {
     "data": {
      "text/plain": [
       "3.0513333333333335"
      ]
     },
     "execution_count": 363,
     "metadata": {},
     "output_type": "execute_result"
    }
   ],
   "source": [
    "# Calculate Mean of Sample Means\n",
    "median_of_sample_means = np.median(sample_means)\n",
    "mean_of_sample_means"
   ]
  },
  {
   "cell_type": "code",
   "execution_count": 364,
   "id": "5a69c957",
   "metadata": {},
   "outputs": [
    {
     "data": {
      "text/plain": [
       "0.0692375288888889"
      ]
     },
     "execution_count": 364,
     "metadata": {},
     "output_type": "execute_result"
    }
   ],
   "source": [
    "# Calculate Standard Deviation of Sample Means\n",
    "var_of_sample_means = np.var(sample_means)\n",
    "var_of_sample_means"
   ]
  },
  {
   "cell_type": "code",
   "execution_count": 365,
   "id": "c78a4c6c",
   "metadata": {},
   "outputs": [
    {
     "data": {
      "text/plain": [
       "0.26313025080535474"
      ]
     },
     "execution_count": 365,
     "metadata": {},
     "output_type": "execute_result"
    }
   ],
   "source": [
    "# Calculate Standard Deviation of Sample Means\n",
    "std_dev_of_sample_means = np.std(sample_means)\n",
    "std_dev_of_sample_means"
   ]
  },
  {
   "cell_type": "markdown",
   "id": "1352a324",
   "metadata": {},
   "source": [
    "### Equation for Standard Deviation of Sampling Distribution"
   ]
  },
  {
   "cell_type": "markdown",
   "id": "0f0dfdcc",
   "metadata": {},
   "source": [
    "> Dilakukan juga perhitungan standard error (SE) dari distribusi sampelnya."
   ]
  },
  {
   "cell_type": "code",
   "execution_count": 366,
   "id": "f5d3c775",
   "metadata": {},
   "outputs": [
    {
     "data": {
      "text/plain": [
       "1.677565433819994"
      ]
     },
     "execution_count": 366,
     "metadata": {},
     "output_type": "execute_result"
    }
   ],
   "source": [
    "standard_error = pop_std_dev/np.sqrt(n)\n",
    "standard_error"
   ]
  },
  {
   "cell_type": "code",
   "execution_count": 367,
   "id": "85f96d1d",
   "metadata": {},
   "outputs": [
    {
     "data": {
      "text/plain": [
       "0.26313025080535474"
      ]
     },
     "execution_count": 367,
     "metadata": {},
     "output_type": "execute_result"
    }
   ],
   "source": [
    "std_dev_of_sample_means"
   ]
  },
  {
   "cell_type": "markdown",
   "id": "acc725e5",
   "metadata": {},
   "source": [
    "### Critical Z-Scores\n",
    "\n",
    "> Nilai z-score two-tailed dengan nilai alpha sebesar 0.5, didapatkan nilai sebesar 1.96 sehingga dapat digunakan untuk mencari nilai kritis dari z-score."
   ]
  },
  {
   "cell_type": "code",
   "execution_count": 368,
   "id": "7869e085",
   "metadata": {},
   "outputs": [
    {
     "data": {
      "text/plain": [
       "0.024997895148220484"
      ]
     },
     "execution_count": 368,
     "metadata": {},
     "output_type": "execute_result"
    }
   ],
   "source": [
    "tail = 1 - stats.norm.cdf(1.96)\n",
    "tail"
   ]
  },
  {
   "cell_type": "code",
   "execution_count": 369,
   "id": "f4b14eb3",
   "metadata": {},
   "outputs": [
    {
     "data": {
      "text/plain": [
       "0.950004209703559"
      ]
     },
     "execution_count": 369,
     "metadata": {},
     "output_type": "execute_result"
    }
   ],
   "source": [
    "# The area under the curve between the z-critcal scores is approximately 0.95\n",
    "1 - (tail * 2)"
   ]
  },
  {
   "cell_type": "code",
   "execution_count": 370,
   "id": "1ac85d52",
   "metadata": {},
   "outputs": [
    {
     "data": {
      "text/plain": [
       "-0.23669491695385458"
      ]
     },
     "execution_count": 370,
     "metadata": {},
     "output_type": "execute_result"
    }
   ],
   "source": [
    "lower_95_perc_bound = mean_of_sample_means - 1.96*standard_error\n",
    "lower_95_perc_bound"
   ]
  },
  {
   "cell_type": "code",
   "execution_count": 371,
   "id": "3eaad70e",
   "metadata": {},
   "outputs": [
    {
     "data": {
      "text/plain": [
       "6.339361583620521"
      ]
     },
     "execution_count": 371,
     "metadata": {},
     "output_type": "execute_result"
    }
   ],
   "source": [
    "upper_95_perc_bound = mean_of_sample_means + 1.96*standard_error\n",
    "upper_95_perc_bound"
   ]
  },
  {
   "cell_type": "code",
   "execution_count": 372,
   "id": "3c3a3cf2",
   "metadata": {
    "scrolled": true
   },
   "outputs": [
    {
     "data": {
      "image/png": "[encoded data removed]",
      "text/plain": [
       "<Figure size 432x288 with 1 Axes>"
      ]
     },
     "metadata": {
      "needs_background": "light"
     },
     "output_type": "display_data"
    }
   ],
   "source": [
    "kde = stats.gaussian_kde(sample_means)\n",
    "pos = np.linspace(np.min(sample_means), np.max(sample_means), 100)\n",
    "plt.plot(pos, kde(pos), color='teal')\n",
    "shade = np.linspace(lower_95_perc_bound, upper_95_perc_bound, 50)\n",
    "plt.fill_between(shade, kde(shade), alpha=0.45, color='teal',)\n",
    "plt.text(x=154, y=.01, horizontalalignment='center', fontsize=17, \n",
    "         s=\"95% of sample means fall within\\nthis shaded area of plus or minus\\n1.96 z-scores from the mean\", \n",
    "         bbox=dict(facecolor='whitesmoke', boxstyle=\"round, pad=10\"))\n",
    "plt.title(\"Distribution of Sample Means ($n=25$) of People's Mass in Pounds\", y=1.015, fontsize=20)\n",
    "plt.xlabel(\"sample mean mass [pounds]\", labelpad=14)\n",
    "plt.ylabel(\"frequency of occurence\", labelpad=14);"
   ]
  },
  {
   "cell_type": "markdown",
   "id": "bb98be42",
   "metadata": {},
   "source": [
    "Berdasarkan hasil perhitungan di atas, didapatkam nilai lower 95% bound sebesar -0.23669491695385458 dan upper 95% bound sebesar 6.339361583620521, yang berarti nilai yang dihasilkan berada -0.23669491695385458 < x < 6.339361583620521."
   ]
  },
  {
   "cell_type": "markdown",
   "id": "9b279dce",
   "metadata": {},
   "source": [
    "## C. Hypothesis Testing"
   ]
  },
  {
   "cell_type": "code",
   "execution_count": 253,
   "id": "fc1133f9",
   "metadata": {},
   "outputs": [],
   "source": [
    "import statsmodels.api as sm\n",
    "import numpy as np\n",
    "import matplotlib.pyplot as plt\n",
    "import pandas as pd"
   ]
  },
  {
   "cell_type": "code",
   "execution_count": 272,
   "id": "17fe7848",
   "metadata": {},
   "outputs": [
    {
     "name": "stdout",
     "output_type": "stream",
     "text": [
      "<class 'pandas.core.frame.DataFrame'>\n",
      "Int64Index: 77578 entries, 0 to 84547\n",
      "Data columns (total 16 columns):\n",
      " #   Column                              Non-Null Count  Dtype \n",
      "---  ------                              --------------  ----- \n",
      " 0   BOROUGH                             77578 non-null  int64 \n",
      " 1   BLOCK                               77578 non-null  int64 \n",
      " 2   LOT                                 77578 non-null  int64 \n",
      " 3   RESIDENTIAL UNITS                   77578 non-null  int64 \n",
      " 4   COMMERCIAL UNITS                    77578 non-null  int64 \n",
      " 5   TOTAL UNITS                         77578 non-null  int64 \n",
      " 6   LAND SQUARE FEET                    77578 non-null  object\n",
      " 7   GROSS SQUARE FEET                   77578 non-null  object\n",
      " 8   TAX CLASS AT TIME OF SALE           77578 non-null  int64 \n",
      " 9   SALE PRICE                          77578 non-null  object\n",
      " 10  BUILDING CLASS AT PRESENT_new       77578 non-null  int16 \n",
      " 11  NEIGHBORHOOD_new                    77578 non-null  int16 \n",
      " 12  BUILDING CLASS CATEGORY_new         77578 non-null  int8  \n",
      " 13  TAX CLASS AT PRESENT_new            77578 non-null  int8  \n",
      " 14  ADDRESS_new                         77578 non-null  int32 \n",
      " 15  BUILDING CLASS AT TIME OF SALE_new  77578 non-null  int16 \n",
      "dtypes: int16(3), int32(1), int64(7), int8(2), object(3)\n",
      "memory usage: 7.4+ MB\n"
     ]
    }
   ],
   "source": [
    "data.info()"
   ]
  },
  {
   "cell_type": "markdown",
   "id": "15b2c49b",
   "metadata": {},
   "source": [
    "Pertanyaan yang digunakan : \n",
    "\n",
    "apakah ada perbedaan unit yang terjual berdasarkan kategori bangunan?"
   ]
  },
  {
   "cell_type": "markdown",
   "id": "0928752d",
   "metadata": {},
   "source": [
    "- alpha : 0.05\n",
    "> Hipotesis\n",
    "- H0 : Terdapat Perbedaan unit yang terjual berdasarkan kategori bangunan\n",
    "- H1 : Tidan Terdapat Perbedaan unit yang terjual berdasarkan kategori bangunan\n",
    "> Kriteria Uji\n",
    "- Data memiliki korelasi apabila angka korelasi yang dihasilkan =! 0"
   ]
  },
  {
   "cell_type": "code",
   "execution_count": 373,
   "id": "bc5cddfb",
   "metadata": {},
   "outputs": [
    {
     "data": {
      "text/html": [
       "<div>\n",
       "<style scoped>\n",
       "    .dataframe tbody tr th:only-of-type {\n",
       "        vertical-align: middle;\n",
       "    }\n",
       "\n",
       "    .dataframe tbody tr th {\n",
       "        vertical-align: top;\n",
       "    }\n",
       "\n",
       "    .dataframe thead th {\n",
       "        text-align: right;\n",
       "    }\n",
       "</style>\n",
       "<table border=\"1\" class=\"dataframe\">\n",
       "  <thead>\n",
       "    <tr style=\"text-align: right;\">\n",
       "      <th></th>\n",
       "      <th>BOROUGH</th>\n",
       "      <th>BLOCK</th>\n",
       "      <th>LOT</th>\n",
       "      <th>RESIDENTIAL UNITS</th>\n",
       "      <th>COMMERCIAL UNITS</th>\n",
       "      <th>TOTAL UNITS</th>\n",
       "      <th>YEAR BUILT</th>\n",
       "      <th>TAX CLASS AT TIME OF SALE</th>\n",
       "      <th>BUILDING CLASS AT PRESENT_new</th>\n",
       "      <th>NEIGHBORHOOD_new</th>\n",
       "      <th>BUILDING CLASS CATEGORY_new</th>\n",
       "      <th>TAX CLASS AT PRESENT_new</th>\n",
       "      <th>ADDRESS_new</th>\n",
       "      <th>BUILDING CLASS AT TIME OF SALE_new</th>\n",
       "    </tr>\n",
       "  </thead>\n",
       "  <tbody>\n",
       "    <tr>\n",
       "      <th>BOROUGH</th>\n",
       "      <td>1.000000</td>\n",
       "      <td>0.417001</td>\n",
       "      <td>-0.277848</td>\n",
       "      <td>-0.023229</td>\n",
       "      <td>-0.005503</td>\n",
       "      <td>-0.023346</td>\n",
       "      <td>0.108303</td>\n",
       "      <td>-0.315163</td>\n",
       "      <td>-0.303971</td>\n",
       "      <td>-0.144981</td>\n",
       "      <td>-0.317936</td>\n",
       "      <td>-0.361609</td>\n",
       "      <td>0.040622</td>\n",
       "      <td>-0.311548</td>\n",
       "    </tr>\n",
       "    <tr>\n",
       "      <th>BLOCK</th>\n",
       "      <td>0.417001</td>\n",
       "      <td>1.000000</td>\n",
       "      <td>-0.229118</td>\n",
       "      <td>-0.015628</td>\n",
       "      <td>-0.003517</td>\n",
       "      <td>-0.015888</td>\n",
       "      <td>0.071262</td>\n",
       "      <td>-0.287300</td>\n",
       "      <td>-0.296627</td>\n",
       "      <td>-0.015612</td>\n",
       "      <td>-0.292885</td>\n",
       "      <td>-0.336206</td>\n",
       "      <td>-0.121320</td>\n",
       "      <td>-0.300279</td>\n",
       "    </tr>\n",
       "    <tr>\n",
       "      <th>LOT</th>\n",
       "      <td>-0.277848</td>\n",
       "      <td>-0.229118</td>\n",
       "      <td>1.000000</td>\n",
       "      <td>-0.034303</td>\n",
       "      <td>-0.010953</td>\n",
       "      <td>-0.033169</td>\n",
       "      <td>-0.289463</td>\n",
       "      <td>0.296680</td>\n",
       "      <td>0.657077</td>\n",
       "      <td>0.064599</td>\n",
       "      <td>0.450135</td>\n",
       "      <td>0.319449</td>\n",
       "      <td>-0.041106</td>\n",
       "      <td>0.681074</td>\n",
       "    </tr>\n",
       "    <tr>\n",
       "      <th>RESIDENTIAL UNITS</th>\n",
       "      <td>-0.023229</td>\n",
       "      <td>-0.015628</td>\n",
       "      <td>-0.034303</td>\n",
       "      <td>1.000000</td>\n",
       "      <td>0.015653</td>\n",
       "      <td>0.888309</td>\n",
       "      <td>0.025380</td>\n",
       "      <td>-0.001074</td>\n",
       "      <td>-0.033562</td>\n",
       "      <td>-0.008771</td>\n",
       "      <td>-0.024709</td>\n",
       "      <td>0.009022</td>\n",
       "      <td>0.003751</td>\n",
       "      <td>-0.035447</td>\n",
       "    </tr>\n",
       "    <tr>\n",
       "      <th>COMMERCIAL UNITS</th>\n",
       "      <td>-0.005503</td>\n",
       "      <td>-0.003517</td>\n",
       "      <td>-0.010953</td>\n",
       "      <td>0.015653</td>\n",
       "      <td>1.000000</td>\n",
       "      <td>0.472998</td>\n",
       "      <td>0.006428</td>\n",
       "      <td>0.049586</td>\n",
       "      <td>0.019020</td>\n",
       "      <td>-0.003299</td>\n",
       "      <td>0.030697</td>\n",
       "      <td>0.041650</td>\n",
       "      <td>0.003258</td>\n",
       "      <td>0.019494</td>\n",
       "    </tr>\n",
       "    <tr>\n",
       "      <th>TOTAL UNITS</th>\n",
       "      <td>-0.023346</td>\n",
       "      <td>-0.015888</td>\n",
       "      <td>-0.033169</td>\n",
       "      <td>0.888309</td>\n",
       "      <td>0.472998</td>\n",
       "      <td>1.000000</td>\n",
       "      <td>0.024568</td>\n",
       "      <td>0.026429</td>\n",
       "      <td>-0.018224</td>\n",
       "      <td>-0.009389</td>\n",
       "      <td>-0.001565</td>\n",
       "      <td>0.030853</td>\n",
       "      <td>0.004766</td>\n",
       "      <td>-0.019723</td>\n",
       "    </tr>\n",
       "    <tr>\n",
       "      <th>YEAR BUILT</th>\n",
       "      <td>0.108303</td>\n",
       "      <td>0.071262</td>\n",
       "      <td>-0.289463</td>\n",
       "      <td>0.025380</td>\n",
       "      <td>0.006428</td>\n",
       "      <td>0.024568</td>\n",
       "      <td>1.000000</td>\n",
       "      <td>-0.187609</td>\n",
       "      <td>-0.359724</td>\n",
       "      <td>-0.034196</td>\n",
       "      <td>-0.258683</td>\n",
       "      <td>-0.152360</td>\n",
       "      <td>-0.034959</td>\n",
       "      <td>-0.425983</td>\n",
       "    </tr>\n",
       "    <tr>\n",
       "      <th>TAX CLASS AT TIME OF SALE</th>\n",
       "      <td>-0.315163</td>\n",
       "      <td>-0.287300</td>\n",
       "      <td>0.296680</td>\n",
       "      <td>-0.001074</td>\n",
       "      <td>0.049586</td>\n",
       "      <td>0.026429</td>\n",
       "      <td>-0.187609</td>\n",
       "      <td>1.000000</td>\n",
       "      <td>0.510355</td>\n",
       "      <td>0.036727</td>\n",
       "      <td>0.935198</td>\n",
       "      <td>0.932756</td>\n",
       "      <td>0.009978</td>\n",
       "      <td>0.525264</td>\n",
       "    </tr>\n",
       "    <tr>\n",
       "      <th>BUILDING CLASS AT PRESENT_new</th>\n",
       "      <td>-0.303971</td>\n",
       "      <td>-0.296627</td>\n",
       "      <td>0.657077</td>\n",
       "      <td>-0.033562</td>\n",
       "      <td>0.019020</td>\n",
       "      <td>-0.018224</td>\n",
       "      <td>-0.359724</td>\n",
       "      <td>0.510355</td>\n",
       "      <td>1.000000</td>\n",
       "      <td>0.022864</td>\n",
       "      <td>0.644088</td>\n",
       "      <td>0.586269</td>\n",
       "      <td>0.022476</td>\n",
       "      <td>0.973161</td>\n",
       "    </tr>\n",
       "    <tr>\n",
       "      <th>NEIGHBORHOOD_new</th>\n",
       "      <td>-0.144981</td>\n",
       "      <td>-0.015612</td>\n",
       "      <td>0.064599</td>\n",
       "      <td>-0.008771</td>\n",
       "      <td>-0.003299</td>\n",
       "      <td>-0.009389</td>\n",
       "      <td>-0.034196</td>\n",
       "      <td>0.036727</td>\n",
       "      <td>0.022864</td>\n",
       "      <td>1.000000</td>\n",
       "      <td>0.034504</td>\n",
       "      <td>0.040401</td>\n",
       "      <td>-0.037837</td>\n",
       "      <td>0.023519</td>\n",
       "    </tr>\n",
       "    <tr>\n",
       "      <th>BUILDING CLASS CATEGORY_new</th>\n",
       "      <td>-0.317936</td>\n",
       "      <td>-0.292885</td>\n",
       "      <td>0.450135</td>\n",
       "      <td>-0.024709</td>\n",
       "      <td>0.030697</td>\n",
       "      <td>-0.001565</td>\n",
       "      <td>-0.258683</td>\n",
       "      <td>0.935198</td>\n",
       "      <td>0.644088</td>\n",
       "      <td>0.034504</td>\n",
       "      <td>1.000000</td>\n",
       "      <td>0.863094</td>\n",
       "      <td>0.005826</td>\n",
       "      <td>0.666040</td>\n",
       "    </tr>\n",
       "    <tr>\n",
       "      <th>TAX CLASS AT PRESENT_new</th>\n",
       "      <td>-0.361609</td>\n",
       "      <td>-0.336206</td>\n",
       "      <td>0.319449</td>\n",
       "      <td>0.009022</td>\n",
       "      <td>0.041650</td>\n",
       "      <td>0.030853</td>\n",
       "      <td>-0.152360</td>\n",
       "      <td>0.932756</td>\n",
       "      <td>0.586269</td>\n",
       "      <td>0.040401</td>\n",
       "      <td>0.863094</td>\n",
       "      <td>1.000000</td>\n",
       "      <td>0.021864</td>\n",
       "      <td>0.556027</td>\n",
       "    </tr>\n",
       "    <tr>\n",
       "      <th>ADDRESS_new</th>\n",
       "      <td>0.040622</td>\n",
       "      <td>-0.121320</td>\n",
       "      <td>-0.041106</td>\n",
       "      <td>0.003751</td>\n",
       "      <td>0.003258</td>\n",
       "      <td>0.004766</td>\n",
       "      <td>-0.034959</td>\n",
       "      <td>0.009978</td>\n",
       "      <td>0.022476</td>\n",
       "      <td>-0.037837</td>\n",
       "      <td>0.005826</td>\n",
       "      <td>0.021864</td>\n",
       "      <td>1.000000</td>\n",
       "      <td>0.018563</td>\n",
       "    </tr>\n",
       "    <tr>\n",
       "      <th>BUILDING CLASS AT TIME OF SALE_new</th>\n",
       "      <td>-0.311548</td>\n",
       "      <td>-0.300279</td>\n",
       "      <td>0.681074</td>\n",
       "      <td>-0.035447</td>\n",
       "      <td>0.019494</td>\n",
       "      <td>-0.019723</td>\n",
       "      <td>-0.425983</td>\n",
       "      <td>0.525264</td>\n",
       "      <td>0.973161</td>\n",
       "      <td>0.023519</td>\n",
       "      <td>0.666040</td>\n",
       "      <td>0.556027</td>\n",
       "      <td>0.018563</td>\n",
       "      <td>1.000000</td>\n",
       "    </tr>\n",
       "  </tbody>\n",
       "</table>\n",
       "</div>"
      ],
      "text/plain": [
       "                                     BOROUGH     BLOCK       LOT  \\\n",
       "BOROUGH                             1.000000  0.417001 -0.277848   \n",
       "BLOCK                               0.417001  1.000000 -0.229118   \n",
       "LOT                                -0.277848 -0.229118  1.000000   \n",
       "RESIDENTIAL UNITS                  -0.023229 -0.015628 -0.034303   \n",
       "COMMERCIAL UNITS                   -0.005503 -0.003517 -0.010953   \n",
       "TOTAL UNITS                        -0.023346 -0.015888 -0.033169   \n",
       "YEAR BUILT                          0.108303  0.071262 -0.289463   \n",
       "TAX CLASS AT TIME OF SALE          -0.315163 -0.287300  0.296680   \n",
       "BUILDING CLASS AT PRESENT_new      -0.303971 -0.296627  0.657077   \n",
       "NEIGHBORHOOD_new                   -0.144981 -0.015612  0.064599   \n",
       "BUILDING CLASS CATEGORY_new        -0.317936 -0.292885  0.450135   \n",
       "TAX CLASS AT PRESENT_new           -0.361609 -0.336206  0.319449   \n",
       "ADDRESS_new                         0.040622 -0.121320 -0.041106   \n",
       "BUILDING CLASS AT TIME OF SALE_new -0.311548 -0.300279  0.681074   \n",
       "\n",
       "                                    RESIDENTIAL UNITS  COMMERCIAL UNITS  \\\n",
       "BOROUGH                                     -0.023229         -0.005503   \n",
       "BLOCK                                       -0.015628         -0.003517   \n",
       "LOT                                         -0.034303         -0.010953   \n",
       "RESIDENTIAL UNITS                            1.000000          0.015653   \n",
       "COMMERCIAL UNITS                             0.015653          1.000000   \n",
       "TOTAL UNITS                                  0.888309          0.472998   \n",
       "YEAR BUILT                                   0.025380          0.006428   \n",
       "TAX CLASS AT TIME OF SALE                   -0.001074          0.049586   \n",
       "BUILDING CLASS AT PRESENT_new               -0.033562          0.019020   \n",
       "NEIGHBORHOOD_new                            -0.008771         -0.003299   \n",
       "BUILDING CLASS CATEGORY_new                 -0.024709          0.030697   \n",
       "TAX CLASS AT PRESENT_new                     0.009022          0.041650   \n",
       "ADDRESS_new                                  0.003751          0.003258   \n",
       "BUILDING CLASS AT TIME OF SALE_new          -0.035447          0.019494   \n",
       "\n",
       "                                    TOTAL UNITS  YEAR BUILT  \\\n",
       "BOROUGH                               -0.023346    0.108303   \n",
       "BLOCK                                 -0.015888    0.071262   \n",
       "LOT                                   -0.033169   -0.289463   \n",
       "RESIDENTIAL UNITS                      0.888309    0.025380   \n",
       "COMMERCIAL UNITS                       0.472998    0.006428   \n",
       "TOTAL UNITS                            1.000000    0.024568   \n",
       "YEAR BUILT                             0.024568    1.000000   \n",
       "TAX CLASS AT TIME OF SALE              0.026429   -0.187609   \n",
       "BUILDING CLASS AT PRESENT_new         -0.018224   -0.359724   \n",
       "NEIGHBORHOOD_new                      -0.009389   -0.034196   \n",
       "BUILDING CLASS CATEGORY_new           -0.001565   -0.258683   \n",
       "TAX CLASS AT PRESENT_new               0.030853   -0.152360   \n",
       "ADDRESS_new                            0.004766   -0.034959   \n",
       "BUILDING CLASS AT TIME OF SALE_new    -0.019723   -0.425983   \n",
       "\n",
       "                                    TAX CLASS AT TIME OF SALE  \\\n",
       "BOROUGH                                             -0.315163   \n",
       "BLOCK                                               -0.287300   \n",
       "LOT                                                  0.296680   \n",
       "RESIDENTIAL UNITS                                   -0.001074   \n",
       "COMMERCIAL UNITS                                     0.049586   \n",
       "TOTAL UNITS                                          0.026429   \n",
       "YEAR BUILT                                          -0.187609   \n",
       "TAX CLASS AT TIME OF SALE                            1.000000   \n",
       "BUILDING CLASS AT PRESENT_new                        0.510355   \n",
       "NEIGHBORHOOD_new                                     0.036727   \n",
       "BUILDING CLASS CATEGORY_new                          0.935198   \n",
       "TAX CLASS AT PRESENT_new                             0.932756   \n",
       "ADDRESS_new                                          0.009978   \n",
       "BUILDING CLASS AT TIME OF SALE_new                   0.525264   \n",
       "\n",
       "                                    BUILDING CLASS AT PRESENT_new  \\\n",
       "BOROUGH                                                 -0.303971   \n",
       "BLOCK                                                   -0.296627   \n",
       "LOT                                                      0.657077   \n",
       "RESIDENTIAL UNITS                                       -0.033562   \n",
       "COMMERCIAL UNITS                                         0.019020   \n",
       "TOTAL UNITS                                             -0.018224   \n",
       "YEAR BUILT                                              -0.359724   \n",
       "TAX CLASS AT TIME OF SALE                                0.510355   \n",
       "BUILDING CLASS AT PRESENT_new                            1.000000   \n",
       "NEIGHBORHOOD_new                                         0.022864   \n",
       "BUILDING CLASS CATEGORY_new                              0.644088   \n",
       "TAX CLASS AT PRESENT_new                                 0.586269   \n",
       "ADDRESS_new                                              0.022476   \n",
       "BUILDING CLASS AT TIME OF SALE_new                       0.973161   \n",
       "\n",
       "                                    NEIGHBORHOOD_new  \\\n",
       "BOROUGH                                    -0.144981   \n",
       "BLOCK                                      -0.015612   \n",
       "LOT                                         0.064599   \n",
       "RESIDENTIAL UNITS                          -0.008771   \n",
       "COMMERCIAL UNITS                           -0.003299   \n",
       "TOTAL UNITS                                -0.009389   \n",
       "YEAR BUILT                                 -0.034196   \n",
       "TAX CLASS AT TIME OF SALE                   0.036727   \n",
       "BUILDING CLASS AT PRESENT_new               0.022864   \n",
       "NEIGHBORHOOD_new                            1.000000   \n",
       "BUILDING CLASS CATEGORY_new                 0.034504   \n",
       "TAX CLASS AT PRESENT_new                    0.040401   \n",
       "ADDRESS_new                                -0.037837   \n",
       "BUILDING CLASS AT TIME OF SALE_new          0.023519   \n",
       "\n",
       "                                    BUILDING CLASS CATEGORY_new  \\\n",
       "BOROUGH                                               -0.317936   \n",
       "BLOCK                                                 -0.292885   \n",
       "LOT                                                    0.450135   \n",
       "RESIDENTIAL UNITS                                     -0.024709   \n",
       "COMMERCIAL UNITS                                       0.030697   \n",
       "TOTAL UNITS                                           -0.001565   \n",
       "YEAR BUILT                                            -0.258683   \n",
       "TAX CLASS AT TIME OF SALE                              0.935198   \n",
       "BUILDING CLASS AT PRESENT_new                          0.644088   \n",
       "NEIGHBORHOOD_new                                       0.034504   \n",
       "BUILDING CLASS CATEGORY_new                            1.000000   \n",
       "TAX CLASS AT PRESENT_new                               0.863094   \n",
       "ADDRESS_new                                            0.005826   \n",
       "BUILDING CLASS AT TIME OF SALE_new                     0.666040   \n",
       "\n",
       "                                    TAX CLASS AT PRESENT_new  ADDRESS_new  \\\n",
       "BOROUGH                                            -0.361609     0.040622   \n",
       "BLOCK                                              -0.336206    -0.121320   \n",
       "LOT                                                 0.319449    -0.041106   \n",
       "RESIDENTIAL UNITS                                   0.009022     0.003751   \n",
       "COMMERCIAL UNITS                                    0.041650     0.003258   \n",
       "TOTAL UNITS                                         0.030853     0.004766   \n",
       "YEAR BUILT                                         -0.152360    -0.034959   \n",
       "TAX CLASS AT TIME OF SALE                           0.932756     0.009978   \n",
       "BUILDING CLASS AT PRESENT_new                       0.586269     0.022476   \n",
       "NEIGHBORHOOD_new                                    0.040401    -0.037837   \n",
       "BUILDING CLASS CATEGORY_new                         0.863094     0.005826   \n",
       "TAX CLASS AT PRESENT_new                            1.000000     0.021864   \n",
       "ADDRESS_new                                         0.021864     1.000000   \n",
       "BUILDING CLASS AT TIME OF SALE_new                  0.556027     0.018563   \n",
       "\n",
       "                                    BUILDING CLASS AT TIME OF SALE_new  \n",
       "BOROUGH                                                      -0.311548  \n",
       "BLOCK                                                        -0.300279  \n",
       "LOT                                                           0.681074  \n",
       "RESIDENTIAL UNITS                                            -0.035447  \n",
       "COMMERCIAL UNITS                                              0.019494  \n",
       "TOTAL UNITS                                                  -0.019723  \n",
       "YEAR BUILT                                                   -0.425983  \n",
       "TAX CLASS AT TIME OF SALE                                     0.525264  \n",
       "BUILDING CLASS AT PRESENT_new                                 0.973161  \n",
       "NEIGHBORHOOD_new                                              0.023519  \n",
       "BUILDING CLASS CATEGORY_new                                   0.666040  \n",
       "TAX CLASS AT PRESENT_new                                      0.556027  \n",
       "ADDRESS_new                                                   0.018563  \n",
       "BUILDING CLASS AT TIME OF SALE_new                            1.000000  "
      ]
     },
     "execution_count": 373,
     "metadata": {},
     "output_type": "execute_result"
    }
   ],
   "source": [
    "data.corr()"
   ]
  },
  {
   "cell_type": "markdown",
   "id": "3b1c01b0",
   "metadata": {},
   "source": [
    "Untuk variabel unit yang terjual dan kategori bangunan memuliki angka korelasi 0.006218\tyang berarti unit yang terjual berdasarkan kategori bangunan memiliki korelasi yang sangat kecil yaitu sebesar 0.006218.\t"
   ]
  },
  {
   "cell_type": "markdown",
   "id": "44f4066a",
   "metadata": {},
   "source": [
    "Terlihat ada nilai korelasi yang cukup besar data NYC Rolling sales yaitu antara Building Class Category (kategori bangunan) dan TAX CLASS AT PRESENT (pajak saat ini) yaitu sebesar 0.006218. Akan dilihat melalui scatter plot terlebih dahulu. "
   ]
  },
  {
   "cell_type": "code",
   "execution_count": 277,
   "id": "32b34fcc",
   "metadata": {},
   "outputs": [
    {
     "data": {
      "text/plain": [
       "<AxesSubplot:xlabel='BUILDING CLASS CATEGORY_new', ylabel='TAX CLASS AT PRESENT_new'>"
      ]
     },
     "execution_count": 277,
     "metadata": {},
     "output_type": "execute_result"
    },
    {
     "data": {
      "image/png": "[encoded data removed]",
      "text/plain": [
       "<Figure size 432x288 with 1 Axes>"
      ]
     },
     "metadata": {
      "needs_background": "light"
     },
     "output_type": "display_data"
    }
   ],
   "source": [
    "sns.scatterplot(x=data[\"BUILDING CLASS CATEGORY_new\"], y=data[\"TAX CLASS AT PRESENT_new\"], \n",
    "data=data)"
   ]
  },
  {
   "cell_type": "markdown",
   "id": "968b5b57",
   "metadata": {},
   "source": [
    "Dari scatter plot yang terbentuk, dapat dilihat bahwa penyebaran data yang dihasikan cuku terlihat liniear yang berarti data BUILDING CLASS CATEGORY_new dan TAX CLASS AT PRESENT berkorelasi poitif. "
   ]
  },
  {
   "cell_type": "markdown",
   "id": "dc3fdb3e",
   "metadata": {},
   "source": [
    "**Akan dilakukan analisis korelasi menggunakan Rank Spearmann**\n",
    "> digunakan library scipy."
   ]
  },
  {
   "cell_type": "markdown",
   "id": "caa35c9b",
   "metadata": {},
   "source": [
    "**Asumsi :**\n",
    "- Data berdistribusi Normal, iid\n",
    "\n",
    "- alpha : 0.05\n",
    "\n",
    "**Hipotesis**\n",
    "- H0 : BUILDING CLASS CATEGORY_new dan TAX CLASS AT PRESENT_new independen\n",
    "- H1 : BUILDING CLASS CATEGORY_new dan TAX CLASS AT PRESENT_new dependen\n",
    "\n",
    "**Kriteria Uji**\n",
    "- Tolak H0 apabila p-value < alpha"
   ]
  },
  {
   "cell_type": "code",
   "execution_count": 374,
   "id": "e589bb5a",
   "metadata": {},
   "outputs": [],
   "source": [
    "from scipy.stats import spearmanr"
   ]
  },
  {
   "cell_type": "code",
   "execution_count": 375,
   "id": "2a2c8705",
   "metadata": {},
   "outputs": [],
   "source": [
    "stat, p = spearmanr(data[\"BUILDING CLASS CATEGORY_new\"], data[\"TAX CLASS AT PRESENT_new\"])"
   ]
  },
  {
   "cell_type": "code",
   "execution_count": 376,
   "id": "6fe656ce",
   "metadata": {},
   "outputs": [
    {
     "data": {
      "text/plain": [
       "(0.8554041380404678, 0.0)"
      ]
     },
     "execution_count": 376,
     "metadata": {},
     "output_type": "execute_result"
    }
   ],
   "source": [
    "stat, p"
   ]
  },
  {
   "cell_type": "code",
   "execution_count": 377,
   "id": "e371cbd0",
   "metadata": {},
   "outputs": [
    {
     "name": "stdout",
     "output_type": "stream",
     "text": [
      "stat=0.855, p=0.000\n",
      "Probably dependent\n"
     ]
    }
   ],
   "source": [
    "print('stat=%.3f, p=%.3f' % (stat, p))\n",
    "if p > 0.05:\n",
    "    print('Probably independent')\n",
    "else:\n",
    "    print('Probably dependent')"
   ]
  },
  {
   "cell_type": "markdown",
   "id": "4f9116d0",
   "metadata": {},
   "source": [
    "**Kesimpulan**\n",
    "\n",
    "berdasarkan hasil perhitungan di atas, didapatkan nilai p-value sebesar 0.00 < alpha = 0.05 yang berarti H0 di tolak atau BUILDING CLASS CATEGORY_new dan TAX CLASS AT PRESENT_new dependen (saling berhubungan).\n"
   ]
  },
  {
   "cell_type": "markdown",
   "id": "2c9378c2",
   "metadata": {},
   "source": [
    "\n",
    "\n",
    "**Akan dilakukan analisis korelasi menggunakan z-test**"
   ]
  },
  {
   "cell_type": "markdown",
   "id": "087b1464",
   "metadata": {},
   "source": [
    "**Asumsi :**\n",
    "- Data berdistribusi Normal, iid\n",
    "\n",
    "- alpha : 0.05\n",
    "\n",
    "**Hipotesis**\n",
    "- H0 : sale price BOROUGH1 > BOROUGH2\n",
    "- H1 : sale price BOROUGH1 < BOROUGH2\n",
    "\n",
    "**Kriteria Uji**\n",
    "- Tolak H0 apabila p-value < alpha"
   ]
  },
  {
   "cell_type": "code",
   "execution_count": 308,
   "id": "c06ca54b",
   "metadata": {},
   "outputs": [
    {
     "name": "stdout",
     "output_type": "stream",
     "text": [
      "16003 2834867.7293632445 22770818.97329758\n",
      "6328 632252.5246523388 2923011.7614653907\n"
     ]
    }
   ],
   "source": [
    "b1 = data[data['BOROUGH'] == 1]\n",
    "b2 = data[data['BOROUGH'] == 2]\n",
    "\n",
    "# Graded-Funtion\n",
    "n1 = len(b1)\n",
    "mu1 = b1[\"SALE PRICE\"].mean()\n",
    "sd1 = b1[\"SALE PRICE\"].std()\n",
    "\n",
    "n2 = len(b2)\n",
    "mu2 = b2[\"SALE PRICE\"].mean()\n",
    "sd2 = b2[\"SALE PRICE\"].std()\n",
    "\n",
    "print(n1, mu1, sd1)\n",
    "print(n2, mu2, sd2)"
   ]
  },
  {
   "cell_type": "code",
   "execution_count": 309,
   "id": "f0b0a8d8",
   "metadata": {},
   "outputs": [
    {
     "data": {
      "text/plain": [
       "(7.669678691938014, 1.7242773338602057e-14)"
      ]
     },
     "execution_count": 309,
     "metadata": {},
     "output_type": "execute_result"
    }
   ],
   "source": [
    "sm.stats.ztest(b1[\"SALE PRICE\"].dropna(), b2[\"SALE PRICE\"].dropna(),alternative='two-sided')"
   ]
  },
  {
   "cell_type": "markdown",
   "id": "14aa5408",
   "metadata": {},
   "source": [
    "**Kesimpulan**\n",
    "\n",
    "berdasarkan hasil perhitungan di atas, didapatkan nilai p-value sebesar 1.7242773338602057e-14 > alpha = 0.05 yang berarti H0 diterima atau sale price BOROUGH1 > BOROUGH2."
   ]
  },
  {
   "cell_type": "markdown",
   "id": "3887adf3",
   "metadata": {},
   "source": [
    "## FIRYA FATIN RAHMADANTI\n",
    "PYTN-KS06-005"
   ]
  }
 ],
 "metadata": {
  "kernelspec": {
   "display_name": "Python 3 (ipykernel)",
   "language": "python",
   "name": "python3"
  },
  "language_info": {
   "codemirror_mode": {
    "name": "ipython",
    "version": 3
   },
   "file_extension": ".py",
   "mimetype": "text/x-python",
   "name": "python",
   "nbconvert_exporter": "python",
   "pygments_lexer": "ipython3",
   "version": "3.9.7"
  }
 },
 "nbformat": 4,
 "nbformat_minor": 5
}
