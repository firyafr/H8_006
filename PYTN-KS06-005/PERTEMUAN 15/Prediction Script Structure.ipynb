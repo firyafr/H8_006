{
 "cells": [
  {
   "cell_type": "code",
   "execution_count": 10,
   "id": "4f856cb2",
   "metadata": {},
   "outputs": [],
   "source": [
    "# Basic operations\n",
    "import numpy as np\n",
    "import pandas as pd\n",
    "\n",
    "#model\n",
    "import pickle"
   ]
  },
  {
   "cell_type": "code",
   "execution_count": 11,
   "id": "31989043",
   "metadata": {},
   "outputs": [],
   "source": [
    "#load data\n",
    "df_adult_testing = pd.read_csv('adult_testing.csv')"
   ]
  },
  {
   "cell_type": "code",
   "execution_count": 12,
   "id": "c60a26c1",
   "metadata": {},
   "outputs": [],
   "source": [
    "# delete feature binary (education)\n",
    "df_adult_testing.drop('education', axis=1, inplace=True)"
   ]
  },
  {
   "cell_type": "code",
   "execution_count": 13,
   "id": "7b0dda38",
   "metadata": {},
   "outputs": [],
   "source": [
    "# load model\n",
    "filename = 'Model Final Adult.sav'\n",
    "loaded_model = pickle.load(open(filename, 'rb'))"
   ]
  },
  {
   "cell_type": "code",
   "execution_count": 14,
   "id": "cfb7e818",
   "metadata": {},
   "outputs": [],
   "source": [
    "# preprocessing + prediction\n",
    "y_pred = loaded_model.predict(df_adult_testing)\n",
    "df_adult_testing['income'] = np.where(y_pred == 1, '>50K', '<=50K')\n",
    "\n",
    "df_adult_testing.to_csv('prediction result.csv')"
   ]
  }
 ],
 "metadata": {
  "kernelspec": {
   "display_name": "Python 3 (ipykernel)",
   "language": "python",
   "name": "python3"
  },
  "language_info": {
   "codemirror_mode": {
    "name": "ipython",
    "version": 3
   },
   "file_extension": ".py",
   "mimetype": "text/x-python",
   "name": "python",
   "nbconvert_exporter": "python",
   "pygments_lexer": "ipython3",
   "version": "3.9.7"
  }
 },
 "nbformat": 4,
 "nbformat_minor": 5
}
