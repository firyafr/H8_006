{
 "cells": [
  {
   "cell_type": "markdown",
   "id": "559816fa",
   "metadata": {},
   "source": [
    "# SELF-PACED LEARNING 3"
   ]
  },
  {
   "cell_type": "markdown",
   "id": "6ec6c91b",
   "metadata": {},
   "source": [
    "## LIST"
   ]
  },
  {
   "cell_type": "code",
   "execution_count": 1,
   "id": "5dfc51a5",
   "metadata": {},
   "outputs": [],
   "source": [
    "my_list = [1,2,3]"
   ]
  },
  {
   "cell_type": "code",
   "execution_count": 2,
   "id": "45aaee66",
   "metadata": {},
   "outputs": [
    {
     "name": "stdout",
     "output_type": "stream",
     "text": [
      "[1, 2, 3]\n"
     ]
    }
   ],
   "source": [
    "print(my_list)"
   ]
  },
  {
   "cell_type": "code",
   "execution_count": 3,
   "id": "3f03760e",
   "metadata": {},
   "outputs": [
    {
     "ename": "TypeError",
     "evalue": "can only concatenate list (not \"int\") to list",
     "output_type": "error",
     "traceback": [
      "\u001b[1;31m---------------------------------------------------------------------------\u001b[0m",
      "\u001b[1;31mTypeError\u001b[0m                                 Traceback (most recent call last)",
      "\u001b[1;32m~\\AppData\\Local\\Temp/ipykernel_18704/2308813494.py\u001b[0m in \u001b[0;36m<module>\u001b[1;34m\u001b[0m\n\u001b[1;32m----> 1\u001b[1;33m \u001b[0mmy_list\u001b[0m \u001b[1;33m+\u001b[0m \u001b[1;36m4\u001b[0m \u001b[1;31m#error\u001b[0m\u001b[1;33m\u001b[0m\u001b[1;33m\u001b[0m\u001b[0m\n\u001b[0m",
      "\u001b[1;31mTypeError\u001b[0m: can only concatenate list (not \"int\") to list"
     ]
    }
   ],
   "source": [
    "my_list + 4 #error"
   ]
  },
  {
   "cell_type": "code",
   "execution_count": 4,
   "id": "6cd27368",
   "metadata": {},
   "outputs": [
    {
     "data": {
      "text/plain": [
       "[1, 2, 3, 4, 5]"
      ]
     },
     "execution_count": 4,
     "metadata": {},
     "output_type": "execute_result"
    }
   ],
   "source": [
    "my_list + [4, 5]"
   ]
  },
  {
   "cell_type": "code",
   "execution_count": 5,
   "id": "e6153a89",
   "metadata": {},
   "outputs": [
    {
     "name": "stdout",
     "output_type": "stream",
     "text": [
      "[1, 2, 3, 1, 2, 3]\n"
     ]
    }
   ],
   "source": [
    "print(my_list * 2)"
   ]
  },
  {
   "cell_type": "markdown",
   "id": "182b1267",
   "metadata": {},
   "source": [
    "method : append untuk menambah 1 isi"
   ]
  },
  {
   "cell_type": "code",
   "execution_count": 6,
   "id": "574f58db",
   "metadata": {},
   "outputs": [],
   "source": [
    "my_list.append(4)"
   ]
  },
  {
   "cell_type": "code",
   "execution_count": 7,
   "id": "c2b3df7e",
   "metadata": {},
   "outputs": [
    {
     "name": "stdout",
     "output_type": "stream",
     "text": [
      "[1, 2, 3, 4]\n"
     ]
    }
   ],
   "source": [
    "print(my_list)"
   ]
  },
  {
   "cell_type": "markdown",
   "id": "fd3221fb",
   "metadata": {},
   "source": [
    "menambahkan 2 atau lebih data secara langsung ke dalam list :"
   ]
  },
  {
   "cell_type": "code",
   "execution_count": 8,
   "id": "afa1e7c8",
   "metadata": {},
   "outputs": [
    {
     "ename": "TypeError",
     "evalue": "list.append() takes exactly one argument (2 given)",
     "output_type": "error",
     "traceback": [
      "\u001b[1;31m---------------------------------------------------------------------------\u001b[0m",
      "\u001b[1;31mTypeError\u001b[0m                                 Traceback (most recent call last)",
      "\u001b[1;32m~\\AppData\\Local\\Temp/ipykernel_18704/2482649626.py\u001b[0m in \u001b[0;36m<module>\u001b[1;34m\u001b[0m\n\u001b[1;32m----> 1\u001b[1;33m \u001b[0mmy_list\u001b[0m\u001b[1;33m.\u001b[0m\u001b[0mappend\u001b[0m\u001b[1;33m(\u001b[0m\u001b[1;36m4\u001b[0m\u001b[1;33m,\u001b[0m \u001b[1;36m5\u001b[0m\u001b[1;33m)\u001b[0m \u001b[1;31m#error 2 given\u001b[0m\u001b[1;33m\u001b[0m\u001b[1;33m\u001b[0m\u001b[0m\n\u001b[0m",
      "\u001b[1;31mTypeError\u001b[0m: list.append() takes exactly one argument (2 given)"
     ]
    }
   ],
   "source": [
    "my_list.append(4, 5) #error 2 given"
   ]
  },
  {
   "cell_type": "code",
   "execution_count": 9,
   "id": "36358f18",
   "metadata": {},
   "outputs": [],
   "source": [
    "my_list.append([4, 5])"
   ]
  },
  {
   "cell_type": "code",
   "execution_count": 10,
   "id": "a2264cc5",
   "metadata": {},
   "outputs": [
    {
     "name": "stdout",
     "output_type": "stream",
     "text": [
      "[1, 2, 3, 4, [4, 5]]\n"
     ]
    }
   ],
   "source": [
    "print(my_list)"
   ]
  },
  {
   "cell_type": "markdown",
   "id": "951abaa2",
   "metadata": {},
   "source": [
    "method : extend untuk menambah beberapa data secara langsung ke dalam sebuah variabel"
   ]
  },
  {
   "cell_type": "code",
   "execution_count": 11,
   "id": "a9d35c3a",
   "metadata": {},
   "outputs": [
    {
     "name": "stdout",
     "output_type": "stream",
     "text": [
      "[1, 2, 3]\n"
     ]
    }
   ],
   "source": [
    "mylist = [1,2,3]\n",
    "print(mylist)"
   ]
  },
  {
   "cell_type": "code",
   "execution_count": 12,
   "id": "be41212c",
   "metadata": {},
   "outputs": [
    {
     "name": "stdout",
     "output_type": "stream",
     "text": [
      "[1, 2, 3, 4, 5, 6]\n"
     ]
    }
   ],
   "source": [
    "mylist.extend([4,5,6])\n",
    "print(mylist)"
   ]
  },
  {
   "cell_type": "markdown",
   "id": "b86a4517",
   "metadata": {},
   "source": [
    "menghapus item. method : remove"
   ]
  },
  {
   "cell_type": "code",
   "execution_count": 13,
   "id": "d4b1b656",
   "metadata": {},
   "outputs": [
    {
     "name": "stdout",
     "output_type": "stream",
     "text": [
      "[1, 2, 3, 5, 6]\n"
     ]
    }
   ],
   "source": [
    "#menghapus angka 4 dari my_list\n",
    "mylist.remove(4)\n",
    "print(mylist)"
   ]
  },
  {
   "cell_type": "code",
   "execution_count": 14,
   "id": "f6c21fce",
   "metadata": {},
   "outputs": [
    {
     "name": "stdout",
     "output_type": "stream",
     "text": [
      "[1, 2, 3, 4, [4, 5]]\n"
     ]
    }
   ],
   "source": [
    "#menghapus list di dalam list\n",
    "print(my_list)"
   ]
  },
  {
   "cell_type": "code",
   "execution_count": 15,
   "id": "47d5980c",
   "metadata": {},
   "outputs": [],
   "source": [
    "my_list.remove([4,5])"
   ]
  },
  {
   "cell_type": "code",
   "execution_count": 16,
   "id": "842bd565",
   "metadata": {},
   "outputs": [
    {
     "name": "stdout",
     "output_type": "stream",
     "text": [
      "[1, 2, 3, 4]\n"
     ]
    }
   ],
   "source": [
    "print(my_list)"
   ]
  },
  {
   "cell_type": "markdown",
   "id": "c2bacc32",
   "metadata": {},
   "source": [
    "## Dictionaries"
   ]
  },
  {
   "cell_type": "code",
   "execution_count": 17,
   "id": "ab279cf5",
   "metadata": {},
   "outputs": [],
   "source": [
    "student = {}"
   ]
  },
  {
   "cell_type": "code",
   "execution_count": 18,
   "id": "c2c48616",
   "metadata": {},
   "outputs": [],
   "source": [
    "student = {'name' : 'firya', 'age' : 18}"
   ]
  },
  {
   "cell_type": "code",
   "execution_count": 19,
   "id": "2fa2f8ac",
   "metadata": {},
   "outputs": [],
   "source": [
    "employee = {'cto' : {'name' : 'firya' ,  'age' : 18}}"
   ]
  },
  {
   "cell_type": "markdown",
   "id": "39aa7800",
   "metadata": {},
   "source": [
    "#deklarasi string : str()"
   ]
  },
  {
   "cell_type": "code",
   "execution_count": 20,
   "id": "4f3901d6",
   "metadata": {},
   "outputs": [],
   "source": [
    "student = dict(name = 'Seungmin', age=38)"
   ]
  },
  {
   "cell_type": "code",
   "execution_count": 21,
   "id": "677c41e6",
   "metadata": {},
   "outputs": [
    {
     "name": "stdout",
     "output_type": "stream",
     "text": [
      "Seungmin\n"
     ]
    }
   ],
   "source": [
    "print(student['name'])"
   ]
  },
  {
   "cell_type": "code",
   "execution_count": 22,
   "id": "dc5ca6ea",
   "metadata": {},
   "outputs": [
    {
     "name": "stdout",
     "output_type": "stream",
     "text": [
      "38\n"
     ]
    }
   ],
   "source": [
    "print(student['age'])"
   ]
  },
  {
   "cell_type": "markdown",
   "id": "81b4467a",
   "metadata": {},
   "source": [
    "ganti isi \"=\"\n",
    "menghapus data : delete (del)"
   ]
  },
  {
   "cell_type": "code",
   "execution_count": 23,
   "id": "e5d0f106",
   "metadata": {},
   "outputs": [
    {
     "name": "stdout",
     "output_type": "stream",
     "text": [
      "{'name': 'Seungmin', 'age': 38}\n"
     ]
    }
   ],
   "source": [
    "print(student)"
   ]
  },
  {
   "cell_type": "code",
   "execution_count": 24,
   "id": "5324ceab",
   "metadata": {},
   "outputs": [],
   "source": [
    "del student['age']"
   ]
  },
  {
   "cell_type": "code",
   "execution_count": 25,
   "id": "bda04383",
   "metadata": {},
   "outputs": [
    {
     "name": "stdout",
     "output_type": "stream",
     "text": [
      "{'name': 'Seungmin'}\n"
     ]
    }
   ],
   "source": [
    "print(student)"
   ]
  },
  {
   "cell_type": "code",
   "execution_count": 26,
   "id": "32c32166",
   "metadata": {},
   "outputs": [],
   "source": [
    "student = {'name' : 'firya', 'age' : 17}"
   ]
  },
  {
   "cell_type": "code",
   "execution_count": 27,
   "id": "1bafe468",
   "metadata": {},
   "outputs": [
    {
     "name": "stdout",
     "output_type": "stream",
     "text": [
      "dict_keys(['name', 'age'])\n"
     ]
    }
   ],
   "source": [
    "print(student.keys())"
   ]
  },
  {
   "cell_type": "code",
   "execution_count": 28,
   "id": "27fe05e6",
   "metadata": {},
   "outputs": [
    {
     "name": "stdout",
     "output_type": "stream",
     "text": [
      "dict_values(['firya', 17])\n"
     ]
    }
   ],
   "source": [
    "print(student.values())"
   ]
  },
  {
   "cell_type": "markdown",
   "id": "554b36bc",
   "metadata": {},
   "source": [
    "## Tuples"
   ]
  },
  {
   "cell_type": "code",
   "execution_count": 29,
   "id": "059633d4",
   "metadata": {},
   "outputs": [],
   "source": [
    "people = ('Raka',('kode', 'random'))"
   ]
  },
  {
   "cell_type": "code",
   "execution_count": 30,
   "id": "10d41938",
   "metadata": {},
   "outputs": [
    {
     "name": "stdout",
     "output_type": "stream",
     "text": [
      "('Raka', ('kode', 'random'))\n"
     ]
    }
   ],
   "source": [
    "print(people)"
   ]
  },
  {
   "cell_type": "code",
   "execution_count": 33,
   "id": "1b303776",
   "metadata": {},
   "outputs": [
    {
     "name": "stdout",
     "output_type": "stream",
     "text": [
      "Raka\n",
      "('kode', 'random')\n",
      "kode\n"
     ]
    }
   ],
   "source": [
    "# mengakses informasi dalam tuples : menggunakan indeks\n",
    "print(people[0])\n",
    "print(people[1])\n",
    "print(people[1][0])"
   ]
  },
  {
   "cell_type": "raw",
   "id": "5ac351be",
   "metadata": {},
   "source": [
    "#mengkombinasikan tuple : \"+\" concate\n",
    "#memisahkan atau menggabungkan tuple dengan slicing"
   ]
  },
  {
   "cell_type": "code",
   "execution_count": 34,
   "id": "374a6d02",
   "metadata": {},
   "outputs": [],
   "source": [
    "numbers = (1,2,3,4)"
   ]
  },
  {
   "cell_type": "code",
   "execution_count": 35,
   "id": "cd6d80f9",
   "metadata": {},
   "outputs": [],
   "source": [
    "new_numbers = numbers[0], numbers[1:3]"
   ]
  },
  {
   "cell_type": "code",
   "execution_count": 36,
   "id": "fe898ddb",
   "metadata": {},
   "outputs": [
    {
     "name": "stdout",
     "output_type": "stream",
     "text": [
      "(1, (2, 3))\n"
     ]
    }
   ],
   "source": [
    "print(new_numbers)"
   ]
  },
  {
   "cell_type": "code",
   "execution_count": 37,
   "id": "135945b6",
   "metadata": {},
   "outputs": [
    {
     "name": "stdout",
     "output_type": "stream",
     "text": [
      "(1, 2, 3, 4)\n"
     ]
    }
   ],
   "source": [
    "print(numbers) #tetap"
   ]
  },
  {
   "cell_type": "markdown",
   "id": "635f9e7d",
   "metadata": {},
   "source": [
    "Shorting :"
   ]
  },
  {
   "cell_type": "code",
   "execution_count": 38,
   "id": "94ada5d3",
   "metadata": {},
   "outputs": [],
   "source": [
    "email_attr = ('to', 'from', 'cc', 'bcc', 'subject', 'body')"
   ]
  },
  {
   "cell_type": "code",
   "execution_count": 39,
   "id": "a81c6a17",
   "metadata": {},
   "outputs": [],
   "source": [
    "# diubah menjadi list\n",
    "email_attr_list = list(email_attr)"
   ]
  },
  {
   "cell_type": "code",
   "execution_count": 40,
   "id": "209adaf3",
   "metadata": {},
   "outputs": [],
   "source": [
    "# diurutkan :\n",
    "email_attr_list.sort()"
   ]
  },
  {
   "cell_type": "code",
   "execution_count": 41,
   "id": "9d7279d6",
   "metadata": {},
   "outputs": [
    {
     "name": "stdout",
     "output_type": "stream",
     "text": [
      "['bcc', 'body', 'cc', 'from', 'subject', 'to']\n"
     ]
    }
   ],
   "source": [
    "print(email_attr_list)"
   ]
  },
  {
   "cell_type": "markdown",
   "id": "de9c2b5a",
   "metadata": {},
   "source": [
    " ## Files"
   ]
  },
  {
   "cell_type": "code",
   "execution_count": 42,
   "id": "f142c3b3",
   "metadata": {},
   "outputs": [],
   "source": [
    "myfile = open('textspc3', 'w')"
   ]
  },
  {
   "cell_type": "code",
   "execution_count": 43,
   "id": "b9192340",
   "metadata": {},
   "outputs": [
    {
     "data": {
      "text/plain": [
       "16"
      ]
     },
     "execution_count": 43,
     "metadata": {},
     "output_type": "execute_result"
    }
   ],
   "source": [
    "myfile.write('halo text file!\\n')"
   ]
  },
  {
   "cell_type": "code",
   "execution_count": 44,
   "id": "ec79d740",
   "metadata": {},
   "outputs": [
    {
     "data": {
      "text/plain": [
       "27"
      ]
     },
     "execution_count": 44,
     "metadata": {},
     "output_type": "execute_result"
    }
   ],
   "source": [
    "myfile.write('selamat tinggal text file!\\n')"
   ]
  },
  {
   "cell_type": "code",
   "execution_count": 45,
   "id": "10751cbd",
   "metadata": {},
   "outputs": [],
   "source": [
    "myfile.close()"
   ]
  },
  {
   "cell_type": "code",
   "execution_count": 47,
   "id": "4e10907b",
   "metadata": {},
   "outputs": [],
   "source": [
    "myfile = open('textspc3')"
   ]
  },
  {
   "cell_type": "code",
   "execution_count": 48,
   "id": "dfde8e14",
   "metadata": {},
   "outputs": [
    {
     "data": {
      "text/plain": [
       "'halo text file!\\n'"
      ]
     },
     "execution_count": 48,
     "metadata": {},
     "output_type": "execute_result"
    }
   ],
   "source": [
    "myfile.readline()"
   ]
  },
  {
   "cell_type": "code",
   "execution_count": 49,
   "id": "9d44fd3d",
   "metadata": {},
   "outputs": [
    {
     "data": {
      "text/plain": [
       "'selamat tinggal text file!\\n'"
      ]
     },
     "execution_count": 49,
     "metadata": {},
     "output_type": "execute_result"
    }
   ],
   "source": [
    "myfile.readline()"
   ]
  },
  {
   "cell_type": "code",
   "execution_count": 50,
   "id": "80777d8f",
   "metadata": {},
   "outputs": [
    {
     "data": {
      "text/plain": [
       "'halo text file!\\nselamat tinggal text file!\\n'"
      ]
     },
     "execution_count": 50,
     "metadata": {},
     "output_type": "execute_result"
    }
   ],
   "source": [
    "open('textspc3').read()"
   ]
  },
  {
   "cell_type": "code",
   "execution_count": 51,
   "id": "5f43d3ec",
   "metadata": {},
   "outputs": [
    {
     "name": "stdout",
     "output_type": "stream",
     "text": [
      "halo text file!\n",
      "selamat tinggal text file!\n",
      "\n"
     ]
    }
   ],
   "source": [
    "print(open('textspc3').read())"
   ]
  },
  {
   "cell_type": "code",
   "execution_count": 55,
   "id": "bc720481",
   "metadata": {},
   "outputs": [],
   "source": [
    "x, y, z = 43, 44, 45\n",
    "message = 'Spam'\n",
    "data = {'a':1, 'b':2}\n",
    "list = [1,2,3]"
   ]
  },
  {
   "cell_type": "code",
   "execution_count": 57,
   "id": "32c85ded",
   "metadata": {},
   "outputs": [],
   "source": [
    "file = open('textspc3','w')"
   ]
  },
  {
   "cell_type": "code",
   "execution_count": 58,
   "id": "efad8848",
   "metadata": {},
   "outputs": [
    {
     "data": {
      "text/plain": [
       "5"
      ]
     },
     "execution_count": 58,
     "metadata": {},
     "output_type": "execute_result"
    }
   ],
   "source": [
    "file.write(message + '\\n')"
   ]
  },
  {
   "cell_type": "code",
   "execution_count": 59,
   "id": "dadef9c3",
   "metadata": {},
   "outputs": [
    {
     "data": {
      "text/plain": [
       "11"
      ]
     },
     "execution_count": 59,
     "metadata": {},
     "output_type": "execute_result"
    }
   ],
   "source": [
    "file.write('%s, %s, %s\\n' % (x, y, z))"
   ]
  },
  {
   "cell_type": "code",
   "execution_count": 63,
   "id": "1fd17d01",
   "metadata": {},
   "outputs": [
    {
     "data": {
      "text/plain": [
       "27"
      ]
     },
     "execution_count": 63,
     "metadata": {},
     "output_type": "execute_result"
    }
   ],
   "source": [
    "# konversi list menjadi string\n",
    "file.write(str(list) + '$' + str(data) + '\\n')"
   ]
  },
  {
   "cell_type": "code",
   "execution_count": 64,
   "id": "116fbe92",
   "metadata": {},
   "outputs": [],
   "source": [
    "file.close()"
   ]
  },
  {
   "cell_type": "markdown",
   "id": "e7fa6994",
   "metadata": {},
   "source": []
  },
  {
   "cell_type": "code",
   "execution_count": 66,
   "id": "05d6f6ca",
   "metadata": {},
   "outputs": [],
   "source": [
    "student = {1 : {'name': 'Idaz', 'age' : '27', 'sex' : 'Male'}, \n",
    "         2 : {'name': 'Emma', 'age' : '22', 'sex' : 'Female'}}"
   ]
  },
  {
   "cell_type": "code",
   "execution_count": 67,
   "id": "0d6cf485",
   "metadata": {},
   "outputs": [
    {
     "ename": "KeyError",
     "evalue": "0",
     "output_type": "error",
     "traceback": [
      "\u001b[1;31m---------------------------------------------------------------------------\u001b[0m",
      "\u001b[1;31mKeyError\u001b[0m                                  Traceback (most recent call last)",
      "\u001b[1;32m~\\AppData\\Local\\Temp/ipykernel_18704/451221696.py\u001b[0m in \u001b[0;36m<module>\u001b[1;34m\u001b[0m\n\u001b[1;32m----> 1\u001b[1;33m \u001b[0mstudent\u001b[0m\u001b[1;33m[\u001b[0m\u001b[1;36m0\u001b[0m\u001b[1;33m]\u001b[0m\u001b[1;33m[\u001b[0m\u001b[1;36m1\u001b[0m\u001b[1;33m]\u001b[0m\u001b[1;33m\u001b[0m\u001b[1;33m\u001b[0m\u001b[0m\n\u001b[0m",
      "\u001b[1;31mKeyError\u001b[0m: 0"
     ]
    }
   ],
   "source": [
    "student[0][1]"
   ]
  },
  {
   "cell_type": "code",
   "execution_count": 68,
   "id": "d541b62a",
   "metadata": {},
   "outputs": [
    {
     "data": {
      "text/plain": [
       "'27'"
      ]
     },
     "execution_count": 68,
     "metadata": {},
     "output_type": "execute_result"
    }
   ],
   "source": [
    "student[1][\"age\"]"
   ]
  },
  {
   "cell_type": "code",
   "execution_count": 69,
   "id": "b0226d92",
   "metadata": {},
   "outputs": [
    {
     "ename": "KeyError",
     "evalue": "0",
     "output_type": "error",
     "traceback": [
      "\u001b[1;31m---------------------------------------------------------------------------\u001b[0m",
      "\u001b[1;31mKeyError\u001b[0m                                  Traceback (most recent call last)",
      "\u001b[1;32m~\\AppData\\Local\\Temp/ipykernel_18704/4257719803.py\u001b[0m in \u001b[0;36m<module>\u001b[1;34m\u001b[0m\n\u001b[1;32m----> 1\u001b[1;33m \u001b[0mstudent\u001b[0m\u001b[1;33m[\u001b[0m\u001b[1;36m0\u001b[0m\u001b[1;33m]\u001b[0m\u001b[1;33m[\u001b[0m\u001b[1;34m\"age\"\u001b[0m\u001b[1;33m]\u001b[0m\u001b[1;33m\u001b[0m\u001b[1;33m\u001b[0m\u001b[0m\n\u001b[0m",
      "\u001b[1;31mKeyError\u001b[0m: 0"
     ]
    }
   ],
   "source": [
    "student[0][\"age\"]"
   ]
  },
  {
   "cell_type": "code",
   "execution_count": 65,
   "id": "56fc6e64",
   "metadata": {},
   "outputs": [
    {
     "ename": "TypeError",
     "evalue": "'tuple' object does not support item assignment",
     "output_type": "error",
     "traceback": [
      "\u001b[1;31m---------------------------------------------------------------------------\u001b[0m",
      "\u001b[1;31mTypeError\u001b[0m                                 Traceback (most recent call last)",
      "\u001b[1;32m~\\AppData\\Local\\Temp/ipykernel_18704/864979993.py\u001b[0m in \u001b[0;36m<module>\u001b[1;34m\u001b[0m\n\u001b[0;32m      1\u001b[0m \u001b[0maTuple\u001b[0m \u001b[1;33m=\u001b[0m \u001b[1;33m(\u001b[0m\u001b[1;36m100\u001b[0m\u001b[1;33m,\u001b[0m \u001b[1;36m200\u001b[0m\u001b[1;33m,\u001b[0m \u001b[1;36m300\u001b[0m\u001b[1;33m,\u001b[0m \u001b[1;36m400\u001b[0m\u001b[1;33m)\u001b[0m\u001b[1;33m\u001b[0m\u001b[1;33m\u001b[0m\u001b[0m\n\u001b[1;32m----> 2\u001b[1;33m \u001b[0maTuple\u001b[0m\u001b[1;33m[\u001b[0m\u001b[1;36m1\u001b[0m\u001b[1;33m]\u001b[0m \u001b[1;33m=\u001b[0m \u001b[1;36m800\u001b[0m\u001b[1;33m\u001b[0m\u001b[1;33m\u001b[0m\u001b[0m\n\u001b[0m\u001b[0;32m      3\u001b[0m \u001b[0mprint\u001b[0m\u001b[1;33m(\u001b[0m\u001b[0maTuple\u001b[0m\u001b[1;33m)\u001b[0m\u001b[1;33m\u001b[0m\u001b[1;33m\u001b[0m\u001b[0m\n",
      "\u001b[1;31mTypeError\u001b[0m: 'tuple' object does not support item assignment"
     ]
    }
   ],
   "source": [
    "aTuple = (100, 200, 300, 400)\n",
    "aTuple[1] = 800\n",
    "print(aTuple)"
   ]
  },
  {
   "cell_type": "markdown",
   "id": "11f5768c",
   "metadata": {},
   "source": [
    "# Looping\n",
    "## While"
   ]
  },
  {
   "cell_type": "raw",
   "id": "029c3b2a",
   "metadata": {},
   "source": [
    "while test :\n",
    "    statement"
   ]
  },
  {
   "cell_type": "raw",
   "id": "2ed0375e",
   "metadata": {},
   "source": [
    "# infinite loop\n",
    "while True :\n",
    "    print('Print Ctrl-C to stop me!)"
   ]
  },
  {
   "cell_type": "code",
   "execution_count": 71,
   "id": "96369f8d",
   "metadata": {},
   "outputs": [],
   "source": [
    "# menampilkan pesan dengan effect seperti echo\n",
    "message = \"spam\""
   ]
  },
  {
   "cell_type": "code",
   "execution_count": 72,
   "id": "cb62e4d8",
   "metadata": {},
   "outputs": [
    {
     "name": "stdout",
     "output_type": "stream",
     "text": [
      "spam pam am m "
     ]
    }
   ],
   "source": [
    "while message != '' :\n",
    "    print(message, end = ' ')\n",
    "    message = message[1:]"
   ]
  },
  {
   "cell_type": "code",
   "execution_count": 73,
   "id": "55a455d5",
   "metadata": {},
   "outputs": [
    {
     "name": "stdout",
     "output_type": "stream",
     "text": [
      "0 1 2 3 4 5 6 7 8 9 10 11 12 "
     ]
    }
   ],
   "source": [
    "a = 0\n",
    "b = 13\n",
    "while a < b :\n",
    "    print(a, end=' ')\n",
    "    a = a + 1"
   ]
  },
  {
   "cell_type": "raw",
   "id": "9d608295",
   "metadata": {},
   "source": [
    "break = keluar dari loop\n",
    "continu = kembali ke blok paling atas dari loop dan mrngulangnya\n",
    "pass = tidak akan melakukan apapun, pressholder kosong dari loop\n",
    "else = eksekusi jika sebuah loop keluar secara normal tanpa break\n",
    "\n",
    "format umum :\n",
    "while test :\n",
    "    statements\n",
    "    if test : break\n",
    "    if test : continu\n",
    "else\n",
    "    statements"
   ]
  },
  {
   "cell_type": "code",
   "execution_count": null,
   "id": "0a14cbec",
   "metadata": {},
   "outputs": [],
   "source": [
    "while True :\n",
    "    name = input('Enter name : ')\n",
    "    if name == 'stop' : break\n",
    "    age = input (' Enter age :')\n",
    "    print ('Hello', name, '=>', int(age) ** 2)"
   ]
  },
  {
   "cell_type": "markdown",
   "id": "e006a452",
   "metadata": {},
   "source": [
    "## for"
   ]
  },
  {
   "cell_type": "raw",
   "id": "aa6e90a9",
   "metadata": {},
   "source": [
    "for target in object :\n",
    "    statements"
   ]
  },
  {
   "cell_type": "code",
   "execution_count": 76,
   "id": "3f402b68",
   "metadata": {},
   "outputs": [
    {
     "name": "stdout",
     "output_type": "stream",
     "text": [
      "raka\n",
      "billy\n",
      "kode\n"
     ]
    }
   ],
   "source": [
    "for word in ['raka', 'billy','kode'] :\n",
    "    print(word, end='\\n')"
   ]
  },
  {
   "cell_type": "code",
   "execution_count": 78,
   "id": "07b68201",
   "metadata": {},
   "outputs": [],
   "source": [
    "sum = 0"
   ]
  },
  {
   "cell_type": "code",
   "execution_count": 79,
   "id": "3d3235df",
   "metadata": {},
   "outputs": [],
   "source": [
    "for i in [1, 2, 3, 4] :\n",
    "    sum = sum + i"
   ]
  },
  {
   "cell_type": "code",
   "execution_count": 80,
   "id": "26610409",
   "metadata": {},
   "outputs": [
    {
     "data": {
      "text/plain": [
       "10"
      ]
     },
     "execution_count": 80,
     "metadata": {},
     "output_type": "execute_result"
    }
   ],
   "source": [
    "sum"
   ]
  },
  {
   "cell_type": "code",
   "execution_count": 81,
   "id": "1a29c569",
   "metadata": {},
   "outputs": [],
   "source": [
    "prod = 1"
   ]
  },
  {
   "cell_type": "code",
   "execution_count": 82,
   "id": "01029123",
   "metadata": {},
   "outputs": [],
   "source": [
    "for item in [1,2,3,4] : prod *= item"
   ]
  },
  {
   "cell_type": "code",
   "execution_count": 83,
   "id": "5405f84e",
   "metadata": {},
   "outputs": [
    {
     "data": {
      "text/plain": [
       "24"
      ]
     },
     "execution_count": 83,
     "metadata": {},
     "output_type": "execute_result"
    }
   ],
   "source": [
    "prod"
   ]
  },
  {
   "cell_type": "code",
   "execution_count": 84,
   "id": "bf3a2244",
   "metadata": {},
   "outputs": [],
   "source": [
    "# string\n",
    "text = 'foxy fox'\n",
    "words = ('is', 'great', 'animal')"
   ]
  },
  {
   "cell_type": "code",
   "execution_count": 85,
   "id": "4a1b15fb",
   "metadata": {},
   "outputs": [
    {
     "name": "stdout",
     "output_type": "stream",
     "text": [
      "f o x y   f o x "
     ]
    }
   ],
   "source": [
    "for chara in text: print(chara, end=' ')"
   ]
  },
  {
   "cell_type": "code",
   "execution_count": 86,
   "id": "e4de81f8",
   "metadata": {},
   "outputs": [
    {
     "name": "stdout",
     "output_type": "stream",
     "text": [
      "is...great...animal..."
     ]
    }
   ],
   "source": [
    "for word in words : print (word, end = '...')"
   ]
  },
  {
   "cell_type": "markdown",
   "id": "c47c770b",
   "metadata": {},
   "source": [
    "pattern matching"
   ]
  },
  {
   "cell_type": "code",
   "execution_count": 87,
   "id": "18f52acd",
   "metadata": {},
   "outputs": [],
   "source": [
    "coor = [(1,2), (3,4), (5,6)]"
   ]
  },
  {
   "cell_type": "code",
   "execution_count": 88,
   "id": "015234ea",
   "metadata": {},
   "outputs": [
    {
     "name": "stdout",
     "output_type": "stream",
     "text": [
      "1 2\n",
      "3 4\n",
      "5 6\n"
     ]
    }
   ],
   "source": [
    "# melakuka pemetaan dari data coor dengan struktur data list tuple\n",
    "for (x,y) in coor : \n",
    "    print(x,y)"
   ]
  },
  {
   "cell_type": "code",
   "execution_count": 90,
   "id": "05e9adc0",
   "metadata": {},
   "outputs": [
    {
     "name": "stdout",
     "output_type": "stream",
     "text": [
      "100\n"
     ]
    }
   ],
   "source": [
    "x = 0\n",
    "while (x < 100) :\n",
    "    x+=2\n",
    "print(x)"
   ]
  },
  {
   "cell_type": "code",
   "execution_count": 94,
   "id": "adc18e39",
   "metadata": {},
   "outputs": [
    {
     "name": "stdout",
     "output_type": "stream",
     "text": [
      "I, d, a, z, "
     ]
    }
   ],
   "source": [
    "for l in 'Idaz':\n",
    "    if l == 'a':\n",
    "        pass\n",
    "    print(l, end=\", \")"
   ]
  },
  {
   "cell_type": "markdown",
   "id": "05a9f195",
   "metadata": {},
   "source": [
    "# IF"
   ]
  },
  {
   "cell_type": "raw",
   "id": "766e3a25",
   "metadata": {},
   "source": [
    "if kondisi :\n",
    "    blok kode1\n",
    "elif kondisi2 :\n",
    "    blok kode2\n",
    "else :\n",
    "    blok kode3"
   ]
  },
  {
   "cell_type": "code",
   "execution_count": 95,
   "id": "40ef708e",
   "metadata": {},
   "outputs": [
    {
     "name": "stdout",
     "output_type": "stream",
     "text": [
      "true\n"
     ]
    }
   ],
   "source": [
    "if 1 :\n",
    "    print ('true')\n",
    "# angka 1 merupakan kondisi boolean true"
   ]
  },
  {
   "cell_type": "code",
   "execution_count": 96,
   "id": "5e621986",
   "metadata": {},
   "outputs": [
    {
     "name": "stdout",
     "output_type": "stream",
     "text": [
      "false\n"
     ]
    }
   ],
   "source": [
    "if not 1 :\n",
    "    print ('true')\n",
    "else :\n",
    "    print('false')"
   ]
  },
  {
   "cell_type": "raw",
   "id": "f06639ba",
   "metadata": {},
   "source": [
    "# percabangan ganda\n",
    "contoh : aplikasi sederhana menghitung umur pengguna dengan format hari, kemudia memberi saran sesuai umur"
   ]
  },
  {
   "cell_type": "code",
   "execution_count": 101,
   "id": "05ed194f",
   "metadata": {},
   "outputs": [
    {
     "name": "stdout",
     "output_type": "stream",
     "text": [
      "Enter your age78\n",
      "Time to retire!\n"
     ]
    }
   ],
   "source": [
    "age = input('Enter your age')\n",
    "if int(age) * 365 > 20000 :\n",
    "    print('Time to retire!')\n",
    "elif int(age) * 365 > 10000 :\n",
    "    print('Lots of time left!')\n",
    "else :\n",
    "    print('Time to get Started!')"
   ]
  },
  {
   "cell_type": "raw",
   "id": "36303de3",
   "metadata": {},
   "source": [
    "3 operator logika :\n",
    "and \n",
    "or\n",
    "not \n",
    "< > ="
   ]
  },
  {
   "cell_type": "code",
   "execution_count": 103,
   "id": "bdd41efc",
   "metadata": {},
   "outputs": [
    {
     "name": "stdout",
     "output_type": "stream",
     "text": [
      "Enter your age: 45\n",
      "You are a Jedi Master now. Go Learn from Master Yoda!!\n"
     ]
    }
   ],
   "source": [
    "user_age = input('Enter your age: ')\n",
    "age = int(user_age) * 365\n",
    "\n",
    "if age >= 9490 :\n",
    "    print('You are a Jedi Master now. Go Learn from Master Yoda!!')\n",
    "elif age >= 8395 and age < 9490 :\n",
    "    print('Becoming Jedi Knight')\n",
    "else :\n",
    "    print('You are a young Padawan')"
   ]
  },
  {
   "cell_type": "code",
   "execution_count": 105,
   "id": "fd07be7c",
   "metadata": {},
   "outputs": [],
   "source": [
    "x = 10\n",
    "y = 50\n"
   ]
  },
  {
   "cell_type": "code",
   "execution_count": 106,
   "id": "cf79ddff",
   "metadata": {},
   "outputs": [],
   "source": [
    "if (x**2 >100 and y<100) :\n",
    "    print(x,y)"
   ]
  },
  {
   "cell_type": "markdown",
   "id": "8b223b21",
   "metadata": {},
   "source": [
    "# Function"
   ]
  },
  {
   "cell_type": "raw",
   "id": "6cc66e31",
   "metadata": {},
   "source": [
    "def function_name (self, parameter_list) \"\n",
    "    pass"
   ]
  },
  {
   "cell_type": "code",
   "execution_count": 107,
   "id": "cf814e72",
   "metadata": {},
   "outputs": [],
   "source": [
    "def add(a, b) :\n",
    "    return a + b"
   ]
  },
  {
   "cell_type": "code",
   "execution_count": 108,
   "id": "46907582",
   "metadata": {},
   "outputs": [
    {
     "data": {
      "text/plain": [
       "9"
      ]
     },
     "execution_count": 108,
     "metadata": {},
     "output_type": "execute_result"
    }
   ],
   "source": [
    "add(5,4)"
   ]
  },
  {
   "cell_type": "code",
   "execution_count": 109,
   "id": "c9f5f1cf",
   "metadata": {},
   "outputs": [],
   "source": [
    "add_things = add(10, 4)"
   ]
  },
  {
   "cell_type": "code",
   "execution_count": 110,
   "id": "e7f26284",
   "metadata": {},
   "outputs": [
    {
     "name": "stdout",
     "output_type": "stream",
     "text": [
      "14\n"
     ]
    }
   ],
   "source": [
    "print(add_things)"
   ]
  },
  {
   "cell_type": "code",
   "execution_count": 111,
   "id": "9bf7cf0e",
   "metadata": {},
   "outputs": [],
   "source": [
    "# tidak melakukan return :\n",
    "def add_and_print(a,b) :\n",
    "    print(a + b)"
   ]
  },
  {
   "cell_type": "code",
   "execution_count": 112,
   "id": "54a1c547",
   "metadata": {},
   "outputs": [
    {
     "name": "stdout",
     "output_type": "stream",
     "text": [
      "4\n"
     ]
    }
   ],
   "source": [
    "add_and_print(1,3)"
   ]
  },
  {
   "cell_type": "code",
   "execution_count": 113,
   "id": "b6272755",
   "metadata": {},
   "outputs": [
    {
     "name": "stdout",
     "output_type": "stream",
     "text": [
      "8\n"
     ]
    }
   ],
   "source": [
    "x = add_and_print(5,3)"
   ]
  },
  {
   "cell_type": "code",
   "execution_count": 114,
   "id": "68398c98",
   "metadata": {},
   "outputs": [
    {
     "name": "stdout",
     "output_type": "stream",
     "text": [
      "None\n"
     ]
    }
   ],
   "source": [
    "print(x)"
   ]
  },
  {
   "cell_type": "markdown",
   "id": "577b93fa",
   "metadata": {},
   "source": [
    "Fungsi yang akan mencari karakter yang sama yang terdapat dalam 2 kata"
   ]
  },
  {
   "cell_type": "code",
   "execution_count": 115,
   "id": "609c2533",
   "metadata": {},
   "outputs": [],
   "source": [
    "def intersection(first_word, second_word) :\n",
    "    result = []\n",
    "    for x in first_word : \n",
    "        if x in second_word :\n",
    "            result.append(x)\n",
    "    return result\n"
   ]
  },
  {
   "cell_type": "code",
   "execution_count": 116,
   "id": "33a0d62a",
   "metadata": {},
   "outputs": [],
   "source": [
    "word1 = 'spam'\n",
    "word2 = 'scam'"
   ]
  },
  {
   "cell_type": "code",
   "execution_count": 117,
   "id": "5e7620d5",
   "metadata": {},
   "outputs": [],
   "source": [
    "char_of_intersect = intersection(word1, word2)"
   ]
  },
  {
   "cell_type": "code",
   "execution_count": 118,
   "id": "d804bdd3",
   "metadata": {},
   "outputs": [
    {
     "name": "stdout",
     "output_type": "stream",
     "text": [
      "['s', 'a', 'm']\n"
     ]
    }
   ],
   "source": [
    "print(char_of_intersect)"
   ]
  },
  {
   "cell_type": "markdown",
   "id": "8bf62354",
   "metadata": {},
   "source": [
    "## Bulit in function and modules"
   ]
  },
  {
   "cell_type": "code",
   "execution_count": 119,
   "id": "2cde7356",
   "metadata": {},
   "outputs": [
    {
     "name": "stdout",
     "output_type": "stream",
     "text": [
      "123\n"
     ]
    }
   ],
   "source": [
    "# menghasilkan nilai absolute pada sebuah angka\n",
    "print(abs(-123))"
   ]
  },
  {
   "cell_type": "code",
   "execution_count": 122,
   "id": "654826e0",
   "metadata": {},
   "outputs": [],
   "source": [
    "# mencari tahu tipe data / struktur data dari sebuah variabel\n",
    "numbers = [1,2,3]"
   ]
  },
  {
   "cell_type": "code",
   "execution_count": 125,
   "id": "85a1b85a",
   "metadata": {},
   "outputs": [
    {
     "name": "stdout",
     "output_type": "stream",
     "text": [
      "False\n"
     ]
    }
   ],
   "source": [
    "print(isinstance(numbers, dict))"
   ]
  },
  {
   "cell_type": "raw",
   "id": "f2168022",
   "metadata": {},
   "source": [
    "print(isinstance(numbers, list)) #error"
   ]
  },
  {
   "cell_type": "code",
   "execution_count": 129,
   "id": "1e2c6c12",
   "metadata": {},
   "outputs": [],
   "source": [
    "number = 22"
   ]
  },
  {
   "cell_type": "code",
   "execution_count": 132,
   "id": "f47b360d",
   "metadata": {},
   "outputs": [
    {
     "name": "stdout",
     "output_type": "stream",
     "text": [
      "True\n"
     ]
    }
   ],
   "source": [
    "print(isinstance(number, int))"
   ]
  },
  {
   "cell_type": "code",
   "execution_count": 134,
   "id": "8e0dc79f",
   "metadata": {},
   "outputs": [
    {
     "name": "stdout",
     "output_type": "stream",
     "text": [
      "6\n",
      "1\n"
     ]
    }
   ],
   "source": [
    "# mencari nilai terbesar dan terkecil\n",
    "numbers = [1,2,3,4,5,6]\n",
    "print(max(numbers))\n",
    "print(min(numbers))"
   ]
  },
  {
   "cell_type": "code",
   "execution_count": 135,
   "id": "33f8635f",
   "metadata": {},
   "outputs": [
    {
     "name": "stdout",
     "output_type": "stream",
     "text": [
      "z\n",
      "a\n"
     ]
    }
   ],
   "source": [
    "alphas = ['a','b','z']\n",
    "print(max(alphas))\n",
    "print(min(alphas))"
   ]
  },
  {
   "cell_type": "markdown",
   "id": "64bf45bb",
   "metadata": {},
   "source": [
    "Built in methods"
   ]
  },
  {
   "cell_type": "code",
   "execution_count": 136,
   "id": "cd5f2e26",
   "metadata": {},
   "outputs": [
    {
     "name": "stdout",
     "output_type": "stream",
     "text": [
      "2\n"
     ]
    }
   ],
   "source": [
    "# list\n",
    "# index \n",
    "language = ['py', 'js', 'go', 'c']\n",
    "print(language.index('go'))"
   ]
  },
  {
   "cell_type": "code",
   "execution_count": 138,
   "id": "8da74f4a",
   "metadata": {},
   "outputs": [
    {
     "name": "stdout",
     "output_type": "stream",
     "text": [
      "['c', 'go', 'js', 'py']\n"
     ]
    }
   ],
   "source": [
    "#sort \n",
    "language.sort()\n",
    "print(language)"
   ]
  },
  {
   "cell_type": "raw",
   "id": "8f2e6624",
   "metadata": {},
   "source": [
    "# string\n",
    "capitalize : membuat huruf pertama menjadi kapital\n",
    "upper : untuk merubah semua menjai kapital\n",
    "replace : mencari karakter dan ganti"
   ]
  },
  {
   "cell_type": "code",
   "execution_count": 139,
   "id": "8a1ab2bd",
   "metadata": {},
   "outputs": [
    {
     "name": "stdout",
     "output_type": "stream",
     "text": [
      "raka\n"
     ]
    }
   ],
   "source": [
    "name = 'raka'\n",
    "print(name)"
   ]
  },
  {
   "cell_type": "code",
   "execution_count": 140,
   "id": "f25cf8c2",
   "metadata": {},
   "outputs": [
    {
     "data": {
      "text/plain": [
       "'raca'"
      ]
     },
     "execution_count": 140,
     "metadata": {},
     "output_type": "execute_result"
    }
   ],
   "source": [
    "name.replace('k','c')"
   ]
  },
  {
   "cell_type": "code",
   "execution_count": 142,
   "id": "9a62c66a",
   "metadata": {},
   "outputs": [
    {
     "data": {
      "text/plain": [
       "'Raka'"
      ]
     },
     "execution_count": 142,
     "metadata": {},
     "output_type": "execute_result"
    }
   ],
   "source": [
    "name.capitalize()"
   ]
  },
  {
   "cell_type": "code",
   "execution_count": 175,
   "id": "57e981ee",
   "metadata": {},
   "outputs": [
    {
     "data": {
      "text/plain": [
       "'RAKA'"
      ]
     },
     "execution_count": 175,
     "metadata": {},
     "output_type": "execute_result"
    }
   ],
   "source": [
    "name.upper()"
   ]
  },
  {
   "cell_type": "markdown",
   "id": "c05dc4a4",
   "metadata": {},
   "source": [
    "## Moduls"
   ]
  },
  {
   "cell_type": "code",
   "execution_count": 143,
   "id": "3280b9eb",
   "metadata": {},
   "outputs": [],
   "source": [
    "import b"
   ]
  },
  {
   "cell_type": "code",
   "execution_count": 144,
   "id": "79960b41",
   "metadata": {},
   "outputs": [
    {
     "name": "stdout",
     "output_type": "stream",
     "text": [
      "Log:  aku kamu kita\n"
     ]
    }
   ],
   "source": [
    "b.logger('aku kamu kita')"
   ]
  },
  {
   "cell_type": "code",
   "execution_count": 145,
   "id": "fdb55492",
   "metadata": {},
   "outputs": [],
   "source": [
    "import math"
   ]
  },
  {
   "cell_type": "code",
   "execution_count": 146,
   "id": "f83fa8a2",
   "metadata": {},
   "outputs": [
    {
     "name": "stdout",
     "output_type": "stream",
     "text": [
      "6\n"
     ]
    }
   ],
   "source": [
    "print(math.factorial(3))"
   ]
  },
  {
   "cell_type": "code",
   "execution_count": 151,
   "id": "fab18c26",
   "metadata": {},
   "outputs": [
    {
     "name": "stdout",
     "output_type": "stream",
     "text": [
      "6\n"
     ]
    }
   ],
   "source": [
    "from math import factorial\n",
    "print(factorial(3))"
   ]
  },
  {
   "cell_type": "raw",
   "id": "9c9d09eb",
   "metadata": {},
   "source": [
    "from math import datetime\n",
    "print(datetime.now())"
   ]
  },
  {
   "cell_type": "code",
   "execution_count": 147,
   "id": "be506c2c",
   "metadata": {},
   "outputs": [
    {
     "name": "stdout",
     "output_type": "stream",
     "text": [
      "Log:  aku kamu kita\n"
     ]
    }
   ],
   "source": [
    "from b import logger\n",
    "logger('aku kamu kita')"
   ]
  },
  {
   "cell_type": "markdown",
   "id": "2ebb240e",
   "metadata": {},
   "source": [
    "## Packages"
   ]
  },
  {
   "cell_type": "raw",
   "id": "0f949793",
   "metadata": {},
   "source": [
    "# mendownload sebuah website yang berbekal url : request\n",
    "!pip install requests"
   ]
  },
  {
   "cell_type": "code",
   "execution_count": 157,
   "id": "78bd44b8",
   "metadata": {},
   "outputs": [],
   "source": [
    "import requests "
   ]
  },
  {
   "cell_type": "code",
   "execution_count": 158,
   "id": "3b0562d3",
   "metadata": {},
   "outputs": [],
   "source": [
    "r = requests.get('https://api.github.com/events')"
   ]
  },
  {
   "cell_type": "code",
   "execution_count": 159,
   "id": "e3b552bd",
   "metadata": {},
   "outputs": [
    {
     "name": "stdout",
     "output_type": "stream",
     "text": [
      "200\n"
     ]
    }
   ],
   "source": [
    "print(r.status_code)"
   ]
  },
  {
   "cell_type": "code",
   "execution_count": 160,
   "id": "af906f1c",
   "metadata": {},
   "outputs": [
    {
     "name": "stdout",
     "output_type": "stream",
     "text": [
      "[{'id': '20517176958', 'type': 'PullRequestEvent', 'actor': {'id': 17924565, 'login': 'rajendranr-5483', 'display_login': 'rajendranr-5483', 'gravatar_id': '', 'url': 'https://api.github.com/users/rajendranr-5483', 'avatar_url': 'https://avatars.githubusercontent.com/u/17924565?'}, 'repo': {'id': 444686578, 'name': 'syncfusion-content/ej2-asp-core-mvc-docs', 'url': 'https://api.github.com/repos/syncfusion-content/ej2-asp-core-mvc-docs'}, 'payload': {'action': 'closed', 'number': 145, 'pull_request': {'url': 'https://api.github.com/repos/syncfusion-content/ej2-asp-core-mvc-docs/pulls/145', 'id': 867840829, 'node_id': 'PR_kwDOGoFg8s4zujM9', 'html_url': 'https://github.com/syncfusion-content/ej2-asp-core-mvc-docs/pull/145', 'diff_url': 'https://github.com/syncfusion-content/ej2-asp-core-mvc-docs/pull/145.diff', 'patch_url': 'https://github.com/syncfusion-content/ej2-asp-core-mvc-docs/pull/145.patch', 'issue_url': 'https://api.github.com/repos/syncfusion-content/ej2-asp-core-mvc-docs/issues/145', 'number': 145, 'state': 'closed', 'locked': False, 'title': 'changes committed.', 'user': {'login': 'syncsiva', 'id': 18731572, 'node_id': 'MDQ6VXNlcjE4NzMxNTcy', 'avatar_url': 'https://avatars.githubusercontent.com/u/18731572?v=4', 'gravatar_id': '', 'url': 'https://api.github.com/users/syncsiva', 'html_url': 'https://github.com/syncsiva', 'followers_url': 'https://api.github.com/users/syncsiva/followers', 'following_url': 'https://api.github.com/users/syncsiva/following{/other_user}', 'gists_url': 'https://api.github.com/users/syncsiva/gists{/gist_id}', 'starred_url': 'https://api.github.com/users/syncsiva/starred{/owner}{/repo}', 'subscriptions_url': 'https://api.github.com/users/syncsiva/subscriptions', 'organizations_url': 'https://api.github.com/users/syncsiva/orgs', 'repos_url': 'https://api.github.com/users/syncsiva/repos', 'events_url': 'https://api.github.com/users/syncsiva/events{/privacy}', 'received_events_url': 'https://api.github.com/users/syncsiva/received_events', 'type': 'User', 'site_admin': False}, 'body': None, 'created_at': '2022-03-01T13:00:15Z', 'updated_at': '2022-03-01T13:02:16Z', 'closed_at': '2022-03-01T13:02:16Z', 'merged_at': '2022-03-01T13:02:15Z', 'merge_commit_sha': '0d93383a045f73bdf274ce05400546ca4b8d265d', 'assignee': None, 'assignees': [], 'requested_reviewers': [], 'requested_teams': [], 'labels': [], 'milestone': None, 'draft': False, 'commits_url': 'https://api.github.com/repos/syncfusion-content/ej2-asp-core-mvc-docs/pulls/145/commits', 'review_comments_url': 'https://api.github.com/repos/syncfusion-content/ej2-asp-core-mvc-docs/pulls/145/comments', 'review_comment_url': 'https://api.github.com/repos/syncfusion-content/ej2-asp-core-mvc-docs/pulls/comments{/number}', 'comments_url': 'https://api.github.com/repos/syncfusion-content/ej2-asp-core-mvc-docs/issues/145/comments', 'statuses_url': 'https://api.github.com/repos/syncfusion-content/ej2-asp-core-mvc-docs/statuses/dc97440deb4cf9e9defadf898a9ac4ef916e704c', 'head': {'label': 'syncfusion-content:ej2coreteamdev', 'ref': 'ej2coreteamdev', 'sha': 'dc97440deb4cf9e9defadf898a9ac4ef916e704c', 'user': {'login': 'syncfusion-content', 'id': 92743801, 'node_id': 'O_kgDOBYcoeQ', 'avatar_url': 'https://avatars.githubusercontent.com/u/92743801?v=4', 'gravatar_id': '', 'url': 'https://api.github.com/users/syncfusion-content', 'html_url': 'https://github.com/syncfusion-content', 'followers_url': 'https://api.github.com/users/syncfusion-content/followers', 'following_url': 'https://api.github.com/users/syncfusion-content/following{/other_user}', 'gists_url': 'https://api.github.com/users/syncfusion-content/gists{/gist_id}', 'starred_url': 'https://api.github.com/users/syncfusion-content/starred{/owner}{/repo}', 'subscriptions_url': 'https://api.github.com/users/syncfusion-content/subscriptions', 'organizations_url': 'https://api.github.com/users/syncfusion-content/orgs', 'repos_url': 'https://api.github.com/users/syncfusion-content/repos', 'events_url': 'https://api.github.com/users/syncfusion-content/events{/privacy}', 'received_events_url': 'https://api.github.com/users/syncfusion-content/received_events', 'type': 'Organization', 'site_admin': False}, 'repo': {'id': 444686578, 'node_id': 'R_kgDOGoFg8g', 'name': 'ej2-asp-core-mvc-docs', 'full_name': 'syncfusion-content/ej2-asp-core-mvc-docs', 'private': False, 'owner': {'login': 'syncfusion-content', 'id': 92743801, 'node_id': 'O_kgDOBYcoeQ', 'avatar_url': 'https://avatars.githubusercontent.com/u/92743801?v=4', 'gravatar_id': '', 'url': 'https://api.github.com/users/syncfusion-content', 'html_url': 'https://github.com/syncfusion-content', 'followers_url': 'https://api.github.com/users/syncfusion-content/followers', 'following_url': 'https://api.github.com/users/syncfusion-content/following{/other_user}', 'gists_url': 'https://api.github.com/users/syncfusion-content/gists{/gist_id}', 'starred_url': 'https://api.github.com/users/syncfusion-content/starred{/owner}{/repo}', 'subscriptions_url': 'https://api.github.com/users/syncfusion-content/subscriptions', 'organizations_url': 'https://api.github.com/users/syncfusion-content/orgs', 'repos_url': 'https://api.github.com/users/syncfusion-content/repos', 'events_url': 'https://api.github.com/users/syncfusion-content/events{/privacy}', 'received_events_url': 'https://api.github.com/users/syncfusion-content/received_events', 'type': 'Organization', 'site_admin': False}, 'html_url': 'https://github.com/syncfusion-content/ej2-asp-core-mvc-docs', 'description': 'This is the common UG Document repository for the EJ2 ASP.NET MVC and EJ2 ASP.NET CORE controls', 'fork': False, 'url': 'https://api.github.com/repos/syncfusion-content/ej2-asp-core-mvc-docs', 'forks_url': 'https://api.github.com/repos/syncfusion-content/ej2-asp-core-mvc-docs/forks', 'keys_url': 'https://api.github.com/repos/syncfusion-content/ej2-asp-core-mvc-docs/keys{/key_id}', 'collaborators_url': 'https://api.github.com/repos/syncfusion-content/ej2-asp-core-mvc-docs/collaborators{/collaborator}', 'teams_url': 'https://api.github.com/repos/syncfusion-content/ej2-asp-core-mvc-docs/teams', 'hooks_url': 'https://api.github.com/repos/syncfusion-content/ej2-asp-core-mvc-docs/hooks', 'issue_events_url': 'https://api.github.com/repos/syncfusion-content/ej2-asp-core-mvc-docs/issues/events{/number}', 'events_url': 'https://api.github.com/repos/syncfusion-content/ej2-asp-core-mvc-docs/events', 'assignees_url': 'https://api.github.com/repos/syncfusion-content/ej2-asp-core-mvc-docs/assignees{/user}', 'branches_url': 'https://api.github.com/repos/syncfusion-content/ej2-asp-core-mvc-docs/branches{/branch}', 'tags_url': 'https://api.github.com/repos/syncfusion-content/ej2-asp-core-mvc-docs/tags', 'blobs_url': 'https://api.github.com/repos/syncfusion-content/ej2-asp-core-mvc-docs/git/blobs{/sha}', 'git_tags_url': 'https://api.github.com/repos/syncfusion-content/ej2-asp-core-mvc-docs/git/tags{/sha}', 'git_refs_url': 'https://api.github.com/repos/syncfusion-content/ej2-asp-core-mvc-docs/git/refs{/sha}', 'trees_url': 'https://api.github.com/repos/syncfusion-content/ej2-asp-core-mvc-docs/git/trees{/sha}', 'statuses_url': 'https://api.github.com/repos/syncfusion-content/ej2-asp-core-mvc-docs/statuses/{sha}', 'languages_url': 'https://api.github.com/repos/syncfusion-content/ej2-asp-core-mvc-docs/languages', 'stargazers_url': 'https://api.github.com/repos/syncfusion-content/ej2-asp-core-mvc-docs/stargazers', 'contributors_url': 'https://api.github.com/repos/syncfusion-content/ej2-asp-core-mvc-docs/contributors', 'subscribers_url': 'https://api.github.com/repos/syncfusion-content/ej2-asp-core-mvc-docs/subscribers', 'subscription_url': 'https://api.github.com/repos/syncfusion-content/ej2-asp-core-mvc-docs/subscription', 'commits_url': 'https://api.github.com/repos/syncfusion-content/ej2-asp-core-mvc-docs/commits{/sha}', 'git_commits_url': 'https://api.github.com/repos/syncfusion-content/ej2-asp-core-mvc-docs/git/commits{/sha}', 'comments_url': 'https://api.github.com/repos/syncfusion-content/ej2-asp-core-mvc-docs/comments{/number}', 'issue_comment_url': 'https://api.github.com/repos/syncfusion-content/ej2-asp-core-mvc-docs/issues/comments{/number}', 'contents_url': 'https://api.github.com/repos/syncfusion-content/ej2-asp-core-mvc-docs/contents/{+path}', 'compare_url': 'https://api.github.com/repos/syncfusion-content/ej2-asp-core-mvc-docs/compare/{base}...{head}', 'merges_url': 'https://api.github.com/repos/syncfusion-content/ej2-asp-core-mvc-docs/merges', 'archive_url': 'https://api.github.com/repos/syncfusion-content/ej2-asp-core-mvc-docs/{archive_format}{/ref}', 'downloads_url': 'https://api.github.com/repos/syncfusion-content/ej2-asp-core-mvc-docs/downloads', 'issues_url': 'https://api.github.com/repos/syncfusion-content/ej2-asp-core-mvc-docs/issues{/number}', 'pulls_url': 'https://api.github.com/repos/syncfusion-content/ej2-asp-core-mvc-docs/pulls{/number}', 'milestones_url': 'https://api.github.com/repos/syncfusion-content/ej2-asp-core-mvc-docs/milestones{/number}', 'notifications_url': 'https://api.github.com/repos/syncfusion-content/ej2-asp-core-mvc-docs/notifications{?since,all,participating}', 'labels_url': 'https://api.github.com/repos/syncfusion-content/ej2-asp-core-mvc-docs/labels{/name}', 'releases_url': 'https://api.github.com/repos/syncfusion-content/ej2-asp-core-mvc-docs/releases{/id}', 'deployments_url': 'https://api.github.com/repos/syncfusion-content/ej2-asp-core-mvc-docs/deployments', 'created_at': '2022-01-05T06:18:13Z', 'updated_at': '2022-02-21T08:58:03Z', 'pushed_at': '2022-03-01T13:02:15Z', 'git_url': 'git://github.com/syncfusion-content/ej2-asp-core-mvc-docs.git', 'ssh_url': 'git@github.com:syncfusion-content/ej2-asp-core-mvc-docs.git', 'clone_url': 'https://github.com/syncfusion-content/ej2-asp-core-mvc-docs.git', 'svn_url': 'https://github.com/syncfusion-content/ej2-asp-core-mvc-docs', 'homepage': 'https://www.syncfusion.com/', 'size': 107020, 'stargazers_count': 0, 'watchers_count': 0, 'language': 'C#', 'has_issues': True, 'has_projects': True, 'has_downloads': True, 'has_wiki': True, 'has_pages': False, 'forks_count': 1, 'mirror_url': None, 'archived': False, 'disabled': False, 'open_issues_count': 5, 'license': None, 'allow_forking': True, 'is_template': False, 'topics': [], 'visibility': 'public', 'forks': 1, 'open_issues': 5, 'watchers': 0, 'default_branch': 'development'}}, 'base': {'label': 'syncfusion-content:development', 'ref': 'development', 'sha': '60bf872464256d9098e0595fb83fa1dbf2a457d2', 'user': {'login': 'syncfusion-content', 'id': 92743801, 'node_id': 'O_kgDOBYcoeQ', 'avatar_url': 'https://avatars.githubusercontent.com/u/92743801?v=4', 'gravatar_id': '', 'url': 'https://api.github.com/users/syncfusion-content', 'html_url': 'https://github.com/syncfusion-content', 'followers_url': 'https://api.github.com/users/syncfusion-content/followers', 'following_url': 'https://api.github.com/users/syncfusion-content/following{/other_user}', 'gists_url': 'https://api.github.com/users/syncfusion-content/gists{/gist_id}', 'starred_url': 'https://api.github.com/users/syncfusion-content/starred{/owner}{/repo}', 'subscriptions_url': 'https://api.github.com/users/syncfusion-content/subscriptions', 'organizations_url': 'https://api.github.com/users/syncfusion-content/orgs', 'repos_url': 'https://api.github.com/users/syncfusion-content/repos', 'events_url': 'https://api.github.com/users/syncfusion-content/events{/privacy}', 'received_events_url': 'https://api.github.com/users/syncfusion-content/received_events', 'type': 'Organization', 'site_admin': False}, 'repo': {'id': 444686578, 'node_id': 'R_kgDOGoFg8g', 'name': 'ej2-asp-core-mvc-docs', 'full_name': 'syncfusion-content/ej2-asp-core-mvc-docs', 'private': False, 'owner': {'login': 'syncfusion-content', 'id': 92743801, 'node_id': 'O_kgDOBYcoeQ', 'avatar_url': 'https://avatars.githubusercontent.com/u/92743801?v=4', 'gravatar_id': '', 'url': 'https://api.github.com/users/syncfusion-content', 'html_url': 'https://github.com/syncfusion-content', 'followers_url': 'https://api.github.com/users/syncfusion-content/followers', 'following_url': 'https://api.github.com/users/syncfusion-content/following{/other_user}', 'gists_url': 'https://api.github.com/users/syncfusion-content/gists{/gist_id}', 'starred_url': 'https://api.github.com/users/syncfusion-content/starred{/owner}{/repo}', 'subscriptions_url': 'https://api.github.com/users/syncfusion-content/subscriptions', 'organizations_url': 'https://api.github.com/users/syncfusion-content/orgs', 'repos_url': 'https://api.github.com/users/syncfusion-content/repos', 'events_url': 'https://api.github.com/users/syncfusion-content/events{/privacy}', 'received_events_url': 'https://api.github.com/users/syncfusion-content/received_events', 'type': 'Organization', 'site_admin': False}, 'html_url': 'https://github.com/syncfusion-content/ej2-asp-core-mvc-docs', 'description': 'This is the common UG Document repository for the EJ2 ASP.NET MVC and EJ2 ASP.NET CORE controls', 'fork': False, 'url': 'https://api.github.com/repos/syncfusion-content/ej2-asp-core-mvc-docs', 'forks_url': 'https://api.github.com/repos/syncfusion-content/ej2-asp-core-mvc-docs/forks', 'keys_url': 'https://api.github.com/repos/syncfusion-content/ej2-asp-core-mvc-docs/keys{/key_id}', 'collaborators_url': 'https://api.github.com/repos/syncfusion-content/ej2-asp-core-mvc-docs/collaborators{/collaborator}', 'teams_url': 'https://api.github.com/repos/syncfusion-content/ej2-asp-core-mvc-docs/teams', 'hooks_url': 'https://api.github.com/repos/syncfusion-content/ej2-asp-core-mvc-docs/hooks', 'issue_events_url': 'https://api.github.com/repos/syncfusion-content/ej2-asp-core-mvc-docs/issues/events{/number}', 'events_url': 'https://api.github.com/repos/syncfusion-content/ej2-asp-core-mvc-docs/events', 'assignees_url': 'https://api.github.com/repos/syncfusion-content/ej2-asp-core-mvc-docs/assignees{/user}', 'branches_url': 'https://api.github.com/repos/syncfusion-content/ej2-asp-core-mvc-docs/branches{/branch}', 'tags_url': 'https://api.github.com/repos/syncfusion-content/ej2-asp-core-mvc-docs/tags', 'blobs_url': 'https://api.github.com/repos/syncfusion-content/ej2-asp-core-mvc-docs/git/blobs{/sha}', 'git_tags_url': 'https://api.github.com/repos/syncfusion-content/ej2-asp-core-mvc-docs/git/tags{/sha}', 'git_refs_url': 'https://api.github.com/repos/syncfusion-content/ej2-asp-core-mvc-docs/git/refs{/sha}', 'trees_url': 'https://api.github.com/repos/syncfusion-content/ej2-asp-core-mvc-docs/git/trees{/sha}', 'statuses_url': 'https://api.github.com/repos/syncfusion-content/ej2-asp-core-mvc-docs/statuses/{sha}', 'languages_url': 'https://api.github.com/repos/syncfusion-content/ej2-asp-core-mvc-docs/languages', 'stargazers_url': 'https://api.github.com/repos/syncfusion-content/ej2-asp-core-mvc-docs/stargazers', 'contributors_url': 'https://api.github.com/repos/syncfusion-content/ej2-asp-core-mvc-docs/contributors', 'subscribers_url': 'https://api.github.com/repos/syncfusion-content/ej2-asp-core-mvc-docs/subscribers', 'subscription_url': 'https://api.github.com/repos/syncfusion-content/ej2-asp-core-mvc-docs/subscription', 'commits_url': 'https://api.github.com/repos/syncfusion-content/ej2-asp-core-mvc-docs/commits{/sha}', 'git_commits_url': 'https://api.github.com/repos/syncfusion-content/ej2-asp-core-mvc-docs/git/commits{/sha}', 'comments_url': 'https://api.github.com/repos/syncfusion-content/ej2-asp-core-mvc-docs/comments{/number}', 'issue_comment_url': 'https://api.github.com/repos/syncfusion-content/ej2-asp-core-mvc-docs/issues/comments{/number}', 'contents_url': 'https://api.github.com/repos/syncfusion-content/ej2-asp-core-mvc-docs/contents/{+path}', 'compare_url': 'https://api.github.com/repos/syncfusion-content/ej2-asp-core-mvc-docs/compare/{base}...{head}', 'merges_url': 'https://api.github.com/repos/syncfusion-content/ej2-asp-core-mvc-docs/merges', 'archive_url': 'https://api.github.com/repos/syncfusion-content/ej2-asp-core-mvc-docs/{archive_format}{/ref}', 'downloads_url': 'https://api.github.com/repos/syncfusion-content/ej2-asp-core-mvc-docs/downloads', 'issues_url': 'https://api.github.com/repos/syncfusion-content/ej2-asp-core-mvc-docs/issues{/number}', 'pulls_url': 'https://api.github.com/repos/syncfusion-content/ej2-asp-core-mvc-docs/pulls{/number}', 'milestones_url': 'https://api.github.com/repos/syncfusion-content/ej2-asp-core-mvc-docs/milestones{/number}', 'notifications_url': 'https://api.github.com/repos/syncfusion-content/ej2-asp-core-mvc-docs/notifications{?since,all,participating}', 'labels_url': 'https://api.github.com/repos/syncfusion-content/ej2-asp-core-mvc-docs/labels{/name}', 'releases_url': 'https://api.github.com/repos/syncfusion-content/ej2-asp-core-mvc-docs/releases{/id}', 'deployments_url': 'https://api.github.com/repos/syncfusion-content/ej2-asp-core-mvc-docs/deployments', 'created_at': '2022-01-05T06:18:13Z', 'updated_at': '2022-02-21T08:58:03Z', 'pushed_at': '2022-03-01T13:02:15Z', 'git_url': 'git://github.com/syncfusion-content/ej2-asp-core-mvc-docs.git', 'ssh_url': 'git@github.com:syncfusion-content/ej2-asp-core-mvc-docs.git', 'clone_url': 'https://github.com/syncfusion-content/ej2-asp-core-mvc-docs.git', 'svn_url': 'https://github.com/syncfusion-content/ej2-asp-core-mvc-docs', 'homepage': 'https://www.syncfusion.com/', 'size': 107020, 'stargazers_count': 0, 'watchers_count': 0, 'language': 'C#', 'has_issues': True, 'has_projects': True, 'has_downloads': True, 'has_wiki': True, 'has_pages': False, 'forks_count': 1, 'mirror_url': None, 'archived': False, 'disabled': False, 'open_issues_count': 5, 'license': None, 'allow_forking': True, 'is_template': False, 'topics': [], 'visibility': 'public', 'forks': 1, 'open_issues': 5, 'watchers': 0, 'default_branch': 'development'}}, '_links': {'self': {'href': 'https://api.github.com/repos/syncfusion-content/ej2-asp-core-mvc-docs/pulls/145'}, 'html': {'href': 'https://github.com/syncfusion-content/ej2-asp-core-mvc-docs/pull/145'}, 'issue': {'href': 'https://api.github.com/repos/syncfusion-content/ej2-asp-core-mvc-docs/issues/145'}, 'comments': {'href': 'https://api.github.com/repos/syncfusion-content/ej2-asp-core-mvc-docs/issues/145/comments'}, 'review_comments': {'href': 'https://api.github.com/repos/syncfusion-content/ej2-asp-core-mvc-docs/pulls/145/comments'}, 'review_comment': {'href': 'https://api.github.com/repos/syncfusion-content/ej2-asp-core-mvc-docs/pulls/comments{/number}'}, 'commits': {'href': 'https://api.github.com/repos/syncfusion-content/ej2-asp-core-mvc-docs/pulls/145/commits'}, 'statuses': {'href': 'https://api.github.com/repos/syncfusion-content/ej2-asp-core-mvc-docs/statuses/dc97440deb4cf9e9defadf898a9ac4ef916e704c'}}, 'author_association': 'COLLABORATOR', 'auto_merge': None, 'active_lock_reason': None, 'merged': True, 'mergeable': None, 'rebaseable': None, 'mergeable_state': 'unknown', 'merged_by': {'login': 'rajendranr-5483', 'id': 17924565, 'node_id': 'MDQ6VXNlcjE3OTI0NTY1', 'avatar_url': 'https://avatars.githubusercontent.com/u/17924565?v=4', 'gravatar_id': '', 'url': 'https://api.github.com/users/rajendranr-5483', 'html_url': 'https://github.com/rajendranr-5483', 'followers_url': 'https://api.github.com/users/rajendranr-5483/followers', 'following_url': 'https://api.github.com/users/rajendranr-5483/following{/other_user}', 'gists_url': 'https://api.github.com/users/rajendranr-5483/gists{/gist_id}', 'starred_url': 'https://api.github.com/users/rajendranr-5483/starred{/owner}{/repo}', 'subscriptions_url': 'https://api.github.com/users/rajendranr-5483/subscriptions', 'organizations_url': 'https://api.github.com/users/rajendranr-5483/orgs', 'repos_url': 'https://api.github.com/users/rajendranr-5483/repos', 'events_url': 'https://api.github.com/users/rajendranr-5483/events{/privacy}', 'received_events_url': 'https://api.github.com/users/rajendranr-5483/received_events', 'type': 'User', 'site_admin': False}, 'comments': 0, 'review_comments': 0, 'maintainer_can_modify': False, 'commits': 1, 'additions': 7, 'deletions': 108, 'changed_files': 6}}, 'public': True, 'created_at': '2022-03-01T13:02:16Z', 'org': {'id': 92743801, 'login': 'syncfusion-content', 'gravatar_id': '', 'url': 'https://api.github.com/orgs/syncfusion-content', 'avatar_url': 'https://avatars.githubusercontent.com/u/92743801?'}}, {'id': '20517176911', 'type': 'PushEvent', 'actor': {'id': 53103763, 'login': 'logicdev406', 'display_login': 'logicdev406', 'gravatar_id': '', 'url': 'https://api.github.com/users/logicdev406', 'avatar_url': 'https://avatars.githubusercontent.com/u/53103763?'}, 'repo': {'id': 454762593, 'name': 'logicdev406/music-blog-API', 'url': 'https://api.github.com/repos/logicdev406/music-blog-API'}, 'payload': {'push_id': 9232968458, 'size': 2, 'distinct_size': 2, 'ref': 'refs/heads/main', 'head': '3b4643fbb60b5569fa2fc2fda52b23e50c31b050', 'before': '9d4b9beab05ad3ca4a10f6f4980c38bd63cb6bab', 'commits': [{'sha': 'fe9d588fa571f8d04a267219c904c8ea7d67005f', 'author': {'email': 'bignero47@gmail.com', 'name': 'Sunday Ochuko'}, 'message': 'added authentication and authorization to hashtag rout', 'distinct': True, 'url': 'https://api.github.com/repos/logicdev406/music-blog-API/commits/fe9d588fa571f8d04a267219c904c8ea7d67005f'}, {'sha': '3b4643fbb60b5569fa2fc2fda52b23e50c31b050', 'author': {'email': 'bignero47@gmail.com', 'name': 'Sunday Ochuko'}, 'message': ' updated the list user endpoint and created the find user by id endpoint', 'distinct': True, 'url': 'https://api.github.com/repos/logicdev406/music-blog-API/commits/3b4643fbb60b5569fa2fc2fda52b23e50c31b050'}]}, 'public': True, 'created_at': '2022-03-01T13:02:16Z'}, {'id': '20517176945', 'type': 'PushEvent', 'actor': {'id': 56201652, 'login': 'Arpit2401', 'display_login': 'Arpit2401', 'gravatar_id': '', 'url': 'https://api.github.com/users/Arpit2401', 'avatar_url': 'https://avatars.githubusercontent.com/u/56201652?'}, 'repo': {'id': 399546278, 'name': 'Arpit2401/LeetCode-Problems', 'url': 'https://api.github.com/repos/Arpit2401/LeetCode-Problems'}, 'payload': {'push_id': 9232968484, 'size': 1, 'distinct_size': 1, 'ref': 'refs/heads/main', 'head': '212087bea7c839068aa1f161ca2a8c7f1a829bca', 'before': '1c3c2a17161342e051415ff2d85277d3234111a5', 'commits': [{'sha': '212087bea7c839068aa1f161ca2a8c7f1a829bca', 'author': {'email': '56201652+Arpit2401@users.noreply.github.com', 'name': 'Arpit Agarwal'}, 'message': 'Create README - LeetHub', 'distinct': True, 'url': 'https://api.github.com/repos/Arpit2401/LeetCode-Problems/commits/212087bea7c839068aa1f161ca2a8c7f1a829bca'}]}, 'public': True, 'created_at': '2022-03-01T13:02:16Z'}, {'id': '20517176901', 'type': 'PushEvent', 'actor': {'id': 41898282, 'login': 'github-actions[bot]', 'display_login': 'github-actions', 'gravatar_id': '', 'url': 'https://api.github.com/users/github-actions[bot]', 'avatar_url': 'https://avatars.githubusercontent.com/u/41898282?'}, 'repo': {'id': 444398245, 'name': 'gabrielgasparr/gabrielgasparr', 'url': 'https://api.github.com/repos/gabrielgasparr/gabrielgasparr'}, 'payload': {'push_id': 9232968466, 'size': 1, 'distinct_size': 1, 'ref': 'refs/heads/output', 'head': '639bf301500ca38ba7d9da4226226b58cad7c8f9', 'before': 'e03403f3f4bbf52a175664ac6c7049b4b6590f62', 'commits': [{'sha': '639bf301500ca38ba7d9da4226226b58cad7c8f9', 'author': {'email': '41898282+github-actions[bot]@users.noreply.github.com', 'name': 'github-actions[bot]'}, 'message': 'Deploy to GitHub pages', 'distinct': True, 'url': 'https://api.github.com/repos/gabrielgasparr/gabrielgasparr/commits/639bf301500ca38ba7d9da4226226b58cad7c8f9'}]}, 'public': True, 'created_at': '2022-03-01T13:02:16Z'}, {'id': '20517176926', 'type': 'PullRequestReviewEvent', 'actor': {'id': 81713309, 'login': 'claywar', 'display_login': 'claywar', 'gravatar_id': '', 'url': 'https://api.github.com/users/claywar', 'avatar_url': 'https://avatars.githubusercontent.com/u/81713309?'}, 'repo': {'id': 353756415, 'name': 'LandSandBoat/server', 'url': 'https://api.github.com/repos/LandSandBoat/server'}, 'payload': {'action': 'created', 'review': {'id': 896271345, 'node_id': 'PRR_kwDOFRXk_841bAPx', 'user': {'login': 'claywar', 'id': 81713309, 'node_id': 'MDQ6VXNlcjgxNzEzMzA5', 'avatar_url': 'https://avatars.githubusercontent.com/u/81713309?v=4', 'gravatar_id': '', 'url': 'https://api.github.com/users/claywar', 'html_url': 'https://github.com/claywar', 'followers_url': 'https://api.github.com/users/claywar/followers', 'following_url': 'https://api.github.com/users/claywar/following{/other_user}', 'gists_url': 'https://api.github.com/users/claywar/gists{/gist_id}', 'starred_url': 'https://api.github.com/users/claywar/starred{/owner}{/repo}', 'subscriptions_url': 'https://api.github.com/users/claywar/subscriptions', 'organizations_url': 'https://api.github.com/users/claywar/orgs', 'repos_url': 'https://api.github.com/users/claywar/repos', 'events_url': 'https://api.github.com/users/claywar/events{/privacy}', 'received_events_url': 'https://api.github.com/users/claywar/received_events', 'type': 'User', 'site_admin': False}, 'body': '', 'commit_id': '25fac64234a6ea74fead5cfa4e2430f676066abd', 'submitted_at': '2022-03-01T13:02:16Z', 'state': 'approved', 'html_url': 'https://github.com/LandSandBoat/server/pull/1319#pullrequestreview-896271345', 'pull_request_url': 'https://api.github.com/repos/LandSandBoat/server/pulls/1319', 'author_association': 'CONTRIBUTOR', '_links': {'html': {'href': 'https://github.com/LandSandBoat/server/pull/1319#pullrequestreview-896271345'}, 'pull_request': {'href': 'https://api.github.com/repos/LandSandBoat/server/pulls/1319'}}}, 'pull_request': {'url': 'https://api.github.com/repos/LandSandBoat/server/pulls/1319', 'id': 861854045, 'node_id': 'PR_kwDOFRXk_84zXtld', 'html_url': 'https://github.com/LandSandBoat/server/pull/1319', 'diff_url': 'https://github.com/LandSandBoat/server/pull/1319.diff', 'patch_url': 'https://github.com/LandSandBoat/server/pull/1319.patch', 'issue_url': 'https://api.github.com/repos/LandSandBoat/server/issues/1319', 'number': 1319, 'state': 'open', 'locked': False, 'title': '[Magic] Spell damage documentation and fixes', 'user': {'login': 'Xaver-DaRed', 'id': 60053999, 'node_id': 'MDQ6VXNlcjYwMDUzOTk5', 'avatar_url': 'https://avatars.githubusercontent.com/u/60053999?v=4', 'gravatar_id': '', 'url': 'https://api.github.com/users/Xaver-DaRed', 'html_url': 'https://github.com/Xaver-DaRed', 'followers_url': 'https://api.github.com/users/Xaver-DaRed/followers', 'following_url': 'https://api.github.com/users/Xaver-DaRed/following{/other_user}', 'gists_url': 'https://api.github.com/users/Xaver-DaRed/gists{/gist_id}', 'starred_url': 'https://api.github.com/users/Xaver-DaRed/starred{/owner}{/repo}', 'subscriptions_url': 'https://api.github.com/users/Xaver-DaRed/subscriptions', 'organizations_url': 'https://api.github.com/users/Xaver-DaRed/orgs', 'repos_url': 'https://api.github.com/users/Xaver-DaRed/repos', 'events_url': 'https://api.github.com/users/Xaver-DaRed/events{/privacy}', 'received_events_url': 'https://api.github.com/users/Xaver-DaRed/received_events', 'type': 'User', 'site_admin': False}, 'body': \"<!-- remove space and place 'x' mark between square [] brackets or click the checkbox after saving to affirm: -->\\r\\n**_I affirm:_**\\r\\n- [x] I have paid attention to this example and will edit again if need be to not break the formatting, or I will be ignored\\r\\n- [x] that I agree to LandSandBoat's [Limited Contributor License Agreement](https://github.com/LandSandBoat/server/blob/base/.github/CONTRIBUTOR_AGREEMENT.md), as written on this date\\r\\n- [x] that I have **read the [Contributing Guide](https://github.com/LandSandBoat/server/blob/base/CONTRIBUTING.md)**\\r\\n- [x] that I've _**tested my code and things my code changed**_ since the last commit in the PR, and will test after any later commits\\r\\n\\r\\nChanges:\\r\\n- Fixes a problem with magic dmg taken modifiers being wrongly handled and MDB being handled 2 times in different places.\\r\\n- Documents how SDT values are being handled in database, core and here. SDT conversion fixed for new database values.\\r\\n- Failed to lower cyclomatic complexity, so that change was reverted. For now, I believe it is more important that this process is streamlined and easy to follow.\", 'created_at': '2022-02-23T21:37:59Z', 'updated_at': '2022-03-01T13:02:16Z', 'closed_at': None, 'merged_at': None, 'merge_commit_sha': '1cdee4c940e9dc333bbd160c389c3d509258b894', 'assignee': None, 'assignees': [], 'requested_reviewers': [], 'requested_teams': [], 'labels': [], 'milestone': None, 'draft': False, 'commits_url': 'https://api.github.com/repos/LandSandBoat/server/pulls/1319/commits', 'review_comments_url': 'https://api.github.com/repos/LandSandBoat/server/pulls/1319/comments', 'review_comment_url': 'https://api.github.com/repos/LandSandBoat/server/pulls/comments{/number}', 'comments_url': 'https://api.github.com/repos/LandSandBoat/server/issues/1319/comments', 'statuses_url': 'https://api.github.com/repos/LandSandBoat/server/statuses/25fac64234a6ea74fead5cfa4e2430f676066abd', 'head': {'label': 'Xaver-DaRed:Fix/NukeCorrections', 'ref': 'Fix/NukeCorrections', 'sha': '25fac64234a6ea74fead5cfa4e2430f676066abd', 'user': {'login': 'Xaver-DaRed', 'id': 60053999, 'node_id': 'MDQ6VXNlcjYwMDUzOTk5', 'avatar_url': 'https://avatars.githubusercontent.com/u/60053999?v=4', 'gravatar_id': '', 'url': 'https://api.github.com/users/Xaver-DaRed', 'html_url': 'https://github.com/Xaver-DaRed', 'followers_url': 'https://api.github.com/users/Xaver-DaRed/followers', 'following_url': 'https://api.github.com/users/Xaver-DaRed/following{/other_user}', 'gists_url': 'https://api.github.com/users/Xaver-DaRed/gists{/gist_id}', 'starred_url': 'https://api.github.com/users/Xaver-DaRed/starred{/owner}{/repo}', 'subscriptions_url': 'https://api.github.com/users/Xaver-DaRed/subscriptions', 'organizations_url': 'https://api.github.com/users/Xaver-DaRed/orgs', 'repos_url': 'https://api.github.com/users/Xaver-DaRed/repos', 'events_url': 'https://api.github.com/users/Xaver-DaRed/events{/privacy}', 'received_events_url': 'https://api.github.com/users/Xaver-DaRed/received_events', 'type': 'User', 'site_admin': False}, 'repo': {'id': 367681641, 'node_id': 'MDEwOlJlcG9zaXRvcnkzNjc2ODE2NDE=', 'name': 'server', 'full_name': 'Xaver-DaRed/server', 'private': False, 'owner': {'login': 'Xaver-DaRed', 'id': 60053999, 'node_id': 'MDQ6VXNlcjYwMDUzOTk5', 'avatar_url': 'https://avatars.githubusercontent.com/u/60053999?v=4', 'gravatar_id': '', 'url': 'https://api.github.com/users/Xaver-DaRed', 'html_url': 'https://github.com/Xaver-DaRed', 'followers_url': 'https://api.github.com/users/Xaver-DaRed/followers', 'following_url': 'https://api.github.com/users/Xaver-DaRed/following{/other_user}', 'gists_url': 'https://api.github.com/users/Xaver-DaRed/gists{/gist_id}', 'starred_url': 'https://api.github.com/users/Xaver-DaRed/starred{/owner}{/repo}', 'subscriptions_url': 'https://api.github.com/users/Xaver-DaRed/subscriptions', 'organizations_url': 'https://api.github.com/users/Xaver-DaRed/orgs', 'repos_url': 'https://api.github.com/users/Xaver-DaRed/repos', 'events_url': 'https://api.github.com/users/Xaver-DaRed/events{/privacy}', 'received_events_url': 'https://api.github.com/users/Xaver-DaRed/received_events', 'type': 'User', 'site_admin': False}, 'html_url': 'https://github.com/Xaver-DaRed/server', 'description': \"It's a feature.\", 'fork': True, 'url': 'https://api.github.com/repos/Xaver-DaRed/server', 'forks_url': 'https://api.github.com/repos/Xaver-DaRed/server/forks', 'keys_url': 'https://api.github.com/repos/Xaver-DaRed/server/keys{/key_id}', 'collaborators_url': 'https://api.github.com/repos/Xaver-DaRed/server/collaborators{/collaborator}', 'teams_url': 'https://api.github.com/repos/Xaver-DaRed/server/teams', 'hooks_url': 'https://api.github.com/repos/Xaver-DaRed/server/hooks', 'issue_events_url': 'https://api.github.com/repos/Xaver-DaRed/server/issues/events{/number}', 'events_url': 'https://api.github.com/repos/Xaver-DaRed/server/events', 'assignees_url': 'https://api.github.com/repos/Xaver-DaRed/server/assignees{/user}', 'branches_url': 'https://api.github.com/repos/Xaver-DaRed/server/branches{/branch}', 'tags_url': 'https://api.github.com/repos/Xaver-DaRed/server/tags', 'blobs_url': 'https://api.github.com/repos/Xaver-DaRed/server/git/blobs{/sha}', 'git_tags_url': 'https://api.github.com/repos/Xaver-DaRed/server/git/tags{/sha}', 'git_refs_url': 'https://api.github.com/repos/Xaver-DaRed/server/git/refs{/sha}', 'trees_url': 'https://api.github.com/repos/Xaver-DaRed/server/git/trees{/sha}', 'statuses_url': 'https://api.github.com/repos/Xaver-DaRed/server/statuses/{sha}', 'languages_url': 'https://api.github.com/repos/Xaver-DaRed/server/languages', 'stargazers_url': 'https://api.github.com/repos/Xaver-DaRed/server/stargazers', 'contributors_url': 'https://api.github.com/repos/Xaver-DaRed/server/contributors', 'subscribers_url': 'https://api.github.com/repos/Xaver-DaRed/server/subscribers', 'subscription_url': 'https://api.github.com/repos/Xaver-DaRed/server/subscription', 'commits_url': 'https://api.github.com/repos/Xaver-DaRed/server/commits{/sha}', 'git_commits_url': 'https://api.github.com/repos/Xaver-DaRed/server/git/commits{/sha}', 'comments_url': 'https://api.github.com/repos/Xaver-DaRed/server/comments{/number}', 'issue_comment_url': 'https://api.github.com/repos/Xaver-DaRed/server/issues/comments{/number}', 'contents_url': 'https://api.github.com/repos/Xaver-DaRed/server/contents/{+path}', 'compare_url': 'https://api.github.com/repos/Xaver-DaRed/server/compare/{base}...{head}', 'merges_url': 'https://api.github.com/repos/Xaver-DaRed/server/merges', 'archive_url': 'https://api.github.com/repos/Xaver-DaRed/server/{archive_format}{/ref}', 'downloads_url': 'https://api.github.com/repos/Xaver-DaRed/server/downloads', 'issues_url': 'https://api.github.com/repos/Xaver-DaRed/server/issues{/number}', 'pulls_url': 'https://api.github.com/repos/Xaver-DaRed/server/pulls{/number}', 'milestones_url': 'https://api.github.com/repos/Xaver-DaRed/server/milestones{/number}', 'notifications_url': 'https://api.github.com/repos/Xaver-DaRed/server/notifications{?since,all,participating}', 'labels_url': 'https://api.github.com/repos/Xaver-DaRed/server/labels{/name}', 'releases_url': 'https://api.github.com/repos/Xaver-DaRed/server/releases{/id}', 'deployments_url': 'https://api.github.com/repos/Xaver-DaRed/server/deployments', 'created_at': '2021-05-15T16:37:37Z', 'updated_at': '2021-12-20T18:45:09Z', 'pushed_at': '2022-03-01T12:26:22Z', 'git_url': 'git://github.com/Xaver-DaRed/server.git', 'ssh_url': 'git@github.com:Xaver-DaRed/server.git', 'clone_url': 'https://github.com/Xaver-DaRed/server.git', 'svn_url': 'https://github.com/Xaver-DaRed/server', 'homepage': '', 'size': 333677, 'stargazers_count': 0, 'watchers_count': 0, 'language': 'Lua', 'has_issues': False, 'has_projects': True, 'has_downloads': True, 'has_wiki': True, 'has_pages': False, 'forks_count': 0, 'mirror_url': None, 'archived': False, 'disabled': False, 'open_issues_count': 1, 'license': {'key': 'gpl-3.0', 'name': 'GNU General Public License v3.0', 'spdx_id': 'GPL-3.0', 'url': 'https://api.github.com/licenses/gpl-3.0', 'node_id': 'MDc6TGljZW5zZTk='}, 'allow_forking': True, 'is_template': False, 'topics': [], 'visibility': 'public', 'forks': 0, 'open_issues': 1, 'watchers': 0, 'default_branch': 'base'}}, 'base': {'label': 'LandSandBoat:base', 'ref': 'base', 'sha': 'b142a2304da2044ec8681d11ffc7f4b78d342d6d', 'user': {'login': 'LandSandBoat', 'id': 18022129, 'node_id': 'MDEyOk9yZ2FuaXphdGlvbjE4MDIyMTI5', 'avatar_url': 'https://avatars.githubusercontent.com/u/18022129?v=4', 'gravatar_id': '', 'url': 'https://api.github.com/users/LandSandBoat', 'html_url': 'https://github.com/LandSandBoat', 'followers_url': 'https://api.github.com/users/LandSandBoat/followers', 'following_url': 'https://api.github.com/users/LandSandBoat/following{/other_user}', 'gists_url': 'https://api.github.com/users/LandSandBoat/gists{/gist_id}', 'starred_url': 'https://api.github.com/users/LandSandBoat/starred{/owner}{/repo}', 'subscriptions_url': 'https://api.github.com/users/LandSandBoat/subscriptions', 'organizations_url': 'https://api.github.com/users/LandSandBoat/orgs', 'repos_url': 'https://api.github.com/users/LandSandBoat/repos', 'events_url': 'https://api.github.com/users/LandSandBoat/events{/privacy}', 'received_events_url': 'https://api.github.com/users/LandSandBoat/received_events', 'type': 'Organization', 'site_admin': False}, 'repo': {'id': 353756415, 'node_id': 'MDEwOlJlcG9zaXRvcnkzNTM3NTY0MTU=', 'name': 'server', 'full_name': 'LandSandBoat/server', 'private': False, 'owner': {'login': 'LandSandBoat', 'id': 18022129, 'node_id': 'MDEyOk9yZ2FuaXphdGlvbjE4MDIyMTI5', 'avatar_url': 'https://avatars.githubusercontent.com/u/18022129?v=4', 'gravatar_id': '', 'url': 'https://api.github.com/users/LandSandBoat', 'html_url': 'https://github.com/LandSandBoat', 'followers_url': 'https://api.github.com/users/LandSandBoat/followers', 'following_url': 'https://api.github.com/users/LandSandBoat/following{/other_user}', 'gists_url': 'https://api.github.com/users/LandSandBoat/gists{/gist_id}', 'starred_url': 'https://api.github.com/users/LandSandBoat/starred{/owner}{/repo}', 'subscriptions_url': 'https://api.github.com/users/LandSandBoat/subscriptions', 'organizations_url': 'https://api.github.com/users/LandSandBoat/orgs', 'repos_url': 'https://api.github.com/users/LandSandBoat/repos', 'events_url': 'https://api.github.com/users/LandSandBoat/events{/privacy}', 'received_events_url': 'https://api.github.com/users/LandSandBoat/received_events', 'type': 'Organization', 'site_admin': False}, 'html_url': 'https://github.com/LandSandBoat/server', 'description': ':sailboat: LandSandBoat - a server emulator for Final Fantasy XI. Just an X-34 landspeeder out for a drive.', 'fork': False, 'url': 'https://api.github.com/repos/LandSandBoat/server', 'forks_url': 'https://api.github.com/repos/LandSandBoat/server/forks', 'keys_url': 'https://api.github.com/repos/LandSandBoat/server/keys{/key_id}', 'collaborators_url': 'https://api.github.com/repos/LandSandBoat/server/collaborators{/collaborator}', 'teams_url': 'https://api.github.com/repos/LandSandBoat/server/teams', 'hooks_url': 'https://api.github.com/repos/LandSandBoat/server/hooks', 'issue_events_url': 'https://api.github.com/repos/LandSandBoat/server/issues/events{/number}', 'events_url': 'https://api.github.com/repos/LandSandBoat/server/events', 'assignees_url': 'https://api.github.com/repos/LandSandBoat/server/assignees{/user}', 'branches_url': 'https://api.github.com/repos/LandSandBoat/server/branches{/branch}', 'tags_url': 'https://api.github.com/repos/LandSandBoat/server/tags', 'blobs_url': 'https://api.github.com/repos/LandSandBoat/server/git/blobs{/sha}', 'git_tags_url': 'https://api.github.com/repos/LandSandBoat/server/git/tags{/sha}', 'git_refs_url': 'https://api.github.com/repos/LandSandBoat/server/git/refs{/sha}', 'trees_url': 'https://api.github.com/repos/LandSandBoat/server/git/trees{/sha}', 'statuses_url': 'https://api.github.com/repos/LandSandBoat/server/statuses/{sha}', 'languages_url': 'https://api.github.com/repos/LandSandBoat/server/languages', 'stargazers_url': 'https://api.github.com/repos/LandSandBoat/server/stargazers', 'contributors_url': 'https://api.github.com/repos/LandSandBoat/server/contributors', 'subscribers_url': 'https://api.github.com/repos/LandSandBoat/server/subscribers', 'subscription_url': 'https://api.github.com/repos/LandSandBoat/server/subscription', 'commits_url': 'https://api.github.com/repos/LandSandBoat/server/commits{/sha}', 'git_commits_url': 'https://api.github.com/repos/LandSandBoat/server/git/commits{/sha}', 'comments_url': 'https://api.github.com/repos/LandSandBoat/server/comments{/number}', 'issue_comment_url': 'https://api.github.com/repos/LandSandBoat/server/issues/comments{/number}', 'contents_url': 'https://api.github.com/repos/LandSandBoat/server/contents/{+path}', 'compare_url': 'https://api.github.com/repos/LandSandBoat/server/compare/{base}...{head}', 'merges_url': 'https://api.github.com/repos/LandSandBoat/server/merges', 'archive_url': 'https://api.github.com/repos/LandSandBoat/server/{archive_format}{/ref}', 'downloads_url': 'https://api.github.com/repos/LandSandBoat/server/downloads', 'issues_url': 'https://api.github.com/repos/LandSandBoat/server/issues{/number}', 'pulls_url': 'https://api.github.com/repos/LandSandBoat/server/pulls{/number}', 'milestones_url': 'https://api.github.com/repos/LandSandBoat/server/milestones{/number}', 'notifications_url': 'https://api.github.com/repos/LandSandBoat/server/notifications{?since,all,participating}', 'labels_url': 'https://api.github.com/repos/LandSandBoat/server/labels{/name}', 'releases_url': 'https://api.github.com/repos/LandSandBoat/server/releases{/id}', 'deployments_url': 'https://api.github.com/repos/LandSandBoat/server/deployments', 'created_at': '2021-04-01T16:10:07Z', 'updated_at': '2022-02-25T18:31:28Z', 'pushed_at': '2022-03-01T12:44:12Z', 'git_url': 'git://github.com/LandSandBoat/server.git', 'ssh_url': 'git@github.com:LandSandBoat/server.git', 'clone_url': 'https://github.com/LandSandBoat/server.git', 'svn_url': 'https://github.com/LandSandBoat/server', 'homepage': 'https://landsandboat.github.io/server/', 'size': 343373, 'stargazers_count': 86, 'watchers_count': 86, 'language': 'Lua', 'has_issues': True, 'has_projects': True, 'has_downloads': True, 'has_wiki': True, 'has_pages': True, 'forks_count': 117, 'mirror_url': None, 'archived': False, 'disabled': False, 'open_issues_count': 333, 'license': {'key': 'gpl-3.0', 'name': 'GNU General Public License v3.0', 'spdx_id': 'GPL-3.0', 'url': 'https://api.github.com/licenses/gpl-3.0', 'node_id': 'MDc6TGljZW5zZTk='}, 'allow_forking': True, 'is_template': False, 'topics': ['c-plus-plus', 'emulator', 'ffxi', 'final-fantasy', 'final-fantasy-xi', 'lua', 'mmorpg', 'mmorpg-server', 'server-emulator'], 'visibility': 'public', 'forks': 117, 'open_issues': 333, 'watchers': 86, 'default_branch': 'base'}}, '_links': {'self': {'href': 'https://api.github.com/repos/LandSandBoat/server/pulls/1319'}, 'html': {'href': 'https://github.com/LandSandBoat/server/pull/1319'}, 'issue': {'href': 'https://api.github.com/repos/LandSandBoat/server/issues/1319'}, 'comments': {'href': 'https://api.github.com/repos/LandSandBoat/server/issues/1319/comments'}, 'review_comments': {'href': 'https://api.github.com/repos/LandSandBoat/server/pulls/1319/comments'}, 'review_comment': {'href': 'https://api.github.com/repos/LandSandBoat/server/pulls/comments{/number}'}, 'commits': {'href': 'https://api.github.com/repos/LandSandBoat/server/pulls/1319/commits'}, 'statuses': {'href': 'https://api.github.com/repos/LandSandBoat/server/statuses/25fac64234a6ea74fead5cfa4e2430f676066abd'}}, 'author_association': 'CONTRIBUTOR', 'auto_merge': None, 'active_lock_reason': None}}, 'public': True, 'created_at': '2022-03-01T13:02:16Z', 'org': {'id': 18022129, 'login': 'LandSandBoat', 'gravatar_id': '', 'url': 'https://api.github.com/orgs/LandSandBoat', 'avatar_url': 'https://avatars.githubusercontent.com/u/18022129?'}}, {'id': '20517176872', 'type': 'ReleaseEvent', 'actor': {'id': 10512062, 'login': 'stefan-vlad', 'display_login': 'stefan-vlad', 'gravatar_id': '', 'url': 'https://api.github.com/users/stefan-vlad', 'avatar_url': 'https://avatars.githubusercontent.com/u/10512062?'}, 'repo': {'id': 464878568, 'name': 'stefan-vlad/test-avr-dd', 'url': 'https://api.github.com/repos/stefan-vlad/test-avr-dd'}, 'payload': {'action': 'published', 'release': {'url': 'https://api.github.com/repos/stefan-vlad/test-avr-dd/releases/60703214', 'assets_url': 'https://api.github.com/repos/stefan-vlad/test-avr-dd/releases/60703214/assets', 'upload_url': 'https://uploads.github.com/repos/stefan-vlad/test-avr-dd/releases/60703214/assets{?name,label}', 'html_url': 'https://github.com/stefan-vlad/test-avr-dd/releases/tag/1.0.1', 'id': 60703214, 'author': {'login': 'stefan-vlad', 'id': 10512062, 'node_id': 'MDQ6VXNlcjEwNTEyMDYy', 'avatar_url': 'https://avatars.githubusercontent.com/u/10512062?v=4', 'gravatar_id': '', 'url': 'https://api.github.com/users/stefan-vlad', 'html_url': 'https://github.com/stefan-vlad', 'followers_url': 'https://api.github.com/users/stefan-vlad/followers', 'following_url': 'https://api.github.com/users/stefan-vlad/following{/other_user}', 'gists_url': 'https://api.github.com/users/stefan-vlad/gists{/gist_id}', 'starred_url': 'https://api.github.com/users/stefan-vlad/starred{/owner}{/repo}', 'subscriptions_url': 'https://api.github.com/users/stefan-vlad/subscriptions', 'organizations_url': 'https://api.github.com/users/stefan-vlad/orgs', 'repos_url': 'https://api.github.com/users/stefan-vlad/repos', 'events_url': 'https://api.github.com/users/stefan-vlad/events{/privacy}', 'received_events_url': 'https://api.github.com/users/stefan-vlad/received_events', 'type': 'User', 'site_admin': False}, 'node_id': 'RE_kwDOG7V76M4DnkHu', 'tag_name': '1.0.1', 'target_commitish': 'main', 'name': 'test-avr-dd-v2', 'draft': False, 'prerelease': False, 'created_at': '2022-03-01T12:55:25Z', 'published_at': '2022-03-01T13:02:16Z', 'assets': [], 'tarball_url': 'https://api.github.com/repos/stefan-vlad/test-avr-dd/tarball/1.0.1', 'zipball_url': 'https://api.github.com/repos/stefan-vlad/test-avr-dd/zipball/1.0.1', 'body': '', 'short_description_html': '', 'is_short_description_html_truncated': False}}, 'public': True, 'created_at': '2022-03-01T13:02:16Z'}, {'id': '20517176868', 'type': 'PushEvent', 'actor': {'id': 65212910, 'login': 'Hall-1910', 'display_login': 'Hall-1910', 'gravatar_id': '', 'url': 'https://api.github.com/users/Hall-1910', 'avatar_url': 'https://avatars.githubusercontent.com/u/65212910?'}, 'repo': {'id': 222505696, 'name': 'brand22/d3', 'url': 'https://api.github.com/repos/brand22/d3'}, 'payload': {'push_id': 9232968450, 'size': 1, 'distinct_size': 1, 'ref': 'refs/heads/master', 'head': '16b2b4f6b72638f8ebd4ab3242dc1dee729b3b98', 'before': '95a89a2d3ae9699f40348e4db1597422fdd4149f', 'commits': [{'sha': '16b2b4f6b72638f8ebd4ab3242dc1dee729b3b98', 'author': {'email': '65212910+Hall-1910@users.noreply.github.com', 'name': 'Hall-1910'}, 'message': 'm', 'distinct': True, 'url': 'https://api.github.com/repos/brand22/d3/commits/16b2b4f6b72638f8ebd4ab3242dc1dee729b3b98'}]}, 'public': True, 'created_at': '2022-03-01T13:02:16Z'}, {'id': '20517176886', 'type': 'CreateEvent', 'actor': {'id': 60106527, 'login': 'arcanom', 'display_login': 'arcanom', 'gravatar_id': '', 'url': 'https://api.github.com/users/arcanom', 'avatar_url': 'https://avatars.githubusercontent.com/u/60106527?'}, 'repo': {'id': 464895301, 'name': 'arcanom/leparadisdesnouilles', 'url': 'https://api.github.com/repos/arcanom/leparadisdesnouilles'}, 'payload': {'ref': None, 'ref_type': 'repository', 'master_branch': 'main', 'description': None, 'pusher_type': 'user'}, 'public': True, 'created_at': '2022-03-01T13:02:16Z'}, {'id': '20517176883', 'type': 'PushEvent', 'actor': {'id': 19253721, 'login': 'pmamico', 'display_login': 'pmamico', 'gravatar_id': '', 'url': 'https://api.github.com/users/pmamico', 'avatar_url': 'https://avatars.githubusercontent.com/u/19253721?'}, 'repo': {'id': 464895215, 'name': 'pmamico/contribution-clock-engine', 'url': 'https://api.github.com/repos/pmamico/contribution-clock-engine'}, 'payload': {'push_id': 9232968453, 'size': 103, 'distinct_size': 103, 'ref': 'refs/heads/master', 'head': '1ecff3fd3dd9ae379d1632f11567690ac07670f7', 'before': '95e596a3a128ee4edf14c16d4e6fe842864f61b6', 'commits': [{'sha': 'b8847410fe7c4d739c867b011dd910315dce3f51', 'author': {'email': 'papp.mico@gmail.com', 'name': 'root'}, 'message': '_', 'distinct': True, 'url': 'https://api.github.com/repos/pmamico/contribution-clock-engine/commits/b8847410fe7c4d739c867b011dd910315dce3f51'}, {'sha': 'b073b129e380e1ca7c119151957828cf892370bb', 'author': {'email': 'papp.mico@gmail.com', 'name': 'root'}, 'message': '_', 'distinct': True, 'url': 'https://api.github.com/repos/pmamico/contribution-clock-engine/commits/b073b129e380e1ca7c119151957828cf892370bb'}, {'sha': '2db15d77aa02c6217629cc2bc28fc9df46f82ab5', 'author': {'email': 'papp.mico@gmail.com', 'name': 'root'}, 'message': '_', 'distinct': True, 'url': 'https://api.github.com/repos/pmamico/contribution-clock-engine/commits/2db15d77aa02c6217629cc2bc28fc9df46f82ab5'}, {'sha': '074a9a0f671b35ad64875d6bf24a102006526f90', 'author': {'email': 'papp.mico@gmail.com', 'name': 'root'}, 'message': '_', 'distinct': True, 'url': 'https://api.github.com/repos/pmamico/contribution-clock-engine/commits/074a9a0f671b35ad64875d6bf24a102006526f90'}, {'sha': 'f53f9058c36ae86f9e58b7e311505cd08e7b153f', 'author': {'email': 'papp.mico@gmail.com', 'name': 'root'}, 'message': '_', 'distinct': True, 'url': 'https://api.github.com/repos/pmamico/contribution-clock-engine/commits/f53f9058c36ae86f9e58b7e311505cd08e7b153f'}, {'sha': '517bb27fa5797814a699629fdfebc2c93cfab097', 'author': {'email': 'papp.mico@gmail.com', 'name': 'root'}, 'message': '_', 'distinct': True, 'url': 'https://api.github.com/repos/pmamico/contribution-clock-engine/commits/517bb27fa5797814a699629fdfebc2c93cfab097'}, {'sha': '7e97244476f42ab3de1ed6826616d75c797d1e00', 'author': {'email': 'papp.mico@gmail.com', 'name': 'root'}, 'message': '_', 'distinct': True, 'url': 'https://api.github.com/repos/pmamico/contribution-clock-engine/commits/7e97244476f42ab3de1ed6826616d75c797d1e00'}, {'sha': '9e5a3ad2792ae49b3f690c75750e51c41154c0f9', 'author': {'email': 'papp.mico@gmail.com', 'name': 'root'}, 'message': '_', 'distinct': True, 'url': 'https://api.github.com/repos/pmamico/contribution-clock-engine/commits/9e5a3ad2792ae49b3f690c75750e51c41154c0f9'}, {'sha': 'cf48d76331976b038c9094c949411c5064675b85', 'author': {'email': 'papp.mico@gmail.com', 'name': 'root'}, 'message': '_', 'distinct': True, 'url': 'https://api.github.com/repos/pmamico/contribution-clock-engine/commits/cf48d76331976b038c9094c949411c5064675b85'}, {'sha': 'cab4d8ed052ae205c962243566d3ad16403beacd', 'author': {'email': 'papp.mico@gmail.com', 'name': 'root'}, 'message': '_', 'distinct': True, 'url': 'https://api.github.com/repos/pmamico/contribution-clock-engine/commits/cab4d8ed052ae205c962243566d3ad16403beacd'}, {'sha': 'b7b9449306060090c1324f3454f672779918a866', 'author': {'email': 'papp.mico@gmail.com', 'name': 'root'}, 'message': '_', 'distinct': True, 'url': 'https://api.github.com/repos/pmamico/contribution-clock-engine/commits/b7b9449306060090c1324f3454f672779918a866'}, {'sha': 'b84cad5a9e58a12353b8f91e5edad1be88a7d696', 'author': {'email': 'papp.mico@gmail.com', 'name': 'root'}, 'message': '_', 'distinct': True, 'url': 'https://api.github.com/repos/pmamico/contribution-clock-engine/commits/b84cad5a9e58a12353b8f91e5edad1be88a7d696'}, {'sha': '26c402db841009ce4c45d100a68917f337762e6b', 'author': {'email': 'papp.mico@gmail.com', 'name': 'root'}, 'message': '_', 'distinct': True, 'url': 'https://api.github.com/repos/pmamico/contribution-clock-engine/commits/26c402db841009ce4c45d100a68917f337762e6b'}, {'sha': '7142289bb74453ac814f9bd760c232e4542ebee4', 'author': {'email': 'papp.mico@gmail.com', 'name': 'root'}, 'message': '_', 'distinct': True, 'url': 'https://api.github.com/repos/pmamico/contribution-clock-engine/commits/7142289bb74453ac814f9bd760c232e4542ebee4'}, {'sha': '6d40b5b542bad8be71ea70cc11fac42c71ce622a', 'author': {'email': 'papp.mico@gmail.com', 'name': 'root'}, 'message': '_', 'distinct': True, 'url': 'https://api.github.com/repos/pmamico/contribution-clock-engine/commits/6d40b5b542bad8be71ea70cc11fac42c71ce622a'}, {'sha': '55b5ef442495929159a5a22811add98011114cca', 'author': {'email': 'papp.mico@gmail.com', 'name': 'root'}, 'message': '_', 'distinct': True, 'url': 'https://api.github.com/repos/pmamico/contribution-clock-engine/commits/55b5ef442495929159a5a22811add98011114cca'}, {'sha': '0c23bc1ab4e299b2b0a42f625e4f283d9a2f300d', 'author': {'email': 'papp.mico@gmail.com', 'name': 'root'}, 'message': '_', 'distinct': True, 'url': 'https://api.github.com/repos/pmamico/contribution-clock-engine/commits/0c23bc1ab4e299b2b0a42f625e4f283d9a2f300d'}, {'sha': '2c592228fd995cb2ad40b8ead954acbe2aa930b5', 'author': {'email': 'papp.mico@gmail.com', 'name': 'root'}, 'message': '_', 'distinct': True, 'url': 'https://api.github.com/repos/pmamico/contribution-clock-engine/commits/2c592228fd995cb2ad40b8ead954acbe2aa930b5'}, {'sha': '5b63102e808dd3e85722cfe372f993b082e0133e', 'author': {'email': 'papp.mico@gmail.com', 'name': 'root'}, 'message': '_', 'distinct': True, 'url': 'https://api.github.com/repos/pmamico/contribution-clock-engine/commits/5b63102e808dd3e85722cfe372f993b082e0133e'}, {'sha': '601cc496047409049d42ba40ec48453d7fc63bd3', 'author': {'email': 'papp.mico@gmail.com', 'name': 'root'}, 'message': '_', 'distinct': True, 'url': 'https://api.github.com/repos/pmamico/contribution-clock-engine/commits/601cc496047409049d42ba40ec48453d7fc63bd3'}]}, 'public': True, 'created_at': '2022-03-01T13:02:16Z'}, {'id': '20517176869', 'type': 'DeleteEvent', 'actor': {'id': 38925771, 'login': 'cepekLP', 'display_login': 'cepekLP', 'gravatar_id': '', 'url': 'https://api.github.com/users/cepekLP', 'avatar_url': 'https://avatars.githubusercontent.com/u/38925771?'}, 'repo': {'id': 423589925, 'name': 'patwitt/PGRacingElectronics', 'url': 'https://api.github.com/repos/patwitt/PGRacingElectronics'}, 'payload': {'ref': 'Dashboard', 'ref_type': 'branch', 'pusher_type': 'user'}, 'public': True, 'created_at': '2022-03-01T13:02:16Z'}, {'id': '20517176857', 'type': 'PushEvent', 'actor': {'id': 86429443, 'login': 'RemixFX', 'display_login': 'RemixFX', 'gravatar_id': '', 'url': 'https://api.github.com/users/RemixFX', 'avatar_url': 'https://avatars.githubusercontent.com/u/86429443?'}, 'repo': {'id': 461818948, 'name': 'RemixFX/movies-explorer-api', 'url': 'https://api.github.com/repos/RemixFX/movies-explorer-api'}, 'payload': {'push_id': 9232968463, 'size': 1, 'distinct_size': 1, 'ref': 'refs/heads/level-1', 'head': '94495194de54000406e3e32bd4dcf82e7ffe8a1c', 'before': 'dcd82dfecf6b47f214669027b57019480c91d720', 'commits': [{'sha': '94495194de54000406e3e32bd4dcf82e7ffe8a1c', 'author': {'email': 'remix.master@yandex.ru', 'name': 'RemixFX'}, 'message': 'refactor: add validation file', 'distinct': True, 'url': 'https://api.github.com/repos/RemixFX/movies-explorer-api/commits/94495194de54000406e3e32bd4dcf82e7ffe8a1c'}]}, 'public': True, 'created_at': '2022-03-01T13:02:16Z'}, {'id': '20517176890', 'type': 'PushEvent', 'actor': {'id': 81416115, 'login': 'liloulpz', 'display_login': 'liloulpz', 'gravatar_id': '', 'url': 'https://api.github.com/users/liloulpz', 'avatar_url': 'https://avatars.githubusercontent.com/u/81416115?'}, 'repo': {'id': 459212617, 'name': 'pey040/BlogArt-B07', 'url': 'https://api.github.com/repos/pey040/BlogArt-B07'}, 'payload': {'push_id': 9232968468, 'size': 1, 'distinct_size': 1, 'ref': 'refs/heads/master', 'head': '1154fc13e15d129c413eca9d3650babc787441ec', 'before': '4ac8b1cf0d7eab7460769e4f08616cf6e2cf9157', 'commits': [{'sha': '1154fc13e15d129c413eca9d3650babc787441ec', 'author': {'email': 'lilou.lopezguilloret@gmail.com', 'name': 'liloulpz'}, 'message': 'ajout du popup pour les cookies', 'distinct': True, 'url': 'https://api.github.com/repos/pey040/BlogArt-B07/commits/1154fc13e15d129c413eca9d3650babc787441ec'}]}, 'public': True, 'created_at': '2022-03-01T13:02:16Z'}, {'id': '20517176863', 'type': 'CreateEvent', 'actor': {'id': 49699333, 'login': 'dependabot[bot]', 'display_login': 'dependabot', 'gravatar_id': '', 'url': 'https://api.github.com/users/dependabot[bot]', 'avatar_url': 'https://avatars.githubusercontent.com/u/49699333?'}, 'repo': {'id': 95970824, 'name': 'FullHuman/purgecss', 'url': 'https://api.github.com/repos/FullHuman/purgecss'}, 'payload': {'ref': 'dependabot/npm_and_yarn/eslint-8.10.0', 'ref_type': 'branch', 'master_branch': 'main', 'description': 'Remove unused CSS', 'pusher_type': 'user'}, 'public': True, 'created_at': '2022-03-01T13:02:16Z', 'org': {'id': 28688397, 'login': 'FullHuman', 'gravatar_id': '', 'url': 'https://api.github.com/orgs/FullHuman', 'avatar_url': 'https://avatars.githubusercontent.com/u/28688397?'}}, {'id': '20517176912', 'type': 'PullRequestEvent', 'actor': {'id': 49699333, 'login': 'dependabot[bot]', 'display_login': 'dependabot', 'gravatar_id': '', 'url': 'https://api.github.com/users/dependabot[bot]', 'avatar_url': 'https://avatars.githubusercontent.com/u/49699333?'}, 'repo': {'id': 338767522, 'name': 'rjoebruch/skyportal', 'url': 'https://api.github.com/repos/rjoebruch/skyportal'}, 'payload': {'action': 'opened', 'number': 114, 'pull_request': {'url': 'https://api.github.com/repos/rjoebruch/skyportal/pulls/114', 'id': 867843032, 'node_id': 'PR_kwDOFDEuos4zujvY', 'html_url': 'https://github.com/rjoebruch/skyportal/pull/114', 'diff_url': 'https://github.com/rjoebruch/skyportal/pull/114.diff', 'patch_url': 'https://github.com/rjoebruch/skyportal/pull/114.patch', 'issue_url': 'https://api.github.com/repos/rjoebruch/skyportal/issues/114', 'number': 114, 'state': 'open', 'locked': False, 'title': 'Bump responses from 0.13.3 to 0.18.0', 'user': {'login': 'dependabot[bot]', 'id': 49699333, 'node_id': 'MDM6Qm90NDk2OTkzMzM=', 'avatar_url': 'https://avatars.githubusercontent.com/in/29110?v=4', 'gravatar_id': '', 'url': 'https://api.github.com/users/dependabot%5Bbot%5D', 'html_url': 'https://github.com/apps/dependabot', 'followers_url': 'https://api.github.com/users/dependabot%5Bbot%5D/followers', 'following_url': 'https://api.github.com/users/dependabot%5Bbot%5D/following{/other_user}', 'gists_url': 'https://api.github.com/users/dependabot%5Bbot%5D/gists{/gist_id}', 'starred_url': 'https://api.github.com/users/dependabot%5Bbot%5D/starred{/owner}{/repo}', 'subscriptions_url': 'https://api.github.com/users/dependabot%5Bbot%5D/subscriptions', 'organizations_url': 'https://api.github.com/users/dependabot%5Bbot%5D/orgs', 'repos_url': 'https://api.github.com/users/dependabot%5Bbot%5D/repos', 'events_url': 'https://api.github.com/users/dependabot%5Bbot%5D/events{/privacy}', 'received_events_url': 'https://api.github.com/users/dependabot%5Bbot%5D/received_events', 'type': 'Bot', 'site_admin': False}, 'body': 'Bumps [responses](https://github.com/getsentry/responses) from 0.13.3 to 0.18.0.\\n<details>\\n<summary>Release notes</summary>\\n<p><em>Sourced from <a href=\"https://github.com/getsentry/responses/releases\">responses\\'s releases</a>.</em></p>\\n<blockquote>\\n<h2>0.18.0</h2>\\n<ul>\\n<li>Dropped support of Python 2.7, 3.5, 3.6</li>\\n<li>Fixed issue with type annotation for <code>responses.activate</code> decorator. See <a href=\"https://github-redirect.dependabot.com/getsentry/responses/issues/468\">#468</a></li>\\n<li>Removed internal <code>_is_string</code> and <code>_ensure_str</code> functions</li>\\n<li>Removed internal <code>_quote</code> from <code>test_responses.py</code></li>\\n<li>Removed internal <code>_matches</code> attribute of <code>RequestsMock</code> object.</li>\\n<li>Generated decorator wrapper now uses stdlib features instead of strings and exec</li>\\n<li>Fix issue when Deprecation Warning was raised with default arguments\\nin <code>responses.add_callback</code> due to <code>match_querystring</code>. See <a href=\"https://github-redirect.dependabot.com/getsentry/responses/issues/464\">#464</a></li>\\n</ul>\\n<h2>0.17.0</h2>\\n<ul>\\n<li>This release is the last to support Python 2.7.</li>\\n<li>Fixed issue when <code>response.iter_content</code> when <code>chunk_size=None</code> entered infinite loop</li>\\n<li>Fixed issue when <code>passthru_prefixes</code> persisted across tests.\\nNow <code>add_passthru</code> is valid only within a context manager or for a single function and\\ncleared on exit</li>\\n<li>Deprecate <code>match_querystring</code> argument in <code>Response`` and </code>CallbackResponse<code>. Use </code>responses.matchers.query_param_matcher<code>or</code>responses.matchers.query_string_matcher`</li>\\n<li>Added support for non-UTF-8 bytes in <code>responses.matchers.multipart_matcher</code></li>\\n<li>Added <code>responses.registries</code>. Now user can create custom registries to\\nmanipulate the order of responses in the match algorithm\\n<code>responses.activate(registry=CustomRegistry)</code></li>\\n<li>Fixed issue with response match when requests were performed between adding responses with\\nsame URL. See Issue <a href=\"https://github-redirect.dependabot.com/getsentry/responses/issues/212\">#212</a></li>\\n</ul>\\n<h2>0.16.0</h2>\\n<ul>\\n<li>Fixed regression with <code>stream</code> parameter deprecation, requests.session() and cookie handling.</li>\\n<li>Replaced adhoc URL parsing with <code>urllib.parse</code>.</li>\\n<li>Added <code>match</code> parameter to <code>add_callback</code> method</li>\\n<li>Added <code>responses.matchers.fragment_identifier_matcher</code>. This matcher allows you\\nto match request URL fragment identifier.</li>\\n<li>Improved test coverage.</li>\\n<li>Fixed failing test in python 2.7 when <code>python-future</code> is also installed.</li>\\n</ul>\\n<h2>0.15.0</h2>\\n<ul>\\n<li>Added <code>responses.PassthroughResponse</code> and\\n<code>reponses.BaseResponse.passthrough</code>. These features make building passthrough\\nresponses more compatible with dynamcially generated response objects.</li>\\n<li>Removed the unused <code>_is_redirect()</code> function from responses internals.</li>\\n<li>Added <code>responses.matchers.request_kwargs_matcher</code>. This matcher allows you\\nto match additional request arguments like <code>stream</code>.</li>\\n<li>Added <code>responses.matchers.multipart_matcher</code>. This matcher allows you\\nto match request body and headers for <code>multipart/form-data</code> data</li>\\n<li>Added <code>responses.matchers.query_string_matcher</code>. This matcher allows you\\nto match request query string, similar to <code>responses.matchers.query_param_matcher</code>.</li>\\n<li>Added <code>responses.matchers.header_matcher()</code>. This matcher allows you to match\\nrequest headers. By default only headers supplied to <code>header_matcher()</code> are checked.\\nYou can make header matching exhaustive by passing <code>strict_match=True</code> to <code>header_matcher()</code>.</li>\\n<li>Changed all matchers output message in case of mismatch. Now message is aligned\\nbetween Python2 and Python3 versions</li>\\n</ul>\\n<!-- raw HTML omitted -->\\n</blockquote>\\n<p>... (truncated)</p>\\n</details>\\n<details>\\n<summary>Changelog</summary>\\n<p><em>Sourced from <a href=\"https://github.com/getsentry/responses/blob/master/CHANGES\">responses\\'s changelog</a>.</em></p>\\n<blockquote>\\n<h2>0.18.0</h2>\\n<ul>\\n<li>Dropped support of Python 2.7, 3.5, 3.6</li>\\n<li>Fixed issue with type annotation for <code>responses.activate</code> decorator. See <a href=\"https://github-redirect.dependabot.com/getsentry/responses/issues/468\">#468</a></li>\\n<li>Removed internal <code>_is_string</code> and <code>_ensure_str</code> functions</li>\\n<li>Removed internal <code>_quote</code> from <code>test_responses.py</code></li>\\n<li>Removed internal <code>_matches</code> attribute of <code>RequestsMock</code> object.</li>\\n<li>Generated decorator wrapper now uses stdlib features instead of strings and exec</li>\\n<li>Fix issue when Deprecation Warning was raised with default arguments\\nin <code>responses.add_callback</code> due to <code>match_querystring</code>. See <a href=\"https://github-redirect.dependabot.com/getsentry/responses/issues/464\">#464</a></li>\\n</ul>\\n<h2>0.17.0</h2>\\n<ul>\\n<li>This release is the last to support Python 2.7.</li>\\n<li>Fixed issue when <code>response.iter_content</code> when <code>chunk_size=None</code> entered infinite loop</li>\\n<li>Fixed issue when <code>passthru_prefixes</code> persisted across tests.\\nNow <code>add_passthru</code> is valid only within a context manager or for a single function and\\ncleared on exit</li>\\n<li>Deprecate <code>match_querystring</code> argument in <code>Response</code> and <code>CallbackResponse</code>.\\nUse <code>responses.matchers.query_param_matcher</code> or <code>responses.matchers.query_string_matcher</code></li>\\n<li>Added support for non-UTF-8 bytes in <code>responses.matchers.multipart_matcher</code></li>\\n<li>Added <code>responses.registries</code>. Now user can create custom registries to\\nmanipulate the order of responses in the match algorithm\\n<code>responses.activate(registry=CustomRegistry)</code></li>\\n<li>Fixed issue with response match when requests were performed between adding responses with\\nsame URL. See Issue <a href=\"https://github-redirect.dependabot.com/getsentry/responses/issues/212\">#212</a></li>\\n</ul>\\n<h2>0.16.0</h2>\\n<ul>\\n<li>Fixed regression with <code>stream</code> parameter deprecation, requests.session() and cookie handling.</li>\\n<li>Replaced adhoc URL parsing with <code>urllib.parse</code>.</li>\\n<li>Added <code>match</code> parameter to <code>add_callback</code> method</li>\\n<li>Added <code>responses.matchers.fragment_identifier_matcher</code>. This matcher allows you\\nto match request URL fragment identifier.</li>\\n<li>Improved test coverage.</li>\\n<li>Fixed failing test in python 2.7 when <code>python-future</code> is also installed.</li>\\n</ul>\\n<h2>0.15.0</h2>\\n<ul>\\n<li>Added <code>responses.PassthroughResponse</code> and\\n<code>reponses.BaseResponse.passthrough</code>. These features make building passthrough\\nresponses more compatible with dynamcially generated response objects.</li>\\n<li>Removed the unused <code>_is_redirect()</code> function from responses internals.</li>\\n<li>Added <code>responses.matchers.request_kwargs_matcher</code>. This matcher allows you\\nto match additional request arguments like <code>stream</code>.</li>\\n<li>Added <code>responses.matchers.multipart_matcher</code>. This matcher allows you</li>\\n</ul>\\n<!-- raw HTML omitted -->\\n</blockquote>\\n<p>... (truncated)</p>\\n</details>\\n<details>\\n<summary>Commits</summary>\\n<ul>\\n<li><a href=\"https://github.com/getsentry/responses/commit/18195749382f3febdb72294b65debcf89bd99706\"><code>1819574</code></a> release: 0.18.0</li>\\n<li><a href=\"https://github.com/getsentry/responses/commit/eb62b46e1a8ed2fd4c4ce51fcafbcdd6f0120d25\"><code>eb62b46</code></a> Fix RST error blocking release.</li>\\n<li><a href=\"https://github.com/getsentry/responses/commit/82de5f88ec84e8116fcb045e542372e6dbbd24d0\"><code>82de5f8</code></a> move registries types into inlines (<a href=\"https://github-redirect.dependabot.com/getsentry/responses/issues/472\">#472</a>)</li>\\n<li><a href=\"https://github.com/getsentry/responses/commit/6b70346ea6beab0a9e863373faaf1fa655746c3d\"><code>6b70346</code></a> remove parallel requests branch test (<a href=\"https://github-redirect.dependabot.com/getsentry/responses/issues/473\">#473</a>)</li>\\n<li><a href=\"https://github.com/getsentry/responses/commit/e6e6504c9723ca2de37bbcd6c848401ab857398a\"><code>e6e6504</code></a> move tests for registries to separate file (<a href=\"https://github-redirect.dependabot.com/getsentry/responses/issues/474\">#474</a>)</li>\\n<li><a href=\"https://github.com/getsentry/responses/commit/8267f3d7a9d033f2f06b12e2d0bcdef483d4a101\"><code>8267f3d</code></a> Remove universal wheel flag</li>\\n<li><a href=\"https://github.com/getsentry/responses/commit/a5523986665a1c2a840421f5b2c0ca6ea78fc8c6\"><code>a552398</code></a> Fix deprecation warning being emitted by add_callback (<a href=\"https://github-redirect.dependabot.com/getsentry/responses/issues/470\">#470</a>)</li>\\n<li><a href=\"https://github.com/getsentry/responses/commit/69b7df74bfe81a5f8e7a9cfd18978a35cb598cef\"><code>69b7df7</code></a> mbelaiev/matchers_docs (<a href=\"https://github-redirect.dependabot.com/getsentry/responses/issues/466\">#466</a>)</li>\\n<li><a href=\"https://github.com/getsentry/responses/commit/776ada5f7205565881dae59842ae8e11670799b6\"><code>776ada5</code></a> Update changes for <a href=\"https://github-redirect.dependabot.com/getsentry/responses/issues/461\">#461</a></li>\\n<li><a href=\"https://github.com/getsentry/responses/commit/721115f906e604122198ee16603b7df7a8e81c4b\"><code>721115f</code></a> significantly simplify function decorator by utilizing Python 3 built-in capa...</li>\\n<li>Additional commits viewable in <a href=\"https://github.com/getsentry/responses/compare/0.13.3...0.18.0\">compare view</a></li>\\n</ul>\\n</details>\\n<br />\\n\\n\\n[![Dependabot compatibility score](https://dependabot-badges.githubapp.com/badges/compatibility_score?dependency-name=responses&package-manager=pip&previous-version=0.13.3&new-version=0.18.0)](https://docs.github.com/en/github/managing-security-vulnerabilities/about-dependabot-security-updates#about-compatibility-scores)\\n\\nDependabot will resolve any conflicts with this PR as long as you don\\'t alter it yourself. You can also trigger a rebase manually by commenting `@dependabot rebase`.\\n\\n[//]: # (dependabot-automerge-start)\\n[//]: # (dependabot-automerge-end)\\n\\n---\\n\\n<details>\\n<summary>Dependabot commands and options</summary>\\n<br />\\n\\nYou can trigger Dependabot actions by commenting on this PR:\\n- `@dependabot rebase` will rebase this PR\\n- `@dependabot recreate` will recreate this PR, overwriting any edits that have been made to it\\n- `@dependabot merge` will merge this PR after your CI passes on it\\n- `@dependabot squash and merge` will squash and merge this PR after your CI passes on it\\n- `@dependabot cancel merge` will cancel a previously requested merge and block automerging\\n- `@dependabot reopen` will reopen this PR if it is closed\\n- `@dependabot close` will close this PR and stop Dependabot recreating it. You can achieve the same result by closing it manually\\n- `@dependabot ignore this major version` will close this PR and stop Dependabot creating any more for this major version (unless you reopen the PR or upgrade to it yourself)\\n- `@dependabot ignore this minor version` will close this PR and stop Dependabot creating any more for this minor version (unless you reopen the PR or upgrade to it yourself)\\n- `@dependabot ignore this dependency` will close this PR and stop Dependabot creating any more for this dependency (unless you reopen the PR or upgrade to it yourself)\\n\\n\\n</details>', 'created_at': '2022-03-01T13:02:15Z', 'updated_at': '2022-03-01T13:02:15Z', 'closed_at': None, 'merged_at': None, 'merge_commit_sha': None, 'assignee': None, 'assignees': [], 'requested_reviewers': [], 'requested_teams': [], 'labels': [], 'milestone': None, 'draft': False, 'commits_url': 'https://api.github.com/repos/rjoebruch/skyportal/pulls/114/commits', 'review_comments_url': 'https://api.github.com/repos/rjoebruch/skyportal/pulls/114/comments', 'review_comment_url': 'https://api.github.com/repos/rjoebruch/skyportal/pulls/comments{/number}', 'comments_url': 'https://api.github.com/repos/rjoebruch/skyportal/issues/114/comments', 'statuses_url': 'https://api.github.com/repos/rjoebruch/skyportal/statuses/5be9c1b13a7a8225d56ed6c3266332786f4ab7f9', 'head': {'label': 'rjoebruch:dependabot/pip/responses-0.18.0', 'ref': 'dependabot/pip/responses-0.18.0', 'sha': '5be9c1b13a7a8225d56ed6c3266332786f4ab7f9', 'user': {'login': 'rjoebruch', 'id': 45436034, 'node_id': 'MDQ6VXNlcjQ1NDM2MDM0', 'avatar_url': 'https://avatars.githubusercontent.com/u/45436034?v=4', 'gravatar_id': '', 'url': 'https://api.github.com/users/rjoebruch', 'html_url': 'https://github.com/rjoebruch', 'followers_url': 'https://api.github.com/users/rjoebruch/followers', 'following_url': 'https://api.github.com/users/rjoebruch/following{/other_user}', 'gists_url': 'https://api.github.com/users/rjoebruch/gists{/gist_id}', 'starred_url': 'https://api.github.com/users/rjoebruch/starred{/owner}{/repo}', 'subscriptions_url': 'https://api.github.com/users/rjoebruch/subscriptions', 'organizations_url': 'https://api.github.com/users/rjoebruch/orgs', 'repos_url': 'https://api.github.com/users/rjoebruch/repos', 'events_url': 'https://api.github.com/users/rjoebruch/events{/privacy}', 'received_events_url': 'https://api.github.com/users/rjoebruch/received_events', 'type': 'User', 'site_admin': False}, 'repo': {'id': 338767522, 'node_id': 'MDEwOlJlcG9zaXRvcnkzMzg3Njc1MjI=', 'name': 'skyportal', 'full_name': 'rjoebruch/skyportal', 'private': False, 'owner': {'login': 'rjoebruch', 'id': 45436034, 'node_id': 'MDQ6VXNlcjQ1NDM2MDM0', 'avatar_url': 'https://avatars.githubusercontent.com/u/45436034?v=4', 'gravatar_id': '', 'url': 'https://api.github.com/users/rjoebruch', 'html_url': 'https://github.com/rjoebruch', 'followers_url': 'https://api.github.com/users/rjoebruch/followers', 'following_url': 'https://api.github.com/users/rjoebruch/following{/other_user}', 'gists_url': 'https://api.github.com/users/rjoebruch/gists{/gist_id}', 'starred_url': 'https://api.github.com/users/rjoebruch/starred{/owner}{/repo}', 'subscriptions_url': 'https://api.github.com/users/rjoebruch/subscriptions', 'organizations_url': 'https://api.github.com/users/rjoebruch/orgs', 'repos_url': 'https://api.github.com/users/rjoebruch/repos', 'events_url': 'https://api.github.com/users/rjoebruch/events{/privacy}', 'received_events_url': 'https://api.github.com/users/rjoebruch/received_events', 'type': 'User', 'site_admin': False}, 'html_url': 'https://github.com/rjoebruch/skyportal', 'description': 'Collaborative platform for time-domain astronomy', 'fork': True, 'url': 'https://api.github.com/repos/rjoebruch/skyportal', 'forks_url': 'https://api.github.com/repos/rjoebruch/skyportal/forks', 'keys_url': 'https://api.github.com/repos/rjoebruch/skyportal/keys{/key_id}', 'collaborators_url': 'https://api.github.com/repos/rjoebruch/skyportal/collaborators{/collaborator}', 'teams_url': 'https://api.github.com/repos/rjoebruch/skyportal/teams', 'hooks_url': 'https://api.github.com/repos/rjoebruch/skyportal/hooks', 'issue_events_url': 'https://api.github.com/repos/rjoebruch/skyportal/issues/events{/number}', 'events_url': 'https://api.github.com/repos/rjoebruch/skyportal/events', 'assignees_url': 'https://api.github.com/repos/rjoebruch/skyportal/assignees{/user}', 'branches_url': 'https://api.github.com/repos/rjoebruch/skyportal/branches{/branch}', 'tags_url': 'https://api.github.com/repos/rjoebruch/skyportal/tags', 'blobs_url': 'https://api.github.com/repos/rjoebruch/skyportal/git/blobs{/sha}', 'git_tags_url': 'https://api.github.com/repos/rjoebruch/skyportal/git/tags{/sha}', 'git_refs_url': 'https://api.github.com/repos/rjoebruch/skyportal/git/refs{/sha}', 'trees_url': 'https://api.github.com/repos/rjoebruch/skyportal/git/trees{/sha}', 'statuses_url': 'https://api.github.com/repos/rjoebruch/skyportal/statuses/{sha}', 'languages_url': 'https://api.github.com/repos/rjoebruch/skyportal/languages', 'stargazers_url': 'https://api.github.com/repos/rjoebruch/skyportal/stargazers', 'contributors_url': 'https://api.github.com/repos/rjoebruch/skyportal/contributors', 'subscribers_url': 'https://api.github.com/repos/rjoebruch/skyportal/subscribers', 'subscription_url': 'https://api.github.com/repos/rjoebruch/skyportal/subscription', 'commits_url': 'https://api.github.com/repos/rjoebruch/skyportal/commits{/sha}', 'git_commits_url': 'https://api.github.com/repos/rjoebruch/skyportal/git/commits{/sha}', 'comments_url': 'https://api.github.com/repos/rjoebruch/skyportal/comments{/number}', 'issue_comment_url': 'https://api.github.com/repos/rjoebruch/skyportal/issues/comments{/number}', 'contents_url': 'https://api.github.com/repos/rjoebruch/skyportal/contents/{+path}', 'compare_url': 'https://api.github.com/repos/rjoebruch/skyportal/compare/{base}...{head}', 'merges_url': 'https://api.github.com/repos/rjoebruch/skyportal/merges', 'archive_url': 'https://api.github.com/repos/rjoebruch/skyportal/{archive_format}{/ref}', 'downloads_url': 'https://api.github.com/repos/rjoebruch/skyportal/downloads', 'issues_url': 'https://api.github.com/repos/rjoebruch/skyportal/issues{/number}', 'pulls_url': 'https://api.github.com/repos/rjoebruch/skyportal/pulls{/number}', 'milestones_url': 'https://api.github.com/repos/rjoebruch/skyportal/milestones{/number}', 'notifications_url': 'https://api.github.com/repos/rjoebruch/skyportal/notifications{?since,all,participating}', 'labels_url': 'https://api.github.com/repos/rjoebruch/skyportal/labels{/name}', 'releases_url': 'https://api.github.com/repos/rjoebruch/skyportal/releases{/id}', 'deployments_url': 'https://api.github.com/repos/rjoebruch/skyportal/deployments', 'created_at': '2021-02-14T09:15:27Z', 'updated_at': '2021-09-20T09:14:29Z', 'pushed_at': '2022-03-01T13:02:16Z', 'git_url': 'git://github.com/rjoebruch/skyportal.git', 'ssh_url': 'git@github.com:rjoebruch/skyportal.git', 'clone_url': 'https://github.com/rjoebruch/skyportal.git', 'svn_url': 'https://github.com/rjoebruch/skyportal', 'homepage': 'https://skyportal.io', 'size': 9702, 'stargazers_count': 0, 'watchers_count': 0, 'language': 'Python', 'has_issues': False, 'has_projects': True, 'has_downloads': True, 'has_wiki': True, 'has_pages': False, 'forks_count': 0, 'mirror_url': None, 'archived': False, 'disabled': False, 'open_issues_count': 21, 'license': {'key': 'other', 'name': 'Other', 'spdx_id': 'NOASSERTION', 'url': None, 'node_id': 'MDc6TGljZW5zZTA='}, 'allow_forking': True, 'is_template': False, 'topics': [], 'visibility': 'public', 'forks': 0, 'open_issues': 21, 'watchers': 0, 'default_branch': 'master'}}, 'base': {'label': 'rjoebruch:master', 'ref': 'master', 'sha': 'd4f36006ae89bac74b3789747b47ce58d81366fd', 'user': {'login': 'rjoebruch', 'id': 45436034, 'node_id': 'MDQ6VXNlcjQ1NDM2MDM0', 'avatar_url': 'https://avatars.githubusercontent.com/u/45436034?v=4', 'gravatar_id': '', 'url': 'https://api.github.com/users/rjoebruch', 'html_url': 'https://github.com/rjoebruch', 'followers_url': 'https://api.github.com/users/rjoebruch/followers', 'following_url': 'https://api.github.com/users/rjoebruch/following{/other_user}', 'gists_url': 'https://api.github.com/users/rjoebruch/gists{/gist_id}', 'starred_url': 'https://api.github.com/users/rjoebruch/starred{/owner}{/repo}', 'subscriptions_url': 'https://api.github.com/users/rjoebruch/subscriptions', 'organizations_url': 'https://api.github.com/users/rjoebruch/orgs', 'repos_url': 'https://api.github.com/users/rjoebruch/repos', 'events_url': 'https://api.github.com/users/rjoebruch/events{/privacy}', 'received_events_url': 'https://api.github.com/users/rjoebruch/received_events', 'type': 'User', 'site_admin': False}, 'repo': {'id': 338767522, 'node_id': 'MDEwOlJlcG9zaXRvcnkzMzg3Njc1MjI=', 'name': 'skyportal', 'full_name': 'rjoebruch/skyportal', 'private': False, 'owner': {'login': 'rjoebruch', 'id': 45436034, 'node_id': 'MDQ6VXNlcjQ1NDM2MDM0', 'avatar_url': 'https://avatars.githubusercontent.com/u/45436034?v=4', 'gravatar_id': '', 'url': 'https://api.github.com/users/rjoebruch', 'html_url': 'https://github.com/rjoebruch', 'followers_url': 'https://api.github.com/users/rjoebruch/followers', 'following_url': 'https://api.github.com/users/rjoebruch/following{/other_user}', 'gists_url': 'https://api.github.com/users/rjoebruch/gists{/gist_id}', 'starred_url': 'https://api.github.com/users/rjoebruch/starred{/owner}{/repo}', 'subscriptions_url': 'https://api.github.com/users/rjoebruch/subscriptions', 'organizations_url': 'https://api.github.com/users/rjoebruch/orgs', 'repos_url': 'https://api.github.com/users/rjoebruch/repos', 'events_url': 'https://api.github.com/users/rjoebruch/events{/privacy}', 'received_events_url': 'https://api.github.com/users/rjoebruch/received_events', 'type': 'User', 'site_admin': False}, 'html_url': 'https://github.com/rjoebruch/skyportal', 'description': 'Collaborative platform for time-domain astronomy', 'fork': True, 'url': 'https://api.github.com/repos/rjoebruch/skyportal', 'forks_url': 'https://api.github.com/repos/rjoebruch/skyportal/forks', 'keys_url': 'https://api.github.com/repos/rjoebruch/skyportal/keys{/key_id}', 'collaborators_url': 'https://api.github.com/repos/rjoebruch/skyportal/collaborators{/collaborator}', 'teams_url': 'https://api.github.com/repos/rjoebruch/skyportal/teams', 'hooks_url': 'https://api.github.com/repos/rjoebruch/skyportal/hooks', 'issue_events_url': 'https://api.github.com/repos/rjoebruch/skyportal/issues/events{/number}', 'events_url': 'https://api.github.com/repos/rjoebruch/skyportal/events', 'assignees_url': 'https://api.github.com/repos/rjoebruch/skyportal/assignees{/user}', 'branches_url': 'https://api.github.com/repos/rjoebruch/skyportal/branches{/branch}', 'tags_url': 'https://api.github.com/repos/rjoebruch/skyportal/tags', 'blobs_url': 'https://api.github.com/repos/rjoebruch/skyportal/git/blobs{/sha}', 'git_tags_url': 'https://api.github.com/repos/rjoebruch/skyportal/git/tags{/sha}', 'git_refs_url': 'https://api.github.com/repos/rjoebruch/skyportal/git/refs{/sha}', 'trees_url': 'https://api.github.com/repos/rjoebruch/skyportal/git/trees{/sha}', 'statuses_url': 'https://api.github.com/repos/rjoebruch/skyportal/statuses/{sha}', 'languages_url': 'https://api.github.com/repos/rjoebruch/skyportal/languages', 'stargazers_url': 'https://api.github.com/repos/rjoebruch/skyportal/stargazers', 'contributors_url': 'https://api.github.com/repos/rjoebruch/skyportal/contributors', 'subscribers_url': 'https://api.github.com/repos/rjoebruch/skyportal/subscribers', 'subscription_url': 'https://api.github.com/repos/rjoebruch/skyportal/subscription', 'commits_url': 'https://api.github.com/repos/rjoebruch/skyportal/commits{/sha}', 'git_commits_url': 'https://api.github.com/repos/rjoebruch/skyportal/git/commits{/sha}', 'comments_url': 'https://api.github.com/repos/rjoebruch/skyportal/comments{/number}', 'issue_comment_url': 'https://api.github.com/repos/rjoebruch/skyportal/issues/comments{/number}', 'contents_url': 'https://api.github.com/repos/rjoebruch/skyportal/contents/{+path}', 'compare_url': 'https://api.github.com/repos/rjoebruch/skyportal/compare/{base}...{head}', 'merges_url': 'https://api.github.com/repos/rjoebruch/skyportal/merges', 'archive_url': 'https://api.github.com/repos/rjoebruch/skyportal/{archive_format}{/ref}', 'downloads_url': 'https://api.github.com/repos/rjoebruch/skyportal/downloads', 'issues_url': 'https://api.github.com/repos/rjoebruch/skyportal/issues{/number}', 'pulls_url': 'https://api.github.com/repos/rjoebruch/skyportal/pulls{/number}', 'milestones_url': 'https://api.github.com/repos/rjoebruch/skyportal/milestones{/number}', 'notifications_url': 'https://api.github.com/repos/rjoebruch/skyportal/notifications{?since,all,participating}', 'labels_url': 'https://api.github.com/repos/rjoebruch/skyportal/labels{/name}', 'releases_url': 'https://api.github.com/repos/rjoebruch/skyportal/releases{/id}', 'deployments_url': 'https://api.github.com/repos/rjoebruch/skyportal/deployments', 'created_at': '2021-02-14T09:15:27Z', 'updated_at': '2021-09-20T09:14:29Z', 'pushed_at': '2022-03-01T13:02:16Z', 'git_url': 'git://github.com/rjoebruch/skyportal.git', 'ssh_url': 'git@github.com:rjoebruch/skyportal.git', 'clone_url': 'https://github.com/rjoebruch/skyportal.git', 'svn_url': 'https://github.com/rjoebruch/skyportal', 'homepage': 'https://skyportal.io', 'size': 9702, 'stargazers_count': 0, 'watchers_count': 0, 'language': 'Python', 'has_issues': False, 'has_projects': True, 'has_downloads': True, 'has_wiki': True, 'has_pages': False, 'forks_count': 0, 'mirror_url': None, 'archived': False, 'disabled': False, 'open_issues_count': 21, 'license': {'key': 'other', 'name': 'Other', 'spdx_id': 'NOASSERTION', 'url': None, 'node_id': 'MDc6TGljZW5zZTA='}, 'allow_forking': True, 'is_template': False, 'topics': [], 'visibility': 'public', 'forks': 0, 'open_issues': 21, 'watchers': 0, 'default_branch': 'master'}}, '_links': {'self': {'href': 'https://api.github.com/repos/rjoebruch/skyportal/pulls/114'}, 'html': {'href': 'https://github.com/rjoebruch/skyportal/pull/114'}, 'issue': {'href': 'https://api.github.com/repos/rjoebruch/skyportal/issues/114'}, 'comments': {'href': 'https://api.github.com/repos/rjoebruch/skyportal/issues/114/comments'}, 'review_comments': {'href': 'https://api.github.com/repos/rjoebruch/skyportal/pulls/114/comments'}, 'review_comment': {'href': 'https://api.github.com/repos/rjoebruch/skyportal/pulls/comments{/number}'}, 'commits': {'href': 'https://api.github.com/repos/rjoebruch/skyportal/pulls/114/commits'}, 'statuses': {'href': 'https://api.github.com/repos/rjoebruch/skyportal/statuses/5be9c1b13a7a8225d56ed6c3266332786f4ab7f9'}}, 'author_association': 'NONE', 'auto_merge': None, 'active_lock_reason': None, 'merged': False, 'mergeable': None, 'rebaseable': None, 'mergeable_state': 'unknown', 'merged_by': None, 'comments': 0, 'review_comments': 0, 'maintainer_can_modify': False, 'commits': 1, 'additions': 1, 'deletions': 1, 'changed_files': 1}}, 'public': True, 'created_at': '2022-03-01T13:02:16Z'}, {'id': '20517176847', 'type': 'WatchEvent', 'actor': {'id': 11348981, 'login': 'RMeli', 'display_login': 'RMeli', 'gravatar_id': '', 'url': 'https://api.github.com/users/RMeli', 'avatar_url': 'https://avatars.githubusercontent.com/u/11348981?'}, 'repo': {'id': 439429945, 'name': 'OpenFreeEnergy/ExampleNotebooks', 'url': 'https://api.github.com/repos/OpenFreeEnergy/ExampleNotebooks'}, 'payload': {'action': 'started'}, 'public': True, 'created_at': '2022-03-01T13:02:16Z', 'org': {'id': 92118939, 'login': 'OpenFreeEnergy', 'gravatar_id': '', 'url': 'https://api.github.com/orgs/OpenFreeEnergy', 'avatar_url': 'https://avatars.githubusercontent.com/u/92118939?'}}, {'id': '20517176839', 'type': 'CreateEvent', 'actor': {'id': 87593963, 'login': 'salimsm', 'display_login': 'salimsm', 'gravatar_id': '', 'url': 'https://api.github.com/users/salimsm', 'avatar_url': 'https://avatars.githubusercontent.com/u/87593963?'}, 'repo': {'id': 464895299, 'name': 'salimsm/android-recycler-proj', 'url': 'https://api.github.com/repos/salimsm/android-recycler-proj'}, 'payload': {'ref': None, 'ref_type': 'repository', 'master_branch': 'main', 'description': None, 'pusher_type': 'user'}, 'public': True, 'created_at': '2022-03-01T13:02:16Z'}, {'id': '20517176840', 'type': 'WatchEvent', 'actor': {'id': 1225788, 'login': 'mlienau', 'display_login': 'mlienau', 'gravatar_id': '', 'url': 'https://api.github.com/users/mlienau', 'avatar_url': 'https://avatars.githubusercontent.com/u/1225788?'}, 'repo': {'id': 251079767, 'name': 'Mobsights/Blazor.SignaturePad', 'url': 'https://api.github.com/repos/Mobsights/Blazor.SignaturePad'}, 'payload': {'action': 'started'}, 'public': True, 'created_at': '2022-03-01T13:02:16Z', 'org': {'id': 38449086, 'login': 'Mobsights', 'gravatar_id': '', 'url': 'https://api.github.com/orgs/Mobsights', 'avatar_url': 'https://avatars.githubusercontent.com/u/38449086?'}}, {'id': '20517176834', 'type': 'DeleteEvent', 'actor': {'id': 49699333, 'login': 'dependabot[bot]', 'display_login': 'dependabot', 'gravatar_id': '', 'url': 'https://api.github.com/users/dependabot[bot]', 'avatar_url': 'https://avatars.githubusercontent.com/u/49699333?'}, 'repo': {'id': 367350014, 'name': 'Zerotask/rust-jungle', 'url': 'https://api.github.com/repos/Zerotask/rust-jungle'}, 'payload': {'ref': 'dependabot/npm_and_yarn/cssnano-5.0.16', 'ref_type': 'branch', 'pusher_type': 'user'}, 'public': True, 'created_at': '2022-03-01T13:02:16Z'}, {'id': '20517176856', 'type': 'WatchEvent', 'actor': {'id': 17283778, 'login': 'alexissinglaire', 'display_login': 'alexissinglaire', 'gravatar_id': '', 'url': 'https://api.github.com/users/alexissinglaire', 'avatar_url': 'https://avatars.githubusercontent.com/u/17283778?'}, 'repo': {'id': 54318043, 'name': 'znly/go-dashing', 'url': 'https://api.github.com/repos/znly/go-dashing'}, 'payload': {'action': 'started'}, 'public': True, 'created_at': '2022-03-01T13:02:16Z', 'org': {'id': 1242263, 'login': 'znly', 'gravatar_id': '', 'url': 'https://api.github.com/orgs/znly', 'avatar_url': 'https://avatars.githubusercontent.com/u/1242263?'}}, {'id': '20517176817', 'type': 'PushEvent', 'actor': {'id': 65212910, 'login': 'Hall-1910', 'display_login': 'Hall-1910', 'gravatar_id': '', 'url': 'https://api.github.com/users/Hall-1910', 'avatar_url': 'https://avatars.githubusercontent.com/u/65212910?'}, 'repo': {'id': 222505696, 'name': 'brand22/d3', 'url': 'https://api.github.com/repos/brand22/d3'}, 'payload': {'push_id': 9232968421, 'size': 1, 'distinct_size': 1, 'ref': 'refs/heads/master', 'head': '95a89a2d3ae9699f40348e4db1597422fdd4149f', 'before': 'ea18bda1b4a164b73528e64f551a2f050a1e0af9', 'commits': [{'sha': '95a89a2d3ae9699f40348e4db1597422fdd4149f', 'author': {'email': '65212910+Hall-1910@users.noreply.github.com', 'name': 'Hall-1910'}, 'message': 'm', 'distinct': True, 'url': 'https://api.github.com/repos/brand22/d3/commits/95a89a2d3ae9699f40348e4db1597422fdd4149f'}]}, 'public': True, 'created_at': '2022-03-01T13:02:16Z'}, {'id': '20517176802', 'type': 'PushEvent', 'actor': {'id': 5111321, 'login': 'rhelmke', 'display_login': 'rhelmke', 'gravatar_id': '', 'url': 'https://api.github.com/users/rhelmke', 'avatar_url': 'https://avatars.githubusercontent.com/u/5111321?'}, 'repo': {'id': 246840407, 'name': 'fkie-cad/FirmwareScraper', 'url': 'https://api.github.com/repos/fkie-cad/FirmwareScraper'}, 'payload': {'push_id': 9232968391, 'size': 1, 'distinct_size': 1, 'ref': 'refs/heads/dev/scraper/asus', 'head': '12712b2ed87784cefe3aed9232be90607e5fd03d', 'before': '81d5404161bbe021c44bfd6b5a50657c977f5a6c', 'commits': [{'sha': '12712b2ed87784cefe3aed9232be90607e5fd03d', 'author': {'email': 'rene.helmke@fkie.fraunhofer.de', 'name': 'rhelmke'}, 'message': 'AVM -> ASUS in comment', 'distinct': True, 'url': 'https://api.github.com/repos/fkie-cad/FirmwareScraper/commits/12712b2ed87784cefe3aed9232be90607e5fd03d'}]}, 'public': True, 'created_at': '2022-03-01T13:02:16Z', 'org': {'id': 25243744, 'login': 'fkie-cad', 'gravatar_id': '', 'url': 'https://api.github.com/orgs/fkie-cad', 'avatar_url': 'https://avatars.githubusercontent.com/u/25243744?'}}, {'id': '20517176825', 'type': 'PushEvent', 'actor': {'id': 41898282, 'login': 'github-actions[bot]', 'display_login': 'github-actions', 'gravatar_id': '', 'url': 'https://api.github.com/users/github-actions[bot]', 'avatar_url': 'https://avatars.githubusercontent.com/u/41898282?'}, 'repo': {'id': 412174299, 'name': 'lissa-sonoda/lissa-sonoda', 'url': 'https://api.github.com/repos/lissa-sonoda/lissa-sonoda'}, 'payload': {'push_id': 9232968424, 'size': 1, 'distinct_size': 1, 'ref': 'refs/heads/output', 'head': 'a3cd94b0ce75abeada5beafcccc2fc1d2307c3d6', 'before': 'd813e5856b831205a77796a780b0852e30aa1270', 'commits': [{'sha': 'a3cd94b0ce75abeada5beafcccc2fc1d2307c3d6', 'author': {'email': '41898282+github-actions[bot]@users.noreply.github.com', 'name': 'github-actions[bot]'}, 'message': 'Deploy to GitHub pages', 'distinct': True, 'url': 'https://api.github.com/repos/lissa-sonoda/lissa-sonoda/commits/a3cd94b0ce75abeada5beafcccc2fc1d2307c3d6'}]}, 'public': True, 'created_at': '2022-03-01T13:02:16Z'}, {'id': '20517176799', 'type': 'IssueCommentEvent', 'actor': {'id': 35613825, 'login': 'vercel[bot]', 'display_login': 'vercel', 'gravatar_id': '', 'url': 'https://api.github.com/users/vercel[bot]', 'avatar_url': 'https://avatars.githubusercontent.com/u/35613825?'}, 'repo': {'id': 367350014, 'name': 'Zerotask/rust-jungle', 'url': 'https://api.github.com/repos/Zerotask/rust-jungle'}, 'payload': {'action': 'created', 'issue': {'url': 'https://api.github.com/repos/Zerotask/rust-jungle/issues/114', 'repository_url': 'https://api.github.com/repos/Zerotask/rust-jungle', 'labels_url': 'https://api.github.com/repos/Zerotask/rust-jungle/issues/114/labels{/name}', 'comments_url': 'https://api.github.com/repos/Zerotask/rust-jungle/issues/114/comments', 'events_url': 'https://api.github.com/repos/Zerotask/rust-jungle/issues/114/events', 'html_url': 'https://github.com/Zerotask/rust-jungle/pull/114', 'id': 1155313154, 'node_id': 'PR_kwDOFeVQ_s4zujuU', 'number': 114, 'title': 'chore(deps-dev): bump cssnano from 5.0.8 to 5.0.17', 'user': {'login': 'dependabot[bot]', 'id': 49699333, 'node_id': 'MDM6Qm90NDk2OTkzMzM=', 'avatar_url': 'https://avatars.githubusercontent.com/in/29110?v=4', 'gravatar_id': '', 'url': 'https://api.github.com/users/dependabot%5Bbot%5D', 'html_url': 'https://github.com/apps/dependabot', 'followers_url': 'https://api.github.com/users/dependabot%5Bbot%5D/followers', 'following_url': 'https://api.github.com/users/dependabot%5Bbot%5D/following{/other_user}', 'gists_url': 'https://api.github.com/users/dependabot%5Bbot%5D/gists{/gist_id}', 'starred_url': 'https://api.github.com/users/dependabot%5Bbot%5D/starred{/owner}{/repo}', 'subscriptions_url': 'https://api.github.com/users/dependabot%5Bbot%5D/subscriptions', 'organizations_url': 'https://api.github.com/users/dependabot%5Bbot%5D/orgs', 'repos_url': 'https://api.github.com/users/dependabot%5Bbot%5D/repos', 'events_url': 'https://api.github.com/users/dependabot%5Bbot%5D/events{/privacy}', 'received_events_url': 'https://api.github.com/users/dependabot%5Bbot%5D/received_events', 'type': 'Bot', 'site_admin': False}, 'labels': [{'id': 2999753408, 'node_id': 'MDU6TGFiZWwyOTk5NzUzNDA4', 'url': 'https://api.github.com/repos/Zerotask/rust-jungle/labels/dependencies', 'name': 'dependencies', 'color': '0366d6', 'default': False, 'description': 'Pull requests that update a dependency file'}], 'state': 'open', 'locked': False, 'assignee': None, 'assignees': [], 'milestone': None, 'comments': 1, 'created_at': '2022-03-01T13:02:12Z', 'updated_at': '2022-03-01T13:02:15Z', 'closed_at': None, 'author_association': 'CONTRIBUTOR', 'active_lock_reason': None, 'draft': False, 'pull_request': {'url': 'https://api.github.com/repos/Zerotask/rust-jungle/pulls/114', 'html_url': 'https://github.com/Zerotask/rust-jungle/pull/114', 'diff_url': 'https://github.com/Zerotask/rust-jungle/pull/114.diff', 'patch_url': 'https://github.com/Zerotask/rust-jungle/pull/114.patch', 'merged_at': None}, 'body': 'Bumps [cssnano](https://github.com/cssnano/cssnano) from 5.0.8 to 5.0.17.\\n<details>\\n<summary>Release notes</summary>\\n<p><em>Sourced from <a href=\"https://github.com/cssnano/cssnano/releases\">cssnano\\'s releases</a>.</em></p>\\n<blockquote>\\n<h2>v5.0.17</h2>\\n<h2>Patch Changes</h2>\\n<ul>\\n<li>Publish untranspiled CommonJS source</li>\\n</ul>\\n<h2>v5.0.16</h2>\\n<h2>5.0.16</h2>\\n<h2>Patch Changes</h2>\\n<ul>\\n<li>refactor: replace natural sort with built-in array sort</li>\\n<li>Updated dependencies</li>\\n</ul>\\n<h2>v5.0.15</h2>\\n<h2>Patch Changes</h2>\\n<ul>\\n<li>\\n<p>refactor: remove getMatch function from cssnano-utils</p>\\n<p>The getMatch function allows nested arrays to emulate a map.\\nIt is better to replace this function with a regular Map().\\nIt\\'s unlikely this function is used outside of cssnano as it requires\\na very specific nested array struture.</p>\\n</li>\\n<li>\\n<p>fix: update postcss-calc to 8.2</p>\\n<p>Remove a crash when postcss-calc cannot parse the value</p>\\n</li>\\n<li>\\n<p>Updated dependencies</p>\\n<ul>\\n<li>cssnano-preset-default@5.1.10</li>\\n</ul>\\n</li>\\n</ul>\\n<h2>v5.0.14</h2>\\n<h2>Bug fixes</h2>\\n<ul>\\n<li>fix(cssnano): correctly resolve presets in pnpm monorepo (<a href=\"https://github-redirect.dependabot.com/cssnano/cssnano/pull/1269\">#1269</a>) (<a href=\"https://github.com/cssnano/cssnano/commit/6f9c7477eb3eb191d3a7454071908a17dac90fa3\">6f9c7477eb</a>)</li>\\n</ul>\\n<h2>v5.0.13</h2>\\n<h2>Patch Changes</h2>\\n<ul>\\n<li>chore(postcss-normalize-url): reduce dependencies (<a href=\"https://github-redirect.dependabot.com/cssnano/cssnano/pull/1255\">#1255</a>) (<a href=\"https://github.com/cssnano/cssnano/commit/a4267dedcd6d41ece45a0dfc5a73ea4b9e4ae028\">a4267dedcd6</a>)</li>\\n<li>fix(postcss-colormin): accept configuration options (<a href=\"https://github-redirect.dependabot.com/cssnano/cssnano/pull/1263\">#1263</a>) (<a href=\"https://github.com/cssnano/cssnano/commit/3b38038007bfd8761d84a9e35f0191b56e5b50d7\">3b38038007</a>)</li>\\n<li>Updated dependencies\\n<ul>\\n<li>cssnano-preset-default@5.1.9</li>\\n</ul>\\n</li>\\n</ul>\\n<h2>v5.0.12</h2>\\n<h2>Bug fixes</h2>\\n<ul>\\n<li>fix(postcss-reduce-initial): update initial values data (<a href=\"https://github-redirect.dependabot.com/cssnano/cssnano/pull/1242\">#1242</a>) (<a href=\"https://github.com/cssnano/cssnano/commit/c6e9f00b785d85df0d92a110ec95a14fd98adcc9\">c6e9f00b785</a>)</li>\\n</ul>\\n<h2>v5.0.11</h2>\\n<h2>Bug fixes</h2>\\n<!-- raw HTML omitted -->\\n</blockquote>\\n<p>... (truncated)</p>\\n</details>\\n<details>\\n<summary>Commits</summary>\\n<ul>\\n<li><a href=\"https://github.com/cssnano/cssnano/commit/374af70ea4884796232b60b78d1e44ec624b974e\"><code>374af70</code></a> Publish cssnano 5.0.17 (<a href=\"https://github-redirect.dependabot.com/cssnano/cssnano/issues/1322\">#1322</a>)</li>\\n<li><a href=\"https://github.com/cssnano/cssnano/commit/a29aa399ee3c8f13dd32785d0eeaa9106acaf02e\"><code>a29aa39</code></a> docs: update docusaurus (<a href=\"https://github-redirect.dependabot.com/cssnano/cssnano/issues/1321\">#1321</a>)</li>\\n<li><a href=\"https://github.com/cssnano/cssnano/commit/18c1eaac08e63c607d915b073a2307152c823c69\"><code>18c1eaa</code></a> fix: remove package.json references to broken or deleted files (<a href=\"https://github-redirect.dependabot.com/cssnano/cssnano/issues/1320\">#1320</a>)</li>\\n<li><a href=\"https://github.com/cssnano/cssnano/commit/c6f7699d02f6a6fb60c5eb30364bd6694f889b85\"><code>c6f7699</code></a> chore: move tests out of src directory (<a href=\"https://github-redirect.dependabot.com/cssnano/cssnano/issues/1319\">#1319</a>)</li>\\n<li><a href=\"https://github.com/cssnano/cssnano/commit/8807782d1cd48757f2a83c8a665dcb402b076220\"><code>8807782</code></a> chore: update deps (<a href=\"https://github-redirect.dependabot.com/cssnano/cssnano/issues/1318\">#1318</a>)</li>\\n<li><a href=\"https://github.com/cssnano/cssnano/commit/a7e1940aaa2819c00be2b42b49e8ba500a0780ea\"><code>a7e1940</code></a> test(css-size): fix cli path (<a href=\"https://github-redirect.dependabot.com/cssnano/cssnano/issues/1317\">#1317</a>)</li>\\n<li><a href=\"https://github.com/cssnano/cssnano/commit/71ae03a9763ba0f4d47df23337c7921dc8267495\"><code>71ae03a</code></a> chore(cssnano): remove obsolete bundle-sizes script (<a href=\"https://github-redirect.dependabot.com/cssnano/cssnano/issues/1316\">#1316</a>)</li>\\n<li><a href=\"https://github.com/cssnano/cssnano/commit/62a6f2f6db950f45c71b2a4a31b3549481cd8556\"><code>62a6f2f</code></a> chore: convert source to CommonJS (<a href=\"https://github-redirect.dependabot.com/cssnano/cssnano/issues/1315\">#1315</a>)</li>\\n<li><a href=\"https://github.com/cssnano/cssnano/commit/f9bfaa3df3cd118444bcdba02e6e2da00be1ff91\"><code>f9bfaa3</code></a> chore(postcss-merge-longhand): fix stylehacks import (<a href=\"https://github-redirect.dependabot.com/cssnano/cssnano/issues/1314\">#1314</a>)</li>\\n<li><a href=\"https://github.com/cssnano/cssnano/commit/e0a40f10b5a3161832c64408a6f48d7998d1a5ba\"><code>e0a40f1</code></a> refactor: replace bad types (<a href=\"https://github-redirect.dependabot.com/cssnano/cssnano/issues/1313\">#1313</a>)</li>\\n<li>Additional commits viewable in <a href=\"https://github.com/cssnano/cssnano/compare/cssnano@5.0.8...cssnano@5.0.17\">compare view</a></li>\\n</ul>\\n</details>\\n<br />\\n\\n\\n[![Dependabot compatibility score](https://dependabot-badges.githubapp.com/badges/compatibility_score?dependency-name=cssnano&package-manager=npm_and_yarn&previous-version=5.0.8&new-version=5.0.17)](https://docs.github.com/en/github/managing-security-vulnerabilities/about-dependabot-security-updates#about-compatibility-scores)\\n\\nDependabot will resolve any conflicts with this PR as long as you don\\'t alter it yourself. You can also trigger a rebase manually by commenting `@dependabot rebase`.\\n\\n[//]: # (dependabot-automerge-start)\\n[//]: # (dependabot-automerge-end)\\n\\n---\\n\\n<details>\\n<summary>Dependabot commands and options</summary>\\n<br />\\n\\nYou can trigger Dependabot actions by commenting on this PR:\\n- `@dependabot rebase` will rebase this PR\\n- `@dependabot recreate` will recreate this PR, overwriting any edits that have been made to it\\n- `@dependabot merge` will merge this PR after your CI passes on it\\n- `@dependabot squash and merge` will squash and merge this PR after your CI passes on it\\n- `@dependabot cancel merge` will cancel a previously requested merge and block automerging\\n- `@dependabot reopen` will reopen this PR if it is closed\\n- `@dependabot close` will close this PR and stop Dependabot recreating it. You can achieve the same result by closing it manually\\n- `@dependabot ignore this major version` will close this PR and stop Dependabot creating any more for this major version (unless you reopen the PR or upgrade to it yourself)\\n- `@dependabot ignore this minor version` will close this PR and stop Dependabot creating any more for this minor version (unless you reopen the PR or upgrade to it yourself)\\n- `@dependabot ignore this dependency` will close this PR and stop Dependabot creating any more for this dependency (unless you reopen the PR or upgrade to it yourself)\\n\\n\\n</details>', 'reactions': {'url': 'https://api.github.com/repos/Zerotask/rust-jungle/issues/114/reactions', 'total_count': 0, '+1': 0, '-1': 0, 'laugh': 0, 'hooray': 0, 'confused': 0, 'heart': 0, 'rocket': 0, 'eyes': 0}, 'timeline_url': 'https://api.github.com/repos/Zerotask/rust-jungle/issues/114/timeline', 'performed_via_github_app': None}, 'comment': {'url': 'https://api.github.com/repos/Zerotask/rust-jungle/issues/comments/1055420202', 'html_url': 'https://github.com/Zerotask/rust-jungle/pull/114#issuecomment-1055420202', 'issue_url': 'https://api.github.com/repos/Zerotask/rust-jungle/issues/114', 'id': 1055420202, 'node_id': 'IC_kwDOFeVQ_s4-6G8q', 'user': {'login': 'vercel[bot]', 'id': 35613825, 'node_id': 'MDM6Qm90MzU2MTM4MjU=', 'avatar_url': 'https://avatars.githubusercontent.com/in/8329?v=4', 'gravatar_id': '', 'url': 'https://api.github.com/users/vercel%5Bbot%5D', 'html_url': 'https://github.com/apps/vercel', 'followers_url': 'https://api.github.com/users/vercel%5Bbot%5D/followers', 'following_url': 'https://api.github.com/users/vercel%5Bbot%5D/following{/other_user}', 'gists_url': 'https://api.github.com/users/vercel%5Bbot%5D/gists{/gist_id}', 'starred_url': 'https://api.github.com/users/vercel%5Bbot%5D/starred{/owner}{/repo}', 'subscriptions_url': 'https://api.github.com/users/vercel%5Bbot%5D/subscriptions', 'organizations_url': 'https://api.github.com/users/vercel%5Bbot%5D/orgs', 'repos_url': 'https://api.github.com/users/vercel%5Bbot%5D/repos', 'events_url': 'https://api.github.com/users/vercel%5Bbot%5D/events{/privacy}', 'received_events_url': 'https://api.github.com/users/vercel%5Bbot%5D/received_events', 'type': 'Bot', 'site_admin': False}, 'created_at': '2022-03-01T13:02:15Z', 'updated_at': '2022-03-01T13:02:15Z', 'author_association': 'NONE', 'body': 'This pull request is being automatically deployed with Vercel ([learn more](https://vercel.link/github-learn-more)).  \\nTo see the status of your deployment, click below or on the icon next to each commit.\\n\\n🔍 Inspect: [https://vercel.com/hintermayer/rust-jungle/35FrirCzvCGxsSWWU2WfxxYv4dJf](https://vercel.com/hintermayer/rust-jungle/35FrirCzvCGxsSWWU2WfxxYv4dJf)  \\n✅ Preview: *In Progress*\\n\\n', 'reactions': {'url': 'https://api.github.com/repos/Zerotask/rust-jungle/issues/comments/1055420202/reactions', 'total_count': 0, '+1': 0, '-1': 0, 'laugh': 0, 'hooray': 0, 'confused': 0, 'heart': 0, 'rocket': 0, 'eyes': 0}, 'performed_via_github_app': None}}, 'public': True, 'created_at': '2022-03-01T13:02:16Z'}, {'id': '20517176796', 'type': 'PushEvent', 'actor': {'id': 19999, 'login': 'metlos', 'display_login': 'metlos', 'gravatar_id': '', 'url': 'https://api.github.com/users/metlos', 'avatar_url': 'https://avatars.githubusercontent.com/u/19999?'}, 'repo': {'id': 409605762, 'name': 'redhat-appstudio/service-provider-integration-operator', 'url': 'https://api.github.com/repos/redhat-appstudio/service-provider-integration-operator'}, 'payload': {'push_id': 9232968440, 'size': 1, 'distinct_size': 1, 'ref': 'refs/heads/main', 'head': '97c2c7c97c98e50424812066bb7dbc8ce753a005', 'before': 'b31b497e4e641f0f597a0e9745ee2e86d800d1ce', 'commits': [{'sha': '97c2c7c97c98e50424812066bb7dbc8ce753a005', 'author': {'email': 'metlos@users.noreply.github.com', 'name': 'Lukas Krejci'}, 'message': 'feat: Replace the delete webhook on SPIAccessToken with a finalizer. (#80)', 'distinct': True, 'url': 'https://api.github.com/repos/redhat-appstudio/service-provider-integration-operator/commits/97c2c7c97c98e50424812066bb7dbc8ce753a005'}]}, 'public': True, 'created_at': '2022-03-01T13:02:16Z', 'org': {'id': 89927105, 'login': 'redhat-appstudio', 'gravatar_id': '', 'url': 'https://api.github.com/orgs/redhat-appstudio', 'avatar_url': 'https://avatars.githubusercontent.com/u/89927105?'}}, {'id': '20517176718', 'type': 'IssueCommentEvent', 'actor': {'id': 63816999, 'login': 'wingetbot', 'display_login': 'wingetbot', 'gravatar_id': '', 'url': 'https://api.github.com/users/wingetbot', 'avatar_url': 'https://avatars.githubusercontent.com/u/63816999?'}, 'repo': {'id': 197275551, 'name': 'microsoft/winget-pkgs', 'url': 'https://api.github.com/repos/microsoft/winget-pkgs'}, 'payload': {'action': 'created', 'issue': {'url': 'https://api.github.com/repos/microsoft/winget-pkgs/issues/36210', 'repository_url': 'https://api.github.com/repos/microsoft/winget-pkgs', 'labels_url': 'https://api.github.com/repos/microsoft/winget-pkgs/issues/36210/labels{/name}', 'comments_url': 'https://api.github.com/repos/microsoft/winget-pkgs/issues/36210/comments', 'events_url': 'https://api.github.com/repos/microsoft/winget-pkgs/issues/36210/events', 'html_url': 'https://github.com/microsoft/winget-pkgs/pull/36210', 'id': 1064686763, 'node_id': 'PR_kwDOC8Ivn84vEe4Y', 'number': 36210, 'title': 'Remove old version of JanDeDobbeleer.OhMyPosh', 'user': {'login': 'vedantmgoyal2009', 'id': 83997633, 'node_id': 'MDQ6VXNlcjgzOTk3NjMz', 'avatar_url': 'https://avatars.githubusercontent.com/u/83997633?v=4', 'gravatar_id': '', 'url': 'https://api.github.com/users/vedantmgoyal2009', 'html_url': 'https://github.com/vedantmgoyal2009', 'followers_url': 'https://api.github.com/users/vedantmgoyal2009/followers', 'following_url': 'https://api.github.com/users/vedantmgoyal2009/following{/other_user}', 'gists_url': 'https://api.github.com/users/vedantmgoyal2009/gists{/gist_id}', 'starred_url': 'https://api.github.com/users/vedantmgoyal2009/starred{/owner}{/repo}', 'subscriptions_url': 'https://api.github.com/users/vedantmgoyal2009/subscriptions', 'organizations_url': 'https://api.github.com/users/vedantmgoyal2009/orgs', 'repos_url': 'https://api.github.com/users/vedantmgoyal2009/repos', 'events_url': 'https://api.github.com/users/vedantmgoyal2009/events{/privacy}', 'received_events_url': 'https://api.github.com/users/vedantmgoyal2009/received_events', 'type': 'User', 'site_admin': False}, 'labels': [{'id': 1960159397, 'node_id': 'MDU6TGFiZWwxOTYwMTU5Mzk3', 'url': 'https://api.github.com/repos/microsoft/winget-pkgs/labels/Azure-Pipeline-Passed', 'name': 'Azure-Pipeline-Passed', 'color': '0e8a16', 'default': False, 'description': 'Validation pipeline passed.  There may still be manual validation requirements.'}, {'id': 1960159833, 'node_id': 'MDU6TGFiZWwxOTYwMTU5ODMz', 'url': 'https://api.github.com/repos/microsoft/winget-pkgs/labels/Validation-Completed', 'name': 'Validation-Completed', 'color': '0e8a16', 'default': False, 'description': 'Validation passed'}, {'id': 3050683518, 'node_id': 'MDU6TGFiZWwzMDUwNjgzNTE4', 'url': 'https://api.github.com/repos/microsoft/winget-pkgs/labels/Moderator-Approved', 'name': 'Moderator-Approved', 'color': '5319E7', 'default': False, 'description': 'One of the Moderators has reviewed and approved this PR'}], 'state': 'closed', 'locked': False, 'assignee': None, 'assignees': [], 'milestone': None, 'comments': 14, 'created_at': '2021-11-26T16:44:10Z', 'updated_at': '2022-03-01T13:02:15Z', 'closed_at': '2022-03-01T12:41:52Z', 'author_association': 'CONTRIBUTOR', 'active_lock_reason': None, 'draft': False, 'pull_request': {'url': 'https://api.github.com/repos/microsoft/winget-pkgs/pulls/36210', 'html_url': 'https://github.com/microsoft/winget-pkgs/pull/36210', 'diff_url': 'https://github.com/microsoft/winget-pkgs/pull/36210.diff', 'patch_url': 'https://github.com/microsoft/winget-pkgs/pull/36210.patch', 'merged_at': '2022-03-01T12:41:52Z'}, 'body': 'null', 'reactions': {'url': 'https://api.github.com/repos/microsoft/winget-pkgs/issues/36210/reactions', 'total_count': 0, '+1': 0, '-1': 0, 'laugh': 0, 'hooray': 0, 'confused': 0, 'heart': 0, 'rocket': 0, 'eyes': 0}, 'timeline_url': 'https://api.github.com/repos/microsoft/winget-pkgs/issues/36210/timeline', 'performed_via_github_app': None}, 'comment': {'url': 'https://api.github.com/repos/microsoft/winget-pkgs/issues/comments/1055420196', 'html_url': 'https://github.com/microsoft/winget-pkgs/pull/36210#issuecomment-1055420196', 'issue_url': 'https://api.github.com/repos/microsoft/winget-pkgs/issues/36210', 'id': 1055420196, 'node_id': 'IC_kwDOC8Ivn84-6G8k', 'user': {'login': 'wingetbot', 'id': 63816999, 'node_id': 'MDQ6VXNlcjYzODE2OTk5', 'avatar_url': 'https://avatars.githubusercontent.com/u/63816999?v=4', 'gravatar_id': '', 'url': 'https://api.github.com/users/wingetbot', 'html_url': 'https://github.com/wingetbot', 'followers_url': 'https://api.github.com/users/wingetbot/followers', 'following_url': 'https://api.github.com/users/wingetbot/following{/other_user}', 'gists_url': 'https://api.github.com/users/wingetbot/gists{/gist_id}', 'starred_url': 'https://api.github.com/users/wingetbot/starred{/owner}{/repo}', 'subscriptions_url': 'https://api.github.com/users/wingetbot/subscriptions', 'organizations_url': 'https://api.github.com/users/wingetbot/orgs', 'repos_url': 'https://api.github.com/users/wingetbot/repos', 'events_url': 'https://api.github.com/users/wingetbot/events{/privacy}', 'received_events_url': 'https://api.github.com/users/wingetbot/received_events', 'type': 'User', 'site_admin': False}, 'created_at': '2022-03-01T13:02:15Z', 'updated_at': '2022-03-01T13:02:15Z', 'author_association': 'COLLABORATOR', 'body': 'Publish pipeline succeeded for this Pull Request. Once you refresh your index, this change should be present.', 'reactions': {'url': 'https://api.github.com/repos/microsoft/winget-pkgs/issues/comments/1055420196/reactions', 'total_count': 0, '+1': 0, '-1': 0, 'laugh': 0, 'hooray': 0, 'confused': 0, 'heart': 0, 'rocket': 0, 'eyes': 0}, 'performed_via_github_app': None}}, 'public': True, 'created_at': '2022-03-01T13:02:15Z', 'org': {'id': 6154722, 'login': 'microsoft', 'gravatar_id': '', 'url': 'https://api.github.com/orgs/microsoft', 'avatar_url': 'https://avatars.githubusercontent.com/u/6154722?'}}, {'id': '20517176767', 'type': 'PushEvent', 'actor': {'id': 65473527, 'login': '15x15G', 'display_login': '15x15G', 'gravatar_id': '', 'url': 'https://api.github.com/users/15x15G', 'avatar_url': 'https://avatars.githubusercontent.com/u/65473527?'}, 'repo': {'id': 457667329, 'name': '15x15G/small-tools', 'url': 'https://api.github.com/repos/15x15G/small-tools'}, 'payload': {'push_id': 9232968410, 'size': 1, 'distinct_size': 1, 'ref': 'refs/heads/main', 'head': 'a31339fbe6c7ccc5f50a806e54bceefd5472d827', 'before': '0498bb08e9dcfba36dda4c2a2d7ebfe93ae42790', 'commits': [{'sha': 'a31339fbe6c7ccc5f50a806e54bceefd5472d827', 'author': {'email': '65473527+15x15G@users.noreply.github.com', 'name': '15x15g'}, 'message': 'use 7zg', 'distinct': True, 'url': 'https://api.github.com/repos/15x15G/small-tools/commits/a31339fbe6c7ccc5f50a806e54bceefd5472d827'}]}, 'public': True, 'created_at': '2022-03-01T13:02:16Z'}, {'id': '20517176783', 'type': 'PushEvent', 'actor': {'id': 40720, 'login': 'frsyuki', 'display_login': 'frsyuki', 'gravatar_id': '', 'url': 'https://api.github.com/users/frsyuki', 'avatar_url': 'https://avatars.githubusercontent.com/u/40720?'}, 'repo': {'id': 569327, 'name': 'msgpack/website', 'url': 'https://api.github.com/repos/msgpack/website'}, 'payload': {'push_id': 9232968432, 'size': 2, 'distinct_size': 2, 'ref': 'refs/heads/gh-pages', 'head': 'b34fd19628162ff6219fc934da412ace3f3c5856', 'before': '5532c8562f9caf8fcf4fa0994703174c7f9b9306', 'commits': [{'sha': '7361eb54b797dd1241e4e9edf84a48249d15e66d', 'author': {'email': 'frsyuki@users.sourceforge.jp', 'name': 'msgpck.org updator on heroku'}, 'message': 'updated index.html', 'distinct': True, 'url': 'https://api.github.com/repos/msgpack/website/commits/7361eb54b797dd1241e4e9edf84a48249d15e66d'}, {'sha': 'b34fd19628162ff6219fc934da412ace3f3c5856', 'author': {'email': 'frsyuki@users.sourceforge.jp', 'name': 'msgpck.org updator on heroku'}, 'message': 'updated ja.html', 'distinct': True, 'url': 'https://api.github.com/repos/msgpack/website/commits/b34fd19628162ff6219fc934da412ace3f3c5856'}]}, 'public': True, 'created_at': '2022-03-01T13:02:16Z', 'org': {'id': 198264, 'login': 'msgpack', 'gravatar_id': '', 'url': 'https://api.github.com/orgs/msgpack', 'avatar_url': 'https://avatars.githubusercontent.com/u/198264?'}}, {'id': '20517176816', 'type': 'PushEvent', 'actor': {'id': 29403676, 'login': 'magnetic2247', 'display_login': 'magnetic2247', 'gravatar_id': '', 'url': 'https://api.github.com/users/magnetic2247', 'avatar_url': 'https://avatars.githubusercontent.com/u/29403676?'}, 'repo': {'id': 464892215, 'name': 'magnetic2247/hkmpunixinstall', 'url': 'https://api.github.com/repos/magnetic2247/hkmpunixinstall'}, 'payload': {'push_id': 9232968449, 'size': 1, 'distinct_size': 1, 'ref': 'refs/heads/main', 'head': '927716e7a01179d6547c0398d1f76f278f2e308a', 'before': '429da6df47c68ad7c7584729da157d03c5740c55', 'commits': [{'sha': '927716e7a01179d6547c0398d1f76f278f2e308a', 'author': {'email': 'polisminus2247@tuta.io', 'name': 'Polis Minus'}, 'message': 'added script', 'distinct': True, 'url': 'https://api.github.com/repos/magnetic2247/hkmpunixinstall/commits/927716e7a01179d6547c0398d1f76f278f2e308a'}]}, 'public': True, 'created_at': '2022-03-01T13:02:16Z'}, {'id': '20517176801', 'type': 'CreateEvent', 'actor': {'id': 86885431, 'login': 'zoza99', 'display_login': 'zoza99', 'gravatar_id': '', 'url': 'https://api.github.com/users/zoza99', 'avatar_url': 'https://avatars.githubusercontent.com/u/86885431?'}, 'repo': {'id': 464895200, 'name': 'zoza99/tattel_analysis', 'url': 'https://api.github.com/repos/zoza99/tattel_analysis'}, 'payload': {'ref': 'master', 'ref_type': 'branch', 'master_branch': 'master', 'description': None, 'pusher_type': 'user'}, 'public': True, 'created_at': '2022-03-01T13:02:16Z'}, {'id': '20517176794', 'type': 'PushEvent', 'actor': {'id': 23714726, 'login': 'zclgni', 'display_login': 'zclgni', 'gravatar_id': '', 'url': 'https://api.github.com/users/zclgni', 'avatar_url': 'https://avatars.githubusercontent.com/u/23714726?'}, 'repo': {'id': 146474333, 'name': 'zclgni/tbcut', 'url': 'https://api.github.com/repos/zclgni/tbcut'}, 'payload': {'push_id': 9232968436, 'size': 1, 'distinct_size': 1, 'ref': 'refs/heads/master', 'head': '1c2588b08b6c3109275bdf86b64555d2029ff00a', 'before': 'a8fcb4f88ca61b3b3fd6123586471ee9b6983e74', 'commits': [{'sha': '1c2588b08b6c3109275bdf86b64555d2029ff00a', 'author': {'email': '786575907@qq.com', 'name': 'Pikking'}, 'message': 'Add File 2203011646139732.log', 'distinct': True, 'url': 'https://api.github.com/repos/zclgni/tbcut/commits/1c2588b08b6c3109275bdf86b64555d2029ff00a'}]}, 'public': True, 'created_at': '2022-03-01T13:02:16Z'}]\n"
     ]
    }
   ],
   "source": [
    "print(r.json())"
   ]
  },
  {
   "cell_type": "raw",
   "id": "1546c909",
   "metadata": {},
   "source": [
    "package populer :\n",
    "ipython\n",
    "flash\n",
    "beautiful sub\n",
    "pygame\n",
    "pips"
   ]
  },
  {
   "cell_type": "code",
   "execution_count": 172,
   "id": "709a6e6f",
   "metadata": {},
   "outputs": [
    {
     "name": "stdout",
     "output_type": "stream",
     "text": [
      "15\n"
     ]
    }
   ],
   "source": [
    "#quiz\n",
    "def outerFun(a,b):\n",
    "    def innerFun(c,d):\n",
    "        return c + d\n",
    "    return innerFun(a,b)\n",
    "res = outerFun(5,10) \n",
    "print(res)"
   ]
  },
  {
   "cell_type": "markdown",
   "id": "138cc37a",
   "metadata": {},
   "source": [
    " # Numpy"
   ]
  },
  {
   "cell_type": "code",
   "execution_count": 178,
   "id": "a054f5f9",
   "metadata": {},
   "outputs": [
    {
     "ename": "TypeError",
     "evalue": "unsupported operand type(s) for ** or pow(): 'list' and 'int'",
     "output_type": "error",
     "traceback": [
      "\u001b[1;31m---------------------------------------------------------------------------\u001b[0m",
      "\u001b[1;31mTypeError\u001b[0m                                 Traceback (most recent call last)",
      "\u001b[1;32m~\\AppData\\Local\\Temp/ipykernel_18704/759699692.py\u001b[0m in \u001b[0;36m<module>\u001b[1;34m\u001b[0m\n\u001b[0;32m      1\u001b[0m \u001b[0mheight\u001b[0m \u001b[1;33m=\u001b[0m \u001b[1;33m[\u001b[0m\u001b[1;36m1.75\u001b[0m\u001b[1;33m,\u001b[0m \u001b[1;36m1.68\u001b[0m\u001b[1;33m,\u001b[0m \u001b[1;36m1.8\u001b[0m\u001b[1;33m,\u001b[0m \u001b[1;36m1.81\u001b[0m\u001b[1;33m,\u001b[0m \u001b[1;36m1.69\u001b[0m\u001b[1;33m]\u001b[0m\u001b[1;33m\u001b[0m\u001b[1;33m\u001b[0m\u001b[0m\n\u001b[0;32m      2\u001b[0m \u001b[0mweight\u001b[0m \u001b[1;33m=\u001b[0m \u001b[1;33m[\u001b[0m\u001b[1;36m66.4\u001b[0m\u001b[1;33m,\u001b[0m \u001b[1;36m49.22\u001b[0m\u001b[1;33m,\u001b[0m \u001b[1;36m66.3\u001b[0m\u001b[1;33m,\u001b[0m \u001b[1;36m88.56\u001b[0m\u001b[1;33m,\u001b[0m \u001b[1;36m65.4\u001b[0m\u001b[1;33m]\u001b[0m\u001b[1;33m\u001b[0m\u001b[1;33m\u001b[0m\u001b[0m\n\u001b[1;32m----> 3\u001b[1;33m \u001b[0mweight\u001b[0m\u001b[1;33m/\u001b[0m \u001b[0mheight\u001b[0m \u001b[1;33m**\u001b[0m \u001b[1;36m2\u001b[0m\u001b[1;33m\u001b[0m\u001b[1;33m\u001b[0m\u001b[0m\n\u001b[0m",
      "\u001b[1;31mTypeError\u001b[0m: unsupported operand type(s) for ** or pow(): 'list' and 'int'"
     ]
    }
   ],
   "source": [
    "height = [1.75, 1.68, 1.8, 1.81, 1.69]\n",
    "weight = [66.4, 49.22, 66.3, 88.56, 65.4]\n",
    "weight/ height ** 2"
   ]
  },
  {
   "cell_type": "raw",
   "id": "22609209",
   "metadata": {},
   "source": [
    "!pip install numpy"
   ]
  },
  {
   "cell_type": "code",
   "execution_count": 177,
   "id": "038722c1",
   "metadata": {},
   "outputs": [],
   "source": [
    "import numpy as np"
   ]
  },
  {
   "cell_type": "code",
   "execution_count": 180,
   "id": "1d30d4e3",
   "metadata": {},
   "outputs": [],
   "source": [
    "height = [1.75, 1.68, 1.8, 1.81, 1.69]\n",
    "weight = [66.4, 49.22, 66.3, 88.56, 65.4]\n",
    "np_height = np.array(height)\n",
    "np_weight = np.array(weight)\n",
    "bmi = np_weight/np_height ** 2"
   ]
  },
  {
   "cell_type": "code",
   "execution_count": 181,
   "id": "5d844850",
   "metadata": {},
   "outputs": [
    {
     "name": "stdout",
     "output_type": "stream",
     "text": [
      "[21.68163265 17.43905896 20.46296296 27.03214188 22.8983579 ]\n"
     ]
    }
   ],
   "source": [
    "print(bmi)"
   ]
  },
  {
   "cell_type": "markdown",
   "id": "bb57694c",
   "metadata": {},
   "source": [
    "hanya dapat menampung 1 tipe data, apabila memiliki tipe data yang berbeda maka akan dikonversi menjadi 1 tipe data yang sama (string). "
   ]
  },
  {
   "cell_type": "code",
   "execution_count": 182,
   "id": "fbe9e9d3",
   "metadata": {},
   "outputs": [
    {
     "name": "stdout",
     "output_type": "stream",
     "text": [
      "['1.0' 'is' 'True']\n"
     ]
    }
   ],
   "source": [
    "mixed_array = np.array([1.0, 'is', True])\n",
    "print(mixed_array)"
   ]
  },
  {
   "cell_type": "markdown",
   "id": "1b165d6e",
   "metadata": {},
   "source": [
    "menjumlahkan isi array"
   ]
  },
  {
   "cell_type": "code",
   "execution_count": 183,
   "id": "bb98ff7f",
   "metadata": {},
   "outputs": [
    {
     "data": {
      "text/plain": [
       "[1, 2, 3, 1, 2, 3]"
      ]
     },
     "execution_count": 183,
     "metadata": {},
     "output_type": "execute_result"
    }
   ],
   "source": [
    "numlist = [1,2,3]\n",
    "nparray = np.array([1,2,3])\n",
    "numlist + numlist"
   ]
  },
  {
   "cell_type": "code",
   "execution_count": 184,
   "id": "d326636e",
   "metadata": {},
   "outputs": [
    {
     "data": {
      "text/plain": [
       "array([21.68163265, 17.43905896, 20.46296296, 27.03214188, 22.8983579 ])"
      ]
     },
     "execution_count": 184,
     "metadata": {},
     "output_type": "execute_result"
    }
   ],
   "source": [
    "bmi"
   ]
  },
  {
   "cell_type": "code",
   "execution_count": 185,
   "id": "2c8b92f0",
   "metadata": {},
   "outputs": [
    {
     "data": {
      "text/plain": [
       "array([False, False, False,  True, False])"
      ]
     },
     "execution_count": 185,
     "metadata": {},
     "output_type": "execute_result"
    }
   ],
   "source": [
    "bmi > 24"
   ]
  },
  {
   "cell_type": "code",
   "execution_count": 186,
   "id": "745c0b33",
   "metadata": {},
   "outputs": [
    {
     "data": {
      "text/plain": [
       "array([27.03214188])"
      ]
     },
     "execution_count": 186,
     "metadata": {},
     "output_type": "execute_result"
    }
   ],
   "source": [
    "bmi[bmi>24]"
   ]
  },
  {
   "cell_type": "markdown",
   "id": "6afce8ad",
   "metadata": {},
   "source": [
    "## Array 2D"
   ]
  },
  {
   "cell_type": "code",
   "execution_count": 187,
   "id": "44bbf4d0",
   "metadata": {},
   "outputs": [
    {
     "data": {
      "text/plain": [
       "numpy.ndarray"
      ]
     },
     "execution_count": 187,
     "metadata": {},
     "output_type": "execute_result"
    }
   ],
   "source": [
    "height = np.array([1.75, 1.68, 1.8])\n",
    "weight = np.array([66.4, 49.22, 66.3])\n",
    "type(height)"
   ]
  },
  {
   "cell_type": "code",
   "execution_count": 189,
   "id": "48154ea0",
   "metadata": {},
   "outputs": [
    {
     "data": {
      "text/plain": [
       "array([[ 1.75,  1.68,  1.8 ],\n",
       "       [66.4 , 49.22, 66.3 ]])"
      ]
     },
     "execution_count": 189,
     "metadata": {},
     "output_type": "execute_result"
    }
   ],
   "source": [
    "np_2d = np.array ([[1.75, 1.68, 1.8],\n",
    "                  [66.4, 49.22, 66.3]])\n",
    "np_2d"
   ]
  },
  {
   "cell_type": "code",
   "execution_count": 190,
   "id": "d7100ef3",
   "metadata": {},
   "outputs": [
    {
     "data": {
      "text/plain": [
       "(2, 3)"
      ]
     },
     "execution_count": 190,
     "metadata": {},
     "output_type": "execute_result"
    }
   ],
   "source": [
    "np_2d.shape"
   ]
  },
  {
   "cell_type": "code",
   "execution_count": 193,
   "id": "e7cd2f6d",
   "metadata": {},
   "outputs": [
    {
     "name": "stdout",
     "output_type": "stream",
     "text": [
      "[1.75 1.68 1.8 ]\n",
      "1.8\n"
     ]
    }
   ],
   "source": [
    "# subsetting\n",
    "print(np_2d[0])\n",
    "print(np_2d[0][2])"
   ]
  },
  {
   "cell_type": "code",
   "execution_count": 194,
   "id": "5e133c78",
   "metadata": {},
   "outputs": [
    {
     "data": {
      "text/plain": [
       "array([[ 1.68,  1.8 ],\n",
       "       [49.22, 66.3 ]])"
      ]
     },
     "execution_count": 194,
     "metadata": {},
     "output_type": "execute_result"
    }
   ],
   "source": [
    "np_2d[:,1:3]"
   ]
  },
  {
   "cell_type": "code",
   "execution_count": 195,
   "id": "52978bfb",
   "metadata": {},
   "outputs": [
    {
     "data": {
      "text/plain": [
       "array([66.4 , 49.22, 66.3 ])"
      ]
     },
     "execution_count": 195,
     "metadata": {},
     "output_type": "execute_result"
    }
   ],
   "source": [
    "np_2d[1,:]"
   ]
  },
  {
   "cell_type": "code",
   "execution_count": 206,
   "id": "465149f6",
   "metadata": {},
   "outputs": [
    {
     "name": "stdout",
     "output_type": "stream",
     "text": [
      "['idaz' 'anggara']\n",
      "[['idaz' 'anggara']]\n"
     ]
    },
    {
     "ename": "TypeError",
     "evalue": "'numpy.ndarray' object is not callable",
     "output_type": "error",
     "traceback": [
      "\u001b[1;31m---------------------------------------------------------------------------\u001b[0m",
      "\u001b[1;31mTypeError\u001b[0m                                 Traceback (most recent call last)",
      "\u001b[1;32m~\\AppData\\Local\\Temp/ipykernel_18704/2301384237.py\u001b[0m in \u001b[0;36m<module>\u001b[1;34m\u001b[0m\n\u001b[0;32m      3\u001b[0m \u001b[0mprint\u001b[0m\u001b[1;33m(\u001b[0m\u001b[0mnames\u001b[0m\u001b[1;33m[\u001b[0m\u001b[1;36m0\u001b[0m\u001b[1;33m]\u001b[0m\u001b[1;33m)\u001b[0m\u001b[1;33m\u001b[0m\u001b[1;33m\u001b[0m\u001b[0m\n\u001b[0;32m      4\u001b[0m \u001b[0mprint\u001b[0m\u001b[1;33m(\u001b[0m\u001b[0mnames\u001b[0m\u001b[1;33m[\u001b[0m\u001b[1;33m[\u001b[0m\u001b[1;36m0\u001b[0m\u001b[1;33m]\u001b[0m\u001b[1;33m]\u001b[0m\u001b[1;33m)\u001b[0m\u001b[1;33m\u001b[0m\u001b[1;33m\u001b[0m\u001b[0m\n\u001b[1;32m----> 5\u001b[1;33m \u001b[0mprint\u001b[0m\u001b[1;33m(\u001b[0m\u001b[0mnames\u001b[0m\u001b[1;33m(\u001b[0m\u001b[1;36m0\u001b[0m\u001b[1;33m)\u001b[0m\u001b[1;33m)\u001b[0m\u001b[1;33m\u001b[0m\u001b[1;33m\u001b[0m\u001b[0m\n\u001b[0m",
      "\u001b[1;31mTypeError\u001b[0m: 'numpy.ndarray' object is not callable"
     ]
    }
   ],
   "source": [
    "names = np.array([['idaz','anggara'],\n",
    "                 ['dear', 'kurniawan']])\n",
    "print(names[0])\n",
    "print(names[[0]])\n",
    "print(names(0))"
   ]
  },
  {
   "cell_type": "markdown",
   "id": "6d489dbb",
   "metadata": {},
   "source": [
    "## Statistik Dasar dengan Numpy"
   ]
  },
  {
   "cell_type": "code",
   "execution_count": 196,
   "id": "dafbd552",
   "metadata": {},
   "outputs": [
    {
     "data": {
      "text/plain": [
       "array([1.74, 2.17, 1.63, ..., 1.56, 1.92, 1.61])"
      ]
     },
     "execution_count": 196,
     "metadata": {},
     "output_type": "execute_result"
    }
   ],
   "source": [
    "height = np.round(np.random.normal(1.73, 0.2, 5000),2)\n",
    "height"
   ]
  },
  {
   "cell_type": "code",
   "execution_count": 197,
   "id": "23b90160",
   "metadata": {},
   "outputs": [
    {
     "data": {
      "text/plain": [
       "5000"
      ]
     },
     "execution_count": 197,
     "metadata": {},
     "output_type": "execute_result"
    }
   ],
   "source": [
    "len(height)"
   ]
  },
  {
   "cell_type": "code",
   "execution_count": 198,
   "id": "6cf80f65",
   "metadata": {},
   "outputs": [
    {
     "data": {
      "text/plain": [
       "array([67.02, 51.94, 72.89, ..., 84.87, 80.64, 65.57])"
      ]
     },
     "execution_count": 198,
     "metadata": {},
     "output_type": "execute_result"
    }
   ],
   "source": [
    "weight = np.round(np.random.normal(60.32, 15, 5000),2)\n",
    "weight"
   ]
  },
  {
   "cell_type": "code",
   "execution_count": 199,
   "id": "6eafb158",
   "metadata": {},
   "outputs": [
    {
     "data": {
      "text/plain": [
       "5000"
      ]
     },
     "execution_count": 199,
     "metadata": {},
     "output_type": "execute_result"
    }
   ],
   "source": [
    "len(weight)"
   ]
  },
  {
   "cell_type": "code",
   "execution_count": 200,
   "id": "9acbf406",
   "metadata": {},
   "outputs": [],
   "source": [
    "np_city = np.column_stack((height, weight))"
   ]
  },
  {
   "cell_type": "code",
   "execution_count": 203,
   "id": "5cd6d202",
   "metadata": {},
   "outputs": [
    {
     "data": {
      "text/plain": [
       "1.732074"
      ]
     },
     "execution_count": 203,
     "metadata": {},
     "output_type": "execute_result"
    }
   ],
   "source": [
    "np.mean(np_city[:,0])"
   ]
  },
  {
   "cell_type": "code",
   "execution_count": 202,
   "id": "90eb6959",
   "metadata": {},
   "outputs": [
    {
     "data": {
      "text/plain": [
       "34.379999999999995"
      ]
     },
     "execution_count": 202,
     "metadata": {},
     "output_type": "execute_result"
    }
   ],
   "source": [
    "np.mean(np_city[0,:])"
   ]
  },
  {
   "cell_type": "code",
   "execution_count": 204,
   "id": "f95e1356",
   "metadata": {},
   "outputs": [
    {
     "data": {
      "text/plain": [
       "1.74"
      ]
     },
     "execution_count": 204,
     "metadata": {},
     "output_type": "execute_result"
    }
   ],
   "source": [
    "np.median(np_city[:,0])"
   ]
  },
  {
   "cell_type": "code",
   "execution_count": 205,
   "id": "aee13936",
   "metadata": {},
   "outputs": [
    {
     "data": {
      "text/plain": [
       "0.19839687125557198"
      ]
     },
     "execution_count": 205,
     "metadata": {},
     "output_type": "execute_result"
    }
   ],
   "source": [
    "np.std(np_city[:,0])"
   ]
  }
 ],
 "metadata": {
  "kernelspec": {
   "display_name": "Python 3 (ipykernel)",
   "language": "python",
   "name": "python3"
  },
  "language_info": {
   "codemirror_mode": {
    "name": "ipython",
    "version": 3
   },
   "file_extension": ".py",
   "mimetype": "text/x-python",
   "name": "python",
   "nbconvert_exporter": "python",
   "pygments_lexer": "ipython3",
   "version": "3.9.7"
  }
 },
 "nbformat": 4,
 "nbformat_minor": 5
}
